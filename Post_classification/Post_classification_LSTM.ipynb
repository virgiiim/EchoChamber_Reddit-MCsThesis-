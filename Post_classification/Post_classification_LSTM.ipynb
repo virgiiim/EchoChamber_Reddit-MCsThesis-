{
  "nbformat": 4,
  "nbformat_minor": 0,
  "metadata": {
    "accelerator": "GPU",
    "colab": {
      "name": "Post_classification_LSTM.ipynb",
      "provenance": [],
      "collapsed_sections": [
        "_5_AaFWrb8OR",
        "_j4xE052b8Pi",
        "YxuIo7tuQNlL",
        "l94HwEC5pPCM",
        "3wSvY8jOpYnr",
        "hgOXpO3SqMg9"
      ]
    },
    "kernelspec": {
      "display_name": "Python 3",
      "language": "python",
      "name": "python3"
    },
    "language_info": {
      "codemirror_mode": {
        "name": "ipython",
        "version": 3
      },
      "file_extension": ".py",
      "mimetype": "text/x-python",
      "name": "python",
      "nbconvert_exporter": "python",
      "pygments_lexer": "ipython3",
      "version": "3.6.5"
    }
  },
  "cells": [
    {
      "cell_type": "markdown",
      "metadata": {
        "id": "1nCyfBvcb8NQ",
        "colab_type": "text"
      },
      "source": [
        "## Text classification with Word embeddings and LSTM"
      ]
    },
    {
      "cell_type": "code",
      "metadata": {
        "colab_type": "code",
        "id": "2xxBSNMtcict",
        "outputId": "f891e5f0-9b39-4b20-a48e-be4a38638a21",
        "colab": {
          "base_uri": "https://localhost:8080/",
          "height": 126
        }
      },
      "source": [
        "from google.colab import drive\n",
        "drive.mount('/content/gdrive')"
      ],
      "execution_count": 2,
      "outputs": [
        {
          "output_type": "stream",
          "text": [
            "Go to this URL in a browser: https://accounts.google.com/o/oauth2/auth?client_id=947318989803-6bn6qk8qdgf4n4g3pfee6491hc0brc4i.apps.googleusercontent.com&redirect_uri=urn%3aietf%3awg%3aoauth%3a2.0%3aoob&response_type=code&scope=email%20https%3a%2f%2fwww.googleapis.com%2fauth%2fdocs.test%20https%3a%2f%2fwww.googleapis.com%2fauth%2fdrive%20https%3a%2f%2fwww.googleapis.com%2fauth%2fdrive.photos.readonly%20https%3a%2f%2fwww.googleapis.com%2fauth%2fpeopleapi.readonly\n",
            "\n",
            "Enter your authorization code:\n",
            "··········\n",
            "Mounted at /content/gdrive\n"
          ],
          "name": "stdout"
        }
      ]
    },
    {
      "cell_type": "code",
      "metadata": {
        "colab_type": "code",
        "id": "Jgx-ABDSHUoE",
        "scrolled": false,
        "outputId": "dd0c07c8-f1dc-4bf6-af2c-dcbd3a672861",
        "colab": {
          "base_uri": "https://localhost:8080/",
          "height": 532
        }
      },
      "source": [
        "!pip install tensorflow==1.12.0"
      ],
      "execution_count": 0,
      "outputs": [
        {
          "output_type": "stream",
          "text": [
            "Collecting tensorflow==1.12.0\n",
            "\u001b[?25l  Downloading https://files.pythonhosted.org/packages/22/cc/ca70b78087015d21c5f3f93694107f34ebccb3be9624385a911d4b52ecef/tensorflow-1.12.0-cp36-cp36m-manylinux1_x86_64.whl (83.1MB)\n",
            "\u001b[K     |████████████████████████████████| 83.1MB 1.2MB/s \n",
            "\u001b[?25hRequirement already satisfied: astor>=0.6.0 in /usr/local/lib/python3.6/dist-packages (from tensorflow==1.12.0) (0.8.1)\n",
            "Requirement already satisfied: wheel>=0.26 in /usr/local/lib/python3.6/dist-packages (from tensorflow==1.12.0) (0.33.6)\n",
            "Requirement already satisfied: six>=1.10.0 in /usr/local/lib/python3.6/dist-packages (from tensorflow==1.12.0) (1.12.0)\n",
            "Requirement already satisfied: keras-preprocessing>=1.0.5 in /usr/local/lib/python3.6/dist-packages (from tensorflow==1.12.0) (1.1.0)\n",
            "Requirement already satisfied: numpy>=1.13.3 in /usr/local/lib/python3.6/dist-packages (from tensorflow==1.12.0) (1.17.4)\n",
            "Requirement already satisfied: gast>=0.2.0 in /usr/local/lib/python3.6/dist-packages (from tensorflow==1.12.0) (0.2.2)\n",
            "Requirement already satisfied: protobuf>=3.6.1 in /usr/local/lib/python3.6/dist-packages (from tensorflow==1.12.0) (3.10.0)\n",
            "Requirement already satisfied: termcolor>=1.1.0 in /usr/local/lib/python3.6/dist-packages (from tensorflow==1.12.0) (1.1.0)\n",
            "Collecting tensorboard<1.13.0,>=1.12.0\n",
            "\u001b[?25l  Downloading https://files.pythonhosted.org/packages/07/53/8d32ce9471c18f8d99028b7cef2e5b39ea8765bd7ef250ca05b490880971/tensorboard-1.12.2-py3-none-any.whl (3.0MB)\n",
            "\u001b[K     |████████████████████████████████| 3.1MB 51.6MB/s \n",
            "\u001b[?25hRequirement already satisfied: grpcio>=1.8.6 in /usr/local/lib/python3.6/dist-packages (from tensorflow==1.12.0) (1.15.0)\n",
            "Requirement already satisfied: absl-py>=0.1.6 in /usr/local/lib/python3.6/dist-packages (from tensorflow==1.12.0) (0.8.1)\n",
            "Requirement already satisfied: keras-applications>=1.0.6 in /usr/local/lib/python3.6/dist-packages (from tensorflow==1.12.0) (1.0.8)\n",
            "Requirement already satisfied: setuptools in /usr/local/lib/python3.6/dist-packages (from protobuf>=3.6.1->tensorflow==1.12.0) (42.0.2)\n",
            "Requirement already satisfied: werkzeug>=0.11.10 in /usr/local/lib/python3.6/dist-packages (from tensorboard<1.13.0,>=1.12.0->tensorflow==1.12.0) (0.16.0)\n",
            "Requirement already satisfied: markdown>=2.6.8 in /usr/local/lib/python3.6/dist-packages (from tensorboard<1.13.0,>=1.12.0->tensorflow==1.12.0) (3.1.1)\n",
            "Requirement already satisfied: h5py in /usr/local/lib/python3.6/dist-packages (from keras-applications>=1.0.6->tensorflow==1.12.0) (2.8.0)\n",
            "Installing collected packages: tensorboard, tensorflow\n",
            "  Found existing installation: tensorboard 1.15.0\n",
            "    Uninstalling tensorboard-1.15.0:\n",
            "      Successfully uninstalled tensorboard-1.15.0\n",
            "  Found existing installation: tensorflow 1.15.0\n",
            "    Uninstalling tensorflow-1.15.0:\n",
            "      Successfully uninstalled tensorflow-1.15.0\n",
            "Successfully installed tensorboard-1.12.2 tensorflow-1.12.0\n"
          ],
          "name": "stdout"
        }
      ]
    },
    {
      "cell_type": "code",
      "metadata": {
        "colab_type": "code",
        "id": "6hPONbXlqTXa",
        "outputId": "f95ab18e-bb93-42b2-ee06-353c92c7703c",
        "colab": {
          "base_uri": "https://localhost:8080/",
          "height": 117
        }
      },
      "source": [
        "#Tensorflow\n",
        "import tensorflow as tf\n",
        "# Keras\n",
        "import keras\n",
        "from keras.preprocessing.text import Tokenizer\n",
        "from keras.preprocessing.sequence import pad_sequences\n",
        "from keras.models import Sequential, model_from_json\n",
        "from keras.layers import Dense, Flatten, LSTM, Conv1D, MaxPooling1D, Dropout, Activation\n",
        "from keras.layers.embeddings import Embedding\n",
        "from keras.callbacks import EarlyStopping\n",
        "\n",
        "#Scikit-learn \n",
        "from sklearn.model_selection import GridSearchCV\n",
        "from keras.wrappers.scikit_learn import KerasClassifier\n",
        "\n",
        "#Nltk\n",
        "import nltk\n",
        "from nltk.corpus import stopwords\n",
        "from nltk.stem.snowball import SnowballStemmer\n",
        "nltk.download('stopwords')\n",
        "from nltk.corpus import stopwords\n",
        "\n",
        "# Others\n",
        "import pickle\n",
        "import string\n",
        "import numpy as np\n",
        "import pandas as pd\n",
        "import re\n",
        "import matplotlib.pyplot as plt \n",
        "import os\n",
        "os.environ['TF_CPP_MIN_LOG_LEVEL'] = '3'"
      ],
      "execution_count": 3,
      "outputs": [
        {
          "output_type": "display_data",
          "data": {
            "text/html": [
              "<p style=\"color: red;\">\n",
              "The default version of TensorFlow in Colab will soon switch to TensorFlow 2.x.<br>\n",
              "We recommend you <a href=\"https://www.tensorflow.org/guide/migrate\" target=\"_blank\">upgrade</a> now \n",
              "or ensure your notebook will continue to use TensorFlow 1.x via the <code>%tensorflow_version 1.x</code> magic:\n",
              "<a href=\"https://colab.research.google.com/notebooks/tensorflow_version.ipynb\" target=\"_blank\">more info</a>.</p>\n"
            ],
            "text/plain": [
              "<IPython.core.display.HTML object>"
            ]
          },
          "metadata": {
            "tags": []
          }
        },
        {
          "output_type": "stream",
          "text": [
            "Using TensorFlow backend.\n"
          ],
          "name": "stderr"
        },
        {
          "output_type": "stream",
          "text": [
            "[nltk_data] Downloading package stopwords to /root/nltk_data...\n",
            "[nltk_data]   Unzipping corpora/stopwords.zip.\n"
          ],
          "name": "stdout"
        }
      ]
    },
    {
      "cell_type": "markdown",
      "metadata": {
        "id": "_5_AaFWrb8OR",
        "colab_type": "text"
      },
      "source": [
        "## Data preparation "
      ]
    },
    {
      "cell_type": "code",
      "metadata": {
        "id": "BCE6MCQ2NviC",
        "colab_type": "code",
        "colab": {}
      },
      "source": [
        "#Loading training dataset\n",
        "with open('/content/gdrive/My Drive/Tesi/LDA2/Related/finale_LSTM.pickle', 'rb') as handle:\n",
        "    training_data = pickle.load(handle)"
      ],
      "execution_count": 0,
      "outputs": []
    },
    {
      "cell_type": "code",
      "metadata": {
        "id": "x_kxxR-7N5e_",
        "colab_type": "code",
        "outputId": "595276bb-5eb4-400b-9e10-080865cff539",
        "colab": {
          "base_uri": "https://localhost:8080/",
          "height": 204
        }
      },
      "source": [
        "training_data.head() #Balanced dataset: 166k record from SX (ETS and FAR), 160 from DX (T_D)"
      ],
      "execution_count": 0,
      "outputs": [
        {
          "output_type": "execute_result",
          "data": {
            "text/html": [
              "<div>\n",
              "<style scoped>\n",
              "    .dataframe tbody tr th:only-of-type {\n",
              "        vertical-align: middle;\n",
              "    }\n",
              "\n",
              "    .dataframe tbody tr th {\n",
              "        vertical-align: top;\n",
              "    }\n",
              "\n",
              "    .dataframe thead th {\n",
              "        text-align: right;\n",
              "    }\n",
              "</style>\n",
              "<table border=\"1\" class=\"dataframe\">\n",
              "  <thead>\n",
              "    <tr style=\"text-align: right;\">\n",
              "      <th></th>\n",
              "      <th>text</th>\n",
              "      <th>pol_leaning</th>\n",
              "    </tr>\n",
              "  </thead>\n",
              "  <tbody>\n",
              "    <tr>\n",
              "      <th>316946</th>\n",
              "      <td>Nothing to see here folks</td>\n",
              "      <td>0</td>\n",
              "    </tr>\n",
              "    <tr>\n",
              "      <th>261359</th>\n",
              "      <td>Get them while they're hot!</td>\n",
              "      <td>0</td>\n",
              "    </tr>\n",
              "    <tr>\n",
              "      <th>123106</th>\n",
              "      <td>Nope, guess again.</td>\n",
              "      <td>1</td>\n",
              "    </tr>\n",
              "    <tr>\n",
              "      <th>187302</th>\n",
              "      <td>We should just let Nazi's be if they don't lis...</td>\n",
              "      <td>0</td>\n",
              "    </tr>\n",
              "    <tr>\n",
              "      <th>51288</th>\n",
              "      <td>Let the Trump Campaign know we do not support ...</td>\n",
              "      <td>1</td>\n",
              "    </tr>\n",
              "  </tbody>\n",
              "</table>\n",
              "</div>"
            ],
            "text/plain": [
              "                                                     text  pol_leaning\n",
              "316946                         Nothing to see here folks             0\n",
              "261359                       Get them while they're hot!             0\n",
              "123106                                Nope, guess again.             1\n",
              "187302  We should just let Nazi's be if they don't lis...            0\n",
              "51288   Let the Trump Campaign know we do not support ...            1"
            ]
          },
          "metadata": {
            "tags": []
          },
          "execution_count": 8
        }
      ]
    },
    {
      "cell_type": "code",
      "metadata": {
        "id": "T7Dxj_aWP_-e",
        "colab_type": "code",
        "colab": {}
      },
      "source": [
        "t_features=training_data['text'] #features"
      ],
      "execution_count": 0,
      "outputs": []
    },
    {
      "cell_type": "code",
      "metadata": {
        "colab_type": "code",
        "id": "yDAJFbiD0_Ra",
        "colab": {}
      },
      "source": [
        "labels=training_data['pol_leaning'] #labels"
      ],
      "execution_count": 0,
      "outputs": []
    },
    {
      "cell_type": "markdown",
      "metadata": {
        "id": "_j4xE052b8Pi",
        "colab_type": "text"
      },
      "source": [
        "## FIRST ATTEMPT: Learning word embeddings directly from texts\n"
      ]
    },
    {
      "cell_type": "markdown",
      "metadata": {
        "id": "YxuIo7tuQNlL",
        "colab_type": "text"
      },
      "source": [
        "### Text Preprocessing"
      ]
    },
    {
      "cell_type": "code",
      "metadata": {
        "colab_type": "code",
        "id": "Zf5-eBvqnNTG",
        "colab": {}
      },
      "source": [
        "# Adding to the stopwords list typical reddit words\n",
        "stop_words = stopwords.words('english')\n",
        "stop_words.extend(['reddit','subreddit','upvote','downvote','sub'])"
      ],
      "execution_count": 0,
      "outputs": []
    },
    {
      "cell_type": "code",
      "metadata": {
        "colab_type": "code",
        "id": "H6IfSy5ynSFg",
        "colab": {}
      },
      "source": [
        "#Removing 'not' from NLTK stopwords list, I want to keep negations\n",
        "for elem in stop_words:\n",
        "  if elem == 'not':\n",
        "    stop_words.remove(elem)"
      ],
      "execution_count": 0,
      "outputs": []
    },
    {
      "cell_type": "code",
      "metadata": {
        "colab_type": "code",
        "id": "swdQw38BEK80",
        "colab": {}
      },
      "source": [
        "### Text Normalizing function\n",
        "def clean_text(text):\n",
        "    \n",
        "    ## Convert words to lower case and split them\n",
        "    text = text.lower().split()\n",
        "    \n",
        "    ## Remove stop words\n",
        "    stops = set(stop_words)\n",
        "    text = [w for w in text if not w in stops and len(w) >= 3]\n",
        "    \n",
        "    text = \" \".join(text)\n",
        "    ## Clean the text\n",
        "    text=re.sub('(http:\\/\\/www\\.|https:\\/\\/www\\.|http:\\/\\/|https:\\/\\/|www\\.)+(?:[a-zA-Z]|[0-9]|[$-_@.&+]|[!*\\(\\),]|(?:%[0-9a-fA-F][0-9a-fA-F]))+', '',text)\n",
        "    text= re.sub('r\\/','subred',text)\n",
        "    text = re.sub(r\"[^A-Za-z0-9^,!.\\/'+-=]\", \" \", text)\n",
        "    text = re.sub(r\"what's\", \"what is \", text)\n",
        "    text = re.sub(r\"\\'s\", \" \", text)\n",
        "    text = re.sub(r\"\\'ve\", \" have \", text)\n",
        "    text = re.sub(r\"n't\", \" not \", text)\n",
        "    text = re.sub(r\"i'm\", \"i am \", text)\n",
        "    text = re.sub(r\"\\'re\", \" are \", text)\n",
        "    text = re.sub(r\"\\'d\", \" would \", text)\n",
        "    text = re.sub(r\"\\'ll\", \" will \", text)\n",
        "    text = re.sub(r\",\", \" \", text)\n",
        "    text = re.sub(r\"\\.\", \" \", text)\n",
        "    text = re.sub(r\"!\", \" ! \", text)\n",
        "    text = re.sub(r\"\\/\", \" \", text)\n",
        "    text = re.sub(r\"\\^\", \" ^ \", text)\n",
        "    text = re.sub(r\"\\+\", \" + \", text)\n",
        "    text = re.sub(r\"\\-\", \" - \", text)\n",
        "    text = re.sub(r\"\\=\", \" = \", text)\n",
        "    \n",
        "    ## Remove puncuation\n",
        "    text = re.sub(r'[^\\w\\s]','',text)\n",
        "\n",
        "    ## Stemming\n",
        "    text = text.split()\n",
        "    stemmer = SnowballStemmer('english')\n",
        "    stemmed_words = [stemmer.stem(word) for word in text]\n",
        "    text = \" \".join(stemmed_words)\n",
        "    \n",
        "    return text"
      ],
      "execution_count": 0,
      "outputs": []
    },
    {
      "cell_type": "code",
      "metadata": {
        "colab_type": "code",
        "id": "_v4wY3aXla4J",
        "colab": {}
      },
      "source": [
        "# apply the above function to my texts\n",
        "t_features = t_features.map(lambda x: clean_text(x))"
      ],
      "execution_count": 0,
      "outputs": []
    },
    {
      "cell_type": "code",
      "metadata": {
        "colab_type": "code",
        "id": "_HBpYNvPntBn",
        "outputId": "f0f016e3-769d-4a60-8a5e-75147c9701dd",
        "colab": {
          "base_uri": "https://localhost:8080/",
          "height": 119
        }
      },
      "source": [
        "t_features.head()"
      ],
      "execution_count": 0,
      "outputs": [
        {
          "output_type": "execute_result",
          "data": {
            "text/plain": [
              "316946                                                             noth see folk\n",
              "261359                                                          get they are hot\n",
              "123106                                                          nope guess again\n",
              "187302                          let nazi listen tri deal them all differ opinion\n",
              "51288     let trump campaign know not support this centiped want legal marijuana\n",
              "Name: text, dtype: object"
            ]
          },
          "metadata": {
            "tags": []
          },
          "execution_count": 158
        }
      ]
    },
    {
      "cell_type": "code",
      "metadata": {
        "colab_type": "code",
        "id": "Wiiks6ALYBrs",
        "outputId": "d6953924-35c5-41d4-f1d6-d59c844f0344",
        "colab": {
          "base_uri": "https://localhost:8080/",
          "height": 170
        }
      },
      "source": [
        "info_text=t_features.map(lambda x: len(x)).describe() #info about submissions\n",
        "info_text"
      ],
      "execution_count": 0,
      "outputs": [
        {
          "output_type": "execute_result",
          "data": {
            "text/plain": [
              "count    326000.000000\n",
              "mean         95.224077\n",
              "std         290.859578\n",
              "min           0.000000\n",
              "25%          37.000000\n",
              "50%          58.000000\n",
              "75%          92.000000\n",
              "max       24521.000000\n",
              "Name: text, dtype: float64"
            ]
          },
          "metadata": {
            "tags": []
          },
          "execution_count": 160
        }
      ]
    },
    {
      "cell_type": "code",
      "metadata": {
        "colab_type": "code",
        "id": "PG0-Ki6yq7K6",
        "colab": {}
      },
      "source": [
        "### Tokenize text and Create sequence for LSTM\n",
        "tokenizer = Tokenizer() \n",
        "tokenizer.fit_on_texts(text1) #This method creates the vocabulary index based on word frequency (0 is reserved for padding)\n",
        "sequences = tokenizer.texts_to_sequences(text1) #This method transforms each text in texts to a sequence of integers (the index created before)\n",
        "data = pad_sequences(sequences, maxlen=80) #This method pads sequences to the same lenght (60)"
      ],
      "execution_count": 0,
      "outputs": []
    },
    {
      "cell_type": "code",
      "metadata": {
        "colab_type": "code",
        "id": "8GaFfsI04Qdz",
        "outputId": "1cfa9f03-8ed5-4263-e753-0c483816605d",
        "colab": {
          "base_uri": "https://localhost:8080/",
          "height": 34
        }
      },
      "source": [
        "num_types=len(tokenizer.word_index) #number of types in input dataset\n",
        "num_types"
      ],
      "execution_count": 0,
      "outputs": [
        {
          "output_type": "execute_result",
          "data": {
            "text/plain": [
              "143460"
            ]
          },
          "metadata": {
            "tags": []
          },
          "execution_count": 161
        }
      ]
    },
    {
      "cell_type": "markdown",
      "metadata": {
        "id": "oWuyGQhnb8SB",
        "colab_type": "text"
      },
      "source": [
        "### Scikit-learn Grid search"
      ]
    },
    {
      "cell_type": "markdown",
      "metadata": {
        "id": "WH5Ou3rRb8SF",
        "colab_type": "text"
      },
      "source": [
        "I have employed the scikit-learn Grid Search in order to tuning the following hyperparameters:\n",
        "* output_dim: number of dimension of the embeddings\n",
        "* units: number of units in the LSTM layer"
      ]
    },
    {
      "cell_type": "code",
      "metadata": {
        "colab_type": "code",
        "id": "3roK_tgkaSMp",
        "colab": {}
      },
      "source": [
        "# Function to create model, required for KerasClassifier\n",
        "def create_model(output_dim=50,units=32):\n",
        "  # create model\n",
        "    model = Sequential()\n",
        "    model.add(Embedding(num_types+1, output_dim=output_dim, input_length=80, mask_zero=True))\n",
        "    model.add(LSTM(units=units, dropout=0.3 recurrent_dropout=0.3))\n",
        "    model.add(Dense(1, activation='sigmoid'))\n",
        "    model.compile(loss='binary_crossentropy', optimizer='adam', metrics=['accuracy'])\n",
        "    return model\n",
        "\n",
        "# fix random seed for reproducibility\n",
        "seed = 7\n",
        "np.random.seed(seed)\n",
        "\n",
        "# split into input (X) and output (Y) variables\n",
        "X = data\n",
        "Y = labels\n",
        "\n",
        "# create model\n",
        "model = KerasClassifier(build_fn=create_model, epochs=7 , verbose=2)"
      ],
      "execution_count": 0,
      "outputs": []
    },
    {
      "cell_type": "code",
      "metadata": {
        "colab_type": "code",
        "id": "opNk3YAXbf2u",
        "colab": {}
      },
      "source": [
        "# patient early stopping\n",
        "es = EarlyStopping(monitor='loss', mode='auto', verbose=1, patience=2)\n",
        "\n",
        "# define the grid search parameters\n",
        "output_dim=[50,300] \n",
        "units=[32,128,256]\n",
        "param_grid = dict(output_dim=output_dim,  units=units )\n",
        "grid = GridSearchCV(estimator=model, param_grid=param_grid, n_jobs=1, cv=3, verbose=5)\n",
        "grid_result = grid.fit(X, Y, callbacks=[es])\n",
        "\n",
        "# summarize results\n",
        "print(\"Best: %f using %s\" % (grid_result.best_score_, grid_result.best_params_))\n",
        "means = grid_result.cv_results_['mean_test_score']\n",
        "stds = grid_result.cv_results_['std_test_score']\n",
        "params = grid_result.cv_results_['params']\n",
        "for mean, stdev, param in zip(means, stds, params):\n",
        "    print(\"%f (%f) with: %r\" % (mean, stdev, param))"
      ],
      "execution_count": 0,
      "outputs": []
    },
    {
      "cell_type": "markdown",
      "metadata": {
        "id": "rscZLm42b8SL",
        "colab_type": "text"
      },
      "source": [
        "Grid Search results\n",
        "\n",
        "    Best: 0.815936 using {'dropout': 0.3, 'output_dim': 50, 'units': 32}\n",
        "    0.815936 (0.001021) with: {'dropout': 0.3, 'output_dim': 50, 'units': 32}\n",
        "    0.813607 (0.001910) with: {'dropout': 0.3, 'output_dim': 50, 'units': 128}\n",
        "    0.813285 (0.001278) with: {'dropout': 0.3, 'output_dim': 50, 'units': 256}\n",
        "    0.807304 (0.001459) with: {'dropout': 0.3, 'output_dim': 300, 'units': 32}\n",
        "    0.808141 (0.001458) with: {'dropout': 0.3, 'output_dim': 300, 'units': 128}\n",
        "    0.805739 (0.002262) with: {'dropout': 0.3, 'output_dim': 300, 'units': 256}"
      ]
    },
    {
      "cell_type": "markdown",
      "metadata": {
        "id": "f0JyYkdpb8SL",
        "colab_type": "text"
      },
      "source": [
        "Plotting gridsearch result"
      ]
    },
    {
      "cell_type": "code",
      "metadata": {
        "id": "eH1RVgJ3b8SM",
        "colab_type": "code",
        "outputId": "efc8585f-c26d-46b7-dfc0-a63ae717316d",
        "colab": {
          "base_uri": "https://localhost:8080/",
          "height": 313
        }
      },
      "source": [
        "#embedding units fixed (50)\n",
        "plt.plot ([32,128,256],[81.59,81.36,81.32],\"o-\")\n",
        "plt.grid( linestyle='--')\n",
        "plt.xlabel('LSTM units')\n",
        "plt.ylabel('Accuracy')\n",
        "plt.title('Embedding fixed (50 units), dropout=0.3')"
      ],
      "execution_count": 0,
      "outputs": [
        {
          "output_type": "execute_result",
          "data": {
            "text/plain": [
              "Text(0.5, 1.0, 'Embedding fixed (50 units), dropout=0.3')"
            ]
          },
          "metadata": {
            "tags": []
          },
          "execution_count": 36
        },
        {
          "output_type": "display_data",
          "data": {
            "image/png": "[encoded data removed]",
            "text/plain": [
              "<Figure size 432x288 with 1 Axes>"
            ]
          },
          "metadata": {
            "tags": []
          }
        }
      ]
    },
    {
      "cell_type": "code",
      "metadata": {
        "id": "U1CHFFplb8SO",
        "colab_type": "code",
        "outputId": "40262fb6-db36-45a1-fd93-3424f3b1ec92",
        "colab": {
          "base_uri": "https://localhost:8080/",
          "height": 313
        }
      },
      "source": [
        "#embedding units fixed (300)\n",
        "plt.plot ([32,128,256],[80.73,80.81,80.57],\"o-\")\n",
        "plt.grid( linestyle='--')\n",
        "plt.xlabel('LSTM units')\n",
        "plt.ylabel('Accuracy')\n",
        "plt.title('Embedding fixed (300 units), dropout=0.3')"
      ],
      "execution_count": 0,
      "outputs": [
        {
          "output_type": "execute_result",
          "data": {
            "text/plain": [
              "Text(0.5, 1.0, 'Embedding fixed (300 units), dropout=0.3')"
            ]
          },
          "metadata": {
            "tags": []
          },
          "execution_count": 37
        },
        {
          "output_type": "display_data",
          "data": {
            "image/png": "[encoded data removed]",
            "text/plain": [
              "<Figure size 432x288 with 1 Axes>"
            ]
          },
          "metadata": {
            "tags": []
          }
        }
      ]
    },
    {
      "cell_type": "markdown",
      "metadata": {
        "id": "sL2GYB7knRMG",
        "colab_type": "text"
      },
      "source": [
        "### Best model with learned embeddings"
      ]
    },
    {
      "cell_type": "markdown",
      "metadata": {
        "id": "frO77buHnZux",
        "colab_type": "text"
      },
      "source": [
        "I tried with an higher number of LSTM units (80) and I obtained a better accuracy and loss"
      ]
    },
    {
      "cell_type": "code",
      "metadata": {
        "colab_type": "code",
        "id": "Txf2lImBrJDY",
        "outputId": "fdc51036-cf73-4398-c94b-7e7081517a34",
        "colab": {
          "base_uri": "https://localhost:8080/",
          "height": 766
        }
      },
      "source": [
        "#early stopping\n",
        "es = EarlyStopping(monitor='val_loss', mode='min', patience=5, verbose=1)\n",
        "## Network architecture\n",
        "model = Sequential()\n",
        "model.add(Embedding(num_types+1, 80, input_length=80, mask_zero=True))\n",
        "model.add(LSTM(80, dropout=0.3, recurrent_dropout=0.3))\n",
        "model.add(Dense(1, activation='sigmoid'))\n",
        "model.compile(loss='binary_crossentropy', optimizer='adam', metrics=['accuracy'])\n",
        "## Fit the model\n",
        "history=model.fit(data, np.array(labels), validation_split=0.2, epochs=4, shuffle=True ,callbacks=[es])"
      ],
      "execution_count": 0,
      "outputs": [
        {
          "output_type": "stream",
          "text": [
            "WARNING:tensorflow:From /usr/local/lib/python3.6/dist-packages/keras/backend/tensorflow_backend.py:541: The name tf.placeholder is deprecated. Please use tf.compat.v1.placeholder instead.\n",
            "\n",
            "WARNING:tensorflow:From /usr/local/lib/python3.6/dist-packages/keras/backend/tensorflow_backend.py:4432: The name tf.random_uniform is deprecated. Please use tf.random.uniform instead.\n",
            "\n",
            "WARNING:tensorflow:From /usr/local/lib/python3.6/dist-packages/keras/backend/tensorflow_backend.py:148: The name tf.placeholder_with_default is deprecated. Please use tf.compat.v1.placeholder_with_default instead.\n",
            "\n",
            "WARNING:tensorflow:From /usr/local/lib/python3.6/dist-packages/keras/backend/tensorflow_backend.py:3733: calling dropout (from tensorflow.python.ops.nn_ops) with keep_prob is deprecated and will be removed in a future version.\n",
            "Instructions for updating:\n",
            "Please use `rate` instead of `keep_prob`. Rate should be set to `rate = 1 - keep_prob`.\n",
            "WARNING:tensorflow:From /usr/local/lib/python3.6/dist-packages/keras/backend/tensorflow_backend.py:3239: where (from tensorflow.python.ops.array_ops) is deprecated and will be removed in a future version.\n",
            "Instructions for updating:\n",
            "Use tf.where in 2.0, which has the same broadcast rule as np.where\n",
            "WARNING:tensorflow:From /usr/local/lib/python3.6/dist-packages/keras/optimizers.py:793: The name tf.train.Optimizer is deprecated. Please use tf.compat.v1.train.Optimizer instead.\n",
            "\n",
            "WARNING:tensorflow:From /usr/local/lib/python3.6/dist-packages/keras/backend/tensorflow_backend.py:3657: The name tf.log is deprecated. Please use tf.math.log instead.\n",
            "\n",
            "WARNING:tensorflow:From /usr/local/lib/python3.6/dist-packages/keras/backend/tensorflow_backend.py:1033: The name tf.assign_add is deprecated. Please use tf.compat.v1.assign_add instead.\n",
            "\n",
            "WARNING:tensorflow:From /usr/local/lib/python3.6/dist-packages/keras/backend/tensorflow_backend.py:1020: The name tf.assign is deprecated. Please use tf.compat.v1.assign instead.\n",
            "\n",
            "WARNING:tensorflow:From /usr/local/lib/python3.6/dist-packages/keras/backend/tensorflow_backend.py:3005: The name tf.Session is deprecated. Please use tf.compat.v1.Session instead.\n",
            "\n",
            "Train on 260800 samples, validate on 65200 samples\n",
            "Epoch 1/4\n",
            "WARNING:tensorflow:From /usr/local/lib/python3.6/dist-packages/keras/backend/tensorflow_backend.py:190: The name tf.get_default_session is deprecated. Please use tf.compat.v1.get_default_session instead.\n",
            "\n",
            "WARNING:tensorflow:From /usr/local/lib/python3.6/dist-packages/keras/backend/tensorflow_backend.py:197: The name tf.ConfigProto is deprecated. Please use tf.compat.v1.ConfigProto instead.\n",
            "\n",
            "WARNING:tensorflow:From /usr/local/lib/python3.6/dist-packages/keras/backend/tensorflow_backend.py:207: The name tf.global_variables is deprecated. Please use tf.compat.v1.global_variables instead.\n",
            "\n",
            "WARNING:tensorflow:From /usr/local/lib/python3.6/dist-packages/keras/backend/tensorflow_backend.py:216: The name tf.is_variable_initialized is deprecated. Please use tf.compat.v1.is_variable_initialized instead.\n",
            "\n",
            "WARNING:tensorflow:From /usr/local/lib/python3.6/dist-packages/keras/backend/tensorflow_backend.py:223: The name tf.variables_initializer is deprecated. Please use tf.compat.v1.variables_initializer instead.\n",
            "\n",
            "260800/260800 [==============================] - 1669s 6ms/step - loss: 0.4435 - acc: 0.7897 - val_loss: 0.4052 - val_acc: 0.8118\n",
            "Epoch 2/4\n",
            "260800/260800 [==============================] - 1654s 6ms/step - loss: 0.3765 - acc: 0.8268 - val_loss: 0.3932 - val_acc: 0.8176\n",
            "Epoch 3/4\n",
            "260800/260800 [==============================] - 1655s 6ms/step - loss: 0.3429 - acc: 0.8430 - val_loss: 0.3917 - val_acc: 0.8197\n",
            "Epoch 4/4\n",
            "260800/260800 [==============================] - 1682s 6ms/step - loss: 0.3145 - acc: 0.8588 - val_loss: 0.3972 - val_acc: 0.8217\n"
          ],
          "name": "stdout"
        }
      ]
    },
    {
      "cell_type": "markdown",
      "metadata": {
        "id": "I5O_2FbAnkrv",
        "colab_type": "text"
      },
      "source": [
        "Neural Network architecture"
      ]
    },
    {
      "cell_type": "code",
      "metadata": {
        "id": "-y99kkAq-ZcW",
        "colab_type": "code",
        "outputId": "7a11c185-03cf-42f8-d446-3f201281e2bb",
        "colab": {
          "base_uri": "https://localhost:8080/",
          "height": 422
        }
      },
      "source": [
        "from keras.utils.vis_utils import plot_model\n",
        "plot_model(model, show_shapes=True, show_layer_names=True)"
      ],
      "execution_count": 0,
      "outputs": [
        {
          "output_type": "execute_result",
          "data": {
            "image/png": "[encoded data removed]",
            "text/plain": [
              "<IPython.core.display.Image object>"
            ]
          },
          "metadata": {
            "tags": []
          },
          "execution_count": 38
        }
      ]
    },
    {
      "cell_type": "markdown",
      "metadata": {
        "id": "3aEtF67Xb8SX",
        "colab_type": "text"
      },
      "source": [
        "Plotting loss on training and test set"
      ]
    },
    {
      "cell_type": "code",
      "metadata": {
        "colab_type": "code",
        "id": "I1TdQoLwf1LU",
        "outputId": "2f863e59-dcde-4d39-9f4a-f012b639df9a",
        "colab": {
          "base_uri": "https://localhost:8080/",
          "height": 265
        }
      },
      "source": [
        "plt.plot(history.history['loss'], label='train')\n",
        "plt.plot(history.history['val_loss'], label='test')\n",
        "plt.legend()\n",
        "plt.show()"
      ],
      "execution_count": 0,
      "outputs": [
        {
          "output_type": "display_data",
          "data": {
            "image/png": "[encoded data removed]",
            "text/plain": [
              "<Figure size 432x288 with 1 Axes>"
            ]
          },
          "metadata": {
            "tags": []
          }
        }
      ]
    },
    {
      "cell_type": "markdown",
      "metadata": {
        "id": "3MPBNvnob8Sa",
        "colab_type": "text"
      },
      "source": [
        "Plotting accuracy on training and test set"
      ]
    },
    {
      "cell_type": "code",
      "metadata": {
        "id": "9SLdfEhKb8Sa",
        "colab_type": "code",
        "outputId": "fd1f5ea3-59f0-4093-cc96-ed7bbeaf7a10",
        "colab": {
          "base_uri": "https://localhost:8080/",
          "height": 265
        }
      },
      "source": [
        "plt.plot(history.history['acc'], label='train')\n",
        "plt.plot(history.history['val_acc'], label='test')\n",
        "plt.legend()\n",
        "plt.show()"
      ],
      "execution_count": 0,
      "outputs": [
        {
          "output_type": "display_data",
          "data": {
            "image/png": "[encoded data removed]",
            "text/plain": [
              "<Figure size 432x288 with 1 Axes>"
            ]
          },
          "metadata": {
            "tags": []
          }
        }
      ]
    },
    {
      "cell_type": "markdown",
      "metadata": {
        "id": "0752r6xob8Sd",
        "colab_type": "text"
      },
      "source": [
        "Saving model and weights"
      ]
    },
    {
      "cell_type": "code",
      "metadata": {
        "id": "VzFGwofYb8Se",
        "colab_type": "code",
        "outputId": "49f7f690-17f9-4723-eeff-8a160b59f10b",
        "colab": {
          "base_uri": "https://localhost:8080/",
          "height": 35
        }
      },
      "source": [
        "# serialize model to JSON\n",
        "model_json = model.to_json()\n",
        "with open(\"BESTmodelLEARNED.json\", \"w\") as json_file:\n",
        "    json_file.write(model_json)\n",
        "# serialize weights to HDF5\n",
        "model.save_weights(\"BESTmodelLEARNED.h5\")\n",
        "print(\"Saved model to disk\")"
      ],
      "execution_count": 0,
      "outputs": [
        {
          "output_type": "stream",
          "text": [
            "Saved model to disk\n"
          ],
          "name": "stdout"
        }
      ]
    },
    {
      "cell_type": "markdown",
      "metadata": {
        "id": "w5CsxC1Fb8Sq",
        "colab_type": "text"
      },
      "source": [
        "## SECOND ATTEMPT: Using pre-trained Glove embeddings"
      ]
    },
    {
      "cell_type": "markdown",
      "metadata": {
        "id": "l94HwEC5pPCM",
        "colab_type": "text"
      },
      "source": [
        "### Text preprocessing"
      ]
    },
    {
      "cell_type": "code",
      "metadata": {
        "id": "6WUjC9dfb8S2",
        "colab_type": "code",
        "colab": {}
      },
      "source": [
        "# prepare tokenizer\n",
        "t = Tokenizer()\n",
        "t.fit_on_texts(t_features)\n",
        "\n",
        "# integer encode the documents\n",
        "encoded_docs = t.texts_to_sequences(t_features)\n",
        "\n",
        "# pad documents to a max length of 60 words (mean length is about 95)\n",
        "padded_docs = pad_sequences(encoded_docs, maxlen=150, padding='post')"
      ],
      "execution_count": 0,
      "outputs": []
    },
    {
      "cell_type": "code",
      "metadata": {
        "id": "VZtI3TiVb8S5",
        "colab_type": "code",
        "outputId": "b8fd5a46-34c3-4bd6-9b73-141964de9298",
        "colab": {
          "base_uri": "https://localhost:8080/",
          "height": 34
        }
      },
      "source": [
        "vocab_size=len(t.word_index)+1\n",
        "vocab_size"
      ],
      "execution_count": 0,
      "outputs": [
        {
          "output_type": "execute_result",
          "data": {
            "text/plain": [
              "56947"
            ]
          },
          "metadata": {
            "tags": []
          },
          "execution_count": 43
        }
      ]
    },
    {
      "cell_type": "code",
      "metadata": {
        "id": "Pk5XrGAob8TC",
        "colab_type": "code",
        "colab": {}
      },
      "source": [
        "#transform labels from pandas series to numpy array\n",
        "labels=np.asarray(labels) "
      ],
      "execution_count": 0,
      "outputs": []
    },
    {
      "cell_type": "code",
      "metadata": {
        "id": "0WyJLnPKb8S_",
        "colab_type": "code",
        "outputId": "e8e10585-fb1f-4d28-9e84-1160e950219e",
        "colab": {
          "base_uri": "https://localhost:8080/",
          "height": 170
        }
      },
      "source": [
        " #info about submissions\n",
        "info_text1=t_features.map(lambda x: len(x)).describe()\n",
        "info_text1"
      ],
      "execution_count": 0,
      "outputs": [
        {
          "output_type": "execute_result",
          "data": {
            "text/plain": [
              "count    50000.000000\n",
              "mean       149.891440\n",
              "std        503.337603\n",
              "min          2.000000\n",
              "25%         53.000000\n",
              "50%         89.000000\n",
              "75%        146.000000\n",
              "max      33813.000000\n",
              "Name: text_and_title, dtype: float64"
            ]
          },
          "metadata": {
            "tags": []
          },
          "execution_count": 44
        }
      ]
    },
    {
      "cell_type": "markdown",
      "metadata": {
        "id": "3wSvY8jOpYnr",
        "colab_type": "text"
      },
      "source": [
        "### GloVe word embeddings"
      ]
    },
    {
      "cell_type": "code",
      "metadata": {
        "id": "uXC-GIByb8TH",
        "colab_type": "code",
        "outputId": "db3f3cb9-fc8c-4445-8e51-6f32d1462763",
        "colab": {
          "base_uri": "https://localhost:8080/",
          "height": 34
        }
      },
      "source": [
        "#Loading embeddings\n",
        "embeddings_index = dict()\n",
        "f = open('/content/gdrive/My Drive/glove.6B.100d.txt', encoding='utf8')\n",
        "for line in f:\n",
        "    values = line.split()\n",
        "    word = values[0]\n",
        "    coefs = np.asarray(values[1:], dtype='float32')\n",
        "    embeddings_index[word] = coefs\n",
        "f.close()"
      ],
      "execution_count": 0,
      "outputs": [
        {
          "output_type": "stream",
          "text": [
            "Loaded 400000 word vectors.\n"
          ],
          "name": "stdout"
        }
      ]
    },
    {
      "cell_type": "code",
      "metadata": {
        "id": "n19IX57Wb8TL",
        "colab_type": "code",
        "colab": {}
      },
      "source": [
        "#Creating embedding matrix\n",
        "embedding_matrix = np.zeros((vocab_size, 100))\n",
        "for word, i in t.word_index.items():\n",
        "    embedding_vector = embeddings_index.get(word)\n",
        "    if embedding_vector is not None:\n",
        "        embedding_matrix[i] = embedding_vector"
      ],
      "execution_count": 0,
      "outputs": []
    },
    {
      "cell_type": "markdown",
      "metadata": {
        "id": "hgOXpO3SqMg9",
        "colab_type": "text"
      },
      "source": [
        "### Final model"
      ]
    },
    {
      "cell_type": "markdown",
      "metadata": {
        "id": "ciwHJUE_rRY9",
        "colab_type": "text"
      },
      "source": [
        "I trained the model on the whole data after trying it on the test set and obtaining the higher accuracy: 83%"
      ]
    },
    {
      "cell_type": "code",
      "metadata": {
        "scrolled": true,
        "id": "0PJsfIKMb8TP",
        "colab_type": "code",
        "outputId": "bdc1f9b6-e974-4341-b0cb-1ce097e8b435",
        "colab": {
          "base_uri": "https://localhost:8080/",
          "height": 751
        }
      },
      "source": [
        "#Early stopping\n",
        "e = EarlyStopping(monitor='val_loss', mode='min', patience=3, verbose=1)\n",
        "#Embedding layer\n",
        "e = Embedding(vocab_size, 100, weights=[embedding_matrix], input_length=150, trainable=True) #Trainable = True to update weights during training\n",
        "## Network architecture\n",
        "model = Sequential()\n",
        "model.add(e)\n",
        "model.add(LSTM(80, dropout=0.3, recurrent_dropout=0.3))\n",
        "model.add(Dense(1, activation='sigmoid'))\n",
        "model.compile(loss='binary_crossentropy', optimizer='adam', metrics=['accuracy'])\n",
        "history=model.fit(padded_docs, labels, epochs=4, shuffle=True, callbacks=[es])"
      ],
      "execution_count": 0,
      "outputs": [
        {
          "output_type": "stream",
          "text": [
            "WARNING:tensorflow:From /usr/local/lib/python3.6/dist-packages/keras/backend/tensorflow_backend.py:66: The name tf.get_default_graph is deprecated. Please use tf.compat.v1.get_default_graph instead.\n",
            "\n",
            "WARNING:tensorflow:From /usr/local/lib/python3.6/dist-packages/keras/backend/tensorflow_backend.py:541: The name tf.placeholder is deprecated. Please use tf.compat.v1.placeholder instead.\n",
            "\n",
            "WARNING:tensorflow:From /usr/local/lib/python3.6/dist-packages/keras/backend/tensorflow_backend.py:4432: The name tf.random_uniform is deprecated. Please use tf.random.uniform instead.\n",
            "\n",
            "WARNING:tensorflow:From /usr/local/lib/python3.6/dist-packages/keras/backend/tensorflow_backend.py:190: The name tf.get_default_session is deprecated. Please use tf.compat.v1.get_default_session instead.\n",
            "\n",
            "WARNING:tensorflow:From /usr/local/lib/python3.6/dist-packages/keras/backend/tensorflow_backend.py:197: The name tf.ConfigProto is deprecated. Please use tf.compat.v1.ConfigProto instead.\n",
            "\n",
            "WARNING:tensorflow:From /usr/local/lib/python3.6/dist-packages/keras/backend/tensorflow_backend.py:203: The name tf.Session is deprecated. Please use tf.compat.v1.Session instead.\n",
            "\n",
            "WARNING:tensorflow:From /usr/local/lib/python3.6/dist-packages/keras/backend/tensorflow_backend.py:207: The name tf.global_variables is deprecated. Please use tf.compat.v1.global_variables instead.\n",
            "\n",
            "WARNING:tensorflow:From /usr/local/lib/python3.6/dist-packages/keras/backend/tensorflow_backend.py:216: The name tf.is_variable_initialized is deprecated. Please use tf.compat.v1.is_variable_initialized instead.\n",
            "\n",
            "WARNING:tensorflow:From /usr/local/lib/python3.6/dist-packages/keras/backend/tensorflow_backend.py:223: The name tf.variables_initializer is deprecated. Please use tf.compat.v1.variables_initializer instead.\n",
            "\n",
            "WARNING:tensorflow:From /usr/local/lib/python3.6/dist-packages/keras/backend/tensorflow_backend.py:148: The name tf.placeholder_with_default is deprecated. Please use tf.compat.v1.placeholder_with_default instead.\n",
            "\n",
            "WARNING:tensorflow:From /usr/local/lib/python3.6/dist-packages/keras/backend/tensorflow_backend.py:3733: calling dropout (from tensorflow.python.ops.nn_ops) with keep_prob is deprecated and will be removed in a future version.\n",
            "Instructions for updating:\n",
            "Please use `rate` instead of `keep_prob`. Rate should be set to `rate = 1 - keep_prob`.\n",
            "WARNING:tensorflow:From /usr/local/lib/python3.6/dist-packages/keras/optimizers.py:793: The name tf.train.Optimizer is deprecated. Please use tf.compat.v1.train.Optimizer instead.\n",
            "\n",
            "WARNING:tensorflow:From /usr/local/lib/python3.6/dist-packages/keras/backend/tensorflow_backend.py:3657: The name tf.log is deprecated. Please use tf.math.log instead.\n",
            "\n",
            "WARNING:tensorflow:From /usr/local/lib/python3.6/dist-packages/tensorflow_core/python/ops/nn_impl.py:183: where (from tensorflow.python.ops.array_ops) is deprecated and will be removed in a future version.\n",
            "Instructions for updating:\n",
            "Use tf.where in 2.0, which has the same broadcast rule as np.where\n",
            "WARNING:tensorflow:From /usr/local/lib/python3.6/dist-packages/keras/backend/tensorflow_backend.py:1033: The name tf.assign_add is deprecated. Please use tf.compat.v1.assign_add instead.\n",
            "\n",
            "WARNING:tensorflow:From /usr/local/lib/python3.6/dist-packages/keras/backend/tensorflow_backend.py:1020: The name tf.assign is deprecated. Please use tf.compat.v1.assign instead.\n",
            "\n",
            "Epoch 1/4\n",
            "326000/326000 [==============================] - 2518s 8ms/step - loss: 0.5502 - acc: 0.6790\n",
            "Epoch 2/4\n",
            "326000/326000 [==============================] - 2567s 8ms/step - loss: 0.3753 - acc: 0.8311\n",
            "Epoch 3/4\n",
            "326000/326000 [==============================] - 2538s 8ms/step - loss: 0.3270 - acc: 0.8557\n",
            "Epoch 4/4\n",
            "326000/326000 [==============================] - 2496s 8ms/step - loss: 0.2956 - acc: 0.8707\n"
          ],
          "name": "stdout"
        }
      ]
    },
    {
      "cell_type": "markdown",
      "metadata": {
        "id": "hTqVisJtrZAL",
        "colab_type": "text"
      },
      "source": [
        "Neural Network architecture"
      ]
    },
    {
      "cell_type": "code",
      "metadata": {
        "id": "b9OBzJpyH6Dq",
        "colab_type": "code",
        "outputId": "0fb37248-41ec-431e-833d-5df91d21c7bf",
        "colab": {
          "base_uri": "https://localhost:8080/",
          "height": 422
        }
      },
      "source": [
        "from keras.utils.vis_utils import plot_model\n",
        "plot_model(loaded_model, to_file='model_plot.png', show_shapes=True, show_layer_names=True)"
      ],
      "execution_count": 0,
      "outputs": [
        {
          "output_type": "execute_result",
          "data": {
            "image/png": "[encoded data removed]",
            "text/plain": [
              "<IPython.core.display.Image object>"
            ]
          },
          "metadata": {
            "tags": []
          },
          "execution_count": 30
        }
      ]
    },
    {
      "cell_type": "markdown",
      "metadata": {
        "id": "kkzw3OL9rkwl",
        "colab_type": "text"
      },
      "source": [
        "Plotting training and test loss"
      ]
    },
    {
      "cell_type": "code",
      "metadata": {
        "id": "jtkFP91jb8TT",
        "colab_type": "code",
        "outputId": "5fd4e411-2fb9-4437-d49b-1ed74d42bee7",
        "colab": {
          "base_uri": "https://localhost:8080/",
          "height": 265
        }
      },
      "source": [
        "plt.plot(history.history['loss'], label='train')\n",
        "plt.plot(history.history['val_loss'], label='test')\n",
        "plt.legend()\n",
        "plt.show()"
      ],
      "execution_count": 0,
      "outputs": [
        {
          "output_type": "display_data",
          "data": {
            "image/png": "[encoded data removed]",
            "text/plain": [
              "<Figure size 432x288 with 1 Axes>"
            ]
          },
          "metadata": {
            "tags": []
          }
        }
      ]
    },
    {
      "cell_type": "markdown",
      "metadata": {
        "id": "lbaMdSfbaf4u",
        "colab_type": "text"
      },
      "source": [
        "## Predictions"
      ]
    },
    {
      "cell_type": "markdown",
      "metadata": {
        "id": "MqLJyiWDFIqb",
        "colab_type": "text"
      },
      "source": [
        "### Dataset"
      ]
    },
    {
      "cell_type": "code",
      "metadata": {
        "id": "ZVkGW2dzb8TY",
        "colab_type": "code",
        "colab": {}
      },
      "source": [
        "#loading model and weights\n",
        "json_file = open('/content/gdrive/My Drive/Tesi/LDA2/Related/BESTMODELglove.json',  'r')\n",
        "loaded_model_json = json_file.read()\n",
        "json_file.close()\n",
        "loaded_model = model_from_json(loaded_model_json)\n",
        "loaded_model.load_weights('/content/gdrive/My Drive/Tesi/LDA2/Related/BESTMODEL_weights_glove.h5')"
      ],
      "execution_count": 0,
      "outputs": []
    },
    {
      "cell_type": "code",
      "metadata": {
        "id": "WLQalNVrGIRu",
        "colab_type": "code",
        "colab": {}
      },
      "source": [
        "#loading Tokenizer used to create word-index dictionary on training data\n",
        "with open('/content/gdrive/My Drive/Tesi/LDA2/Related/tokenizer_GLOVE.pickle', 'rb') as handle:\n",
        "    tokenizer = pickle.load(handle)"
      ],
      "execution_count": 0,
      "outputs": []
    },
    {
      "cell_type": "markdown",
      "metadata": {
        "id": "eclrvDZbD1fE",
        "colab_type": "text"
      },
      "source": [
        "I built the test data to make predictions on the final model: I pick new data from FAR, ETS and T_D (posts submitted from 2/05/19 to 1/12/19)"
      ]
    },
    {
      "cell_type": "code",
      "metadata": {
        "id": "ETQjGyzmDt_p",
        "colab_type": "code",
        "colab": {}
      },
      "source": [
        "test_data=pd.read_json('/content/gdrive/My Drive/Tesi/LDA2/Related/test_data_LSTM_2.json') "
      ],
      "execution_count": 0,
      "outputs": []
    },
    {
      "cell_type": "code",
      "metadata": {
        "id": "gV8XOdMsDp06",
        "colab_type": "code",
        "outputId": "bb3a9071-d4a7-489d-cc4b-987a7a0ffce7",
        "colab": {
          "base_uri": "https://localhost:8080/",
          "height": 194
        }
      },
      "source": [
        "test_data.head()"
      ],
      "execution_count": 48,
      "outputs": [
        {
          "output_type": "execute_result",
          "data": {
            "text/html": [
              "<div>\n",
              "<style scoped>\n",
              "    .dataframe tbody tr th:only-of-type {\n",
              "        vertical-align: middle;\n",
              "    }\n",
              "\n",
              "    .dataframe tbody tr th {\n",
              "        vertical-align: top;\n",
              "    }\n",
              "\n",
              "    .dataframe thead th {\n",
              "        text-align: right;\n",
              "    }\n",
              "</style>\n",
              "<table border=\"1\" class=\"dataframe\">\n",
              "  <thead>\n",
              "    <tr style=\"text-align: right;\">\n",
              "      <th></th>\n",
              "      <th>text_and_title</th>\n",
              "      <th>pol_leaning</th>\n",
              "    </tr>\n",
              "  </thead>\n",
              "  <tbody>\n",
              "    <tr>\n",
              "      <th>37416</th>\n",
              "      <td>Trump's Crook Heading the Treasury Decided to Delay the Redesign of the $20 Bill so a Designer Releases 3D-Printed Stamp to Put Harriet Tubman on it Yourself.</td>\n",
              "      <td>0</td>\n",
              "    </tr>\n",
              "    <tr>\n",
              "      <th>28686</th>\n",
              "      <td>2020 Hopeful Julian Castro on Trump's Racism, Breaking Up ICE, &amp;amp; Amazon Strikes</td>\n",
              "      <td>0</td>\n",
              "    </tr>\n",
              "    <tr>\n",
              "      <th>33985</th>\n",
              "      <td>Hot take</td>\n",
              "      <td>0</td>\n",
              "    </tr>\n",
              "    <tr>\n",
              "      <th>13354</th>\n",
              "      <td>Why Are Kids Being Subjected To This?!</td>\n",
              "      <td>1</td>\n",
              "    </tr>\n",
              "    <tr>\n",
              "      <th>20029</th>\n",
              "      <td>When I hear that Hillary Clinton is considering running again in 2020...</td>\n",
              "      <td>1</td>\n",
              "    </tr>\n",
              "  </tbody>\n",
              "</table>\n",
              "</div>"
            ],
            "text/plain": [
              "                                                                                                                                                        text_and_title  pol_leaning\n",
              "37416  Trump's Crook Heading the Treasury Decided to Delay the Redesign of the $20 Bill so a Designer Releases 3D-Printed Stamp to Put Harriet Tubman on it Yourself.             0\n",
              "28686                                                                             2020 Hopeful Julian Castro on Trump's Racism, Breaking Up ICE, &amp; Amazon Strikes             0\n",
              "33985                                                                                                                                                        Hot take             0\n",
              "13354                                                                                                                          Why Are Kids Being Subjected To This?!             1\n",
              "20029                                                                                        When I hear that Hillary Clinton is considering running again in 2020...             1"
            ]
          },
          "metadata": {
            "tags": []
          },
          "execution_count": 48
        }
      ]
    },
    {
      "cell_type": "code",
      "metadata": {
        "id": "bRnuz2W5Fdvp",
        "colab_type": "code",
        "colab": {}
      },
      "source": [
        "real_labels=test_data['pol_leaning']"
      ],
      "execution_count": 0,
      "outputs": []
    },
    {
      "cell_type": "code",
      "metadata": {
        "id": "vSIYHFvRuNXF",
        "colab_type": "code",
        "colab": {}
      },
      "source": [
        "#applying tokenizer to test data\n",
        "encoded_docs_test=tokenizer.texts_to_sequences(test_data['text_and_title'])\n",
        "padded_docs_test=pad_sequences(encoded_docs_test,maxlen=150, padding='post')"
      ],
      "execution_count": 0,
      "outputs": []
    },
    {
      "cell_type": "markdown",
      "metadata": {
        "id": "vJbWNPblvfCA",
        "colab_type": "text"
      },
      "source": [
        "Computing class predictions"
      ]
    },
    {
      "cell_type": "code",
      "metadata": {
        "id": "IDH9yypvbV3H",
        "colab_type": "code",
        "colab": {
          "base_uri": "https://localhost:8080/",
          "height": 35
        },
        "outputId": "1bb6ba94-c1de-47eb-912c-d97997883690"
      },
      "source": [
        "class_pred = loaded_model.predict_classes(padded_docs_test)\n",
        "np.unique(class_pred, return_counts=True)"
      ],
      "execution_count": 51,
      "outputs": [
        {
          "output_type": "execute_result",
          "data": {
            "text/plain": [
              "(array([0, 1], dtype=int32), array([25148, 20137]))"
            ]
          },
          "metadata": {
            "tags": []
          },
          "execution_count": 51
        }
      ]
    },
    {
      "cell_type": "code",
      "metadata": {
        "id": "yu5DvkmHGl_8",
        "colab_type": "code",
        "colab": {}
      },
      "source": [
        "predict_classes=class_pred.T"
      ],
      "execution_count": 0,
      "outputs": []
    },
    {
      "cell_type": "code",
      "metadata": {
        "id": "3smmIPie5GRY",
        "colab_type": "code",
        "colab": {}
      },
      "source": [
        "real_classes=real_labels.to_numpy()"
      ],
      "execution_count": 0,
      "outputs": []
    },
    {
      "cell_type": "markdown",
      "metadata": {
        "id": "IGKQEKMf5nQl",
        "colab_type": "text"
      },
      "source": [
        "Computing probabilty predictions"
      ]
    },
    {
      "cell_type": "code",
      "metadata": {
        "id": "kvbRBv9JaVaJ",
        "colab_type": "code",
        "colab": {}
      },
      "source": [
        "prob_pred= loaded_model.predict_proba(padded_docs_test)"
      ],
      "execution_count": 0,
      "outputs": []
    },
    {
      "cell_type": "code",
      "metadata": {
        "id": "Te9F8E5s1wNK",
        "colab_type": "code",
        "colab": {}
      },
      "source": [
        "prob_pred2=prob_pred.T"
      ],
      "execution_count": 0,
      "outputs": []
    },
    {
      "cell_type": "markdown",
      "metadata": {
        "id": "iqpq3JTB6MkN",
        "colab_type": "text"
      },
      "source": [
        "Visualizing test data and predictions"
      ]
    },
    {
      "cell_type": "code",
      "metadata": {
        "id": "08M3TJBa37kB",
        "colab_type": "code",
        "colab": {}
      },
      "source": [
        "pd.options.display.max_colwidth=250"
      ],
      "execution_count": 0,
      "outputs": []
    },
    {
      "cell_type": "code",
      "metadata": {
        "id": "Jw8TuRVlwELF",
        "colab_type": "code",
        "colab": {}
      },
      "source": [
        "test_data['prob_pred']=prob_pred2[0]\n",
        "test_data['class_pred']=predict_classes[0]\n",
        "test_data['class_real']=real_classes"
      ],
      "execution_count": 0,
      "outputs": []
    },
    {
      "cell_type": "code",
      "metadata": {
        "id": "18N0CETS1fpg",
        "colab_type": "code",
        "colab": {
          "base_uri": "https://localhost:8080/",
          "height": 194
        },
        "outputId": "d31094db-0973-46c8-9096-9f9ea374e7cb"
      },
      "source": [
        "test_data.head()"
      ],
      "execution_count": 65,
      "outputs": [
        {
          "output_type": "execute_result",
          "data": {
            "text/html": [
              "<div>\n",
              "<style scoped>\n",
              "    .dataframe tbody tr th:only-of-type {\n",
              "        vertical-align: middle;\n",
              "    }\n",
              "\n",
              "    .dataframe tbody tr th {\n",
              "        vertical-align: top;\n",
              "    }\n",
              "\n",
              "    .dataframe thead th {\n",
              "        text-align: right;\n",
              "    }\n",
              "</style>\n",
              "<table border=\"1\" class=\"dataframe\">\n",
              "  <thead>\n",
              "    <tr style=\"text-align: right;\">\n",
              "      <th></th>\n",
              "      <th>text_and_title</th>\n",
              "      <th>pol_leaning</th>\n",
              "      <th>prob_pred</th>\n",
              "      <th>class_pred</th>\n",
              "      <th>class_real</th>\n",
              "    </tr>\n",
              "  </thead>\n",
              "  <tbody>\n",
              "    <tr>\n",
              "      <th>37416</th>\n",
              "      <td>Trump's Crook Heading the Treasury Decided to Delay the Redesign of the $20 Bill so a Designer Releases 3D-Printed Stamp to Put Harriet Tubman on it Yourself.</td>\n",
              "      <td>0</td>\n",
              "      <td>0.004415</td>\n",
              "      <td>0</td>\n",
              "      <td>0</td>\n",
              "    </tr>\n",
              "    <tr>\n",
              "      <th>28686</th>\n",
              "      <td>2020 Hopeful Julian Castro on Trump's Racism, Breaking Up ICE, &amp;amp; Amazon Strikes</td>\n",
              "      <td>0</td>\n",
              "      <td>0.005773</td>\n",
              "      <td>0</td>\n",
              "      <td>0</td>\n",
              "    </tr>\n",
              "    <tr>\n",
              "      <th>33985</th>\n",
              "      <td>Hot take</td>\n",
              "      <td>0</td>\n",
              "      <td>0.394364</td>\n",
              "      <td>0</td>\n",
              "      <td>0</td>\n",
              "    </tr>\n",
              "    <tr>\n",
              "      <th>13354</th>\n",
              "      <td>Why Are Kids Being Subjected To This?!</td>\n",
              "      <td>1</td>\n",
              "      <td>0.420787</td>\n",
              "      <td>0</td>\n",
              "      <td>1</td>\n",
              "    </tr>\n",
              "    <tr>\n",
              "      <th>20029</th>\n",
              "      <td>When I hear that Hillary Clinton is considering running again in 2020...</td>\n",
              "      <td>1</td>\n",
              "      <td>0.807433</td>\n",
              "      <td>1</td>\n",
              "      <td>1</td>\n",
              "    </tr>\n",
              "  </tbody>\n",
              "</table>\n",
              "</div>"
            ],
            "text/plain": [
              "                                                                                                                                                        text_and_title  ...  class_real\n",
              "37416  Trump's Crook Heading the Treasury Decided to Delay the Redesign of the $20 Bill so a Designer Releases 3D-Printed Stamp to Put Harriet Tubman on it Yourself.   ...           0\n",
              "28686                                                                             2020 Hopeful Julian Castro on Trump's Racism, Breaking Up ICE, &amp; Amazon Strikes   ...           0\n",
              "33985                                                                                                                                                        Hot take   ...           0\n",
              "13354                                                                                                                          Why Are Kids Being Subjected To This?!   ...           1\n",
              "20029                                                                                        When I hear that Hillary Clinton is considering running again in 2020...   ...           1\n",
              "\n",
              "[5 rows x 5 columns]"
            ]
          },
          "metadata": {
            "tags": []
          },
          "execution_count": 65
        }
      ]
    },
    {
      "cell_type": "code",
      "metadata": {
        "id": "tEIFvmoRHrQE",
        "colab_type": "code",
        "colab": {
          "base_uri": "https://localhost:8080/",
          "height": 35
        },
        "outputId": "656e7fde-4d0b-4744-db60-fdfdcf3555ae"
      },
      "source": [
        "len(test_data)"
      ],
      "execution_count": 78,
      "outputs": [
        {
          "output_type": "execute_result",
          "data": {
            "text/plain": [
              "45285"
            ]
          },
          "metadata": {
            "tags": []
          },
          "execution_count": 78
        }
      ]
    },
    {
      "cell_type": "code",
      "metadata": {
        "id": "uPgLdFCm1CHX",
        "colab_type": "code",
        "colab": {
          "base_uri": "https://localhost:8080/",
          "height": 283
        },
        "outputId": "318ed80d-7963-48d0-9043-c66d094235a7"
      },
      "source": [
        "test_data['prob_pred'].hist()"
      ],
      "execution_count": 39,
      "outputs": [
        {
          "output_type": "execute_result",
          "data": {
            "text/plain": [
              "<matplotlib.axes._subplots.AxesSubplot at 0x7fc1b2ad30b8>"
            ]
          },
          "metadata": {
            "tags": []
          },
          "execution_count": 39
        },
        {
          "output_type": "display_data",
          "data": {
            "image/png": "[encoded data removed]",
            "text/plain": [
              "<Figure size 432x288 with 1 Axes>"
            ]
          },
          "metadata": {
            "tags": []
          }
        }
      ]
    },
    {
      "cell_type": "markdown",
      "metadata": {
        "id": "M1ogYzs26XiK",
        "colab_type": "text"
      },
      "source": [
        "Evaluating the model"
      ]
    },
    {
      "cell_type": "code",
      "metadata": {
        "id": "NmRiRC-K1jIe",
        "colab_type": "code",
        "colab": {
          "base_uri": "https://localhost:8080/",
          "height": 266
        },
        "outputId": "106e1454-bccf-40cd-bb8c-bb7205270c93"
      },
      "source": [
        "# Python script for confusion matrix creation.\n",
        "from sklearn.metrics import confusion_matrix\n",
        "from sklearn.metrics import accuracy_score\n",
        "from sklearn.metrics import classification_report\n",
        "actual = real_classes\n",
        "predicted = predict_classes[0]\n",
        "cf= confusion_matrix(actual, predicted)\n",
        "print ('Confusion Matrix :')\n",
        "print(cf)\n",
        "print ('Accuracy Score :',accuracy_score(actual, predicted))\n",
        "print('Classification Report : ')\n",
        "print (classification_report(actual, predicted))"
      ],
      "execution_count": 43,
      "outputs": [
        {
          "output_type": "stream",
          "text": [
            "Confusion Matrix :\n",
            "[[14627  6373]\n",
            " [10521 13764]]\n",
            "Accuracy Score : 0.6269404880203158\n",
            "Classification Report : \n",
            "              precision    recall  f1-score   support\n",
            "\n",
            "           0       0.58      0.70      0.63     21000\n",
            "           1       0.68      0.57      0.62     24285\n",
            "\n",
            "    accuracy                           0.63     45285\n",
            "   macro avg       0.63      0.63      0.63     45285\n",
            "weighted avg       0.64      0.63      0.63     45285\n",
            "\n"
          ],
          "name": "stdout"
        }
      ]
    },
    {
      "cell_type": "code",
      "metadata": {
        "id": "b_lUbuVw0O6v",
        "colab_type": "code",
        "outputId": "7e20f991-b0e5-4548-eb68-64cf60f33334",
        "colab": {
          "base_uri": "https://localhost:8080/",
          "height": 295
        }
      },
      "source": [
        "import itertools\n",
        "plt.imshow(cf,cmap=plt.cm.Blues,interpolation='nearest')\n",
        "plt.colorbar()\n",
        "plt.title('Confusion Matrix')\n",
        "plt.xlabel('Predicted')\n",
        "plt.ylabel('Actual')\n",
        "tick_marks = np.arange(len(set(expected))) # length of classes\n",
        "class_labels = ['0','1']\n",
        "tick_marks\n",
        "plt.xticks(tick_marks,class_labels)\n",
        "plt.yticks(tick_marks,class_labels)\n",
        "# plotting text value inside cells\n",
        "thresh = cf.max() / 2.\n",
        "for i,j in itertools.product(range(cf.shape[0]),range(cf.shape[1])):\n",
        "    plt.text(j,i,format(cf[i,j],'d'),horizontalalignment='center',color='white' if cf[i,j] >thresh else 'black')\n",
        "plt.show();"
      ],
      "execution_count": 44,
      "outputs": [
        {
          "output_type": "display_data",
          "data": {
            "image/png": "[encoded data removed]",
            "text/plain": [
              "<Figure size 432x288 with 2 Axes>"
            ]
          },
          "metadata": {
            "tags": []
          }
        }
      ]
    },
    {
      "cell_type": "markdown",
      "metadata": {
        "id": "h5y0ygJX8lBG",
        "colab_type": "text"
      },
      "source": [
        "Looking at the distribution of probabilty predictions we can see that the values predicted correctly are mostly around 0.9 for pro-trump class and around 0.1 for anti-trump class."
      ]
    },
    {
      "cell_type": "code",
      "metadata": {
        "colab_type": "code",
        "id": "TDgESfsJ7tcf",
        "colab": {}
      },
      "source": [
        "correct_data= test_data[test_data['class_real'] == test_data['class_pred']]"
      ],
      "execution_count": 0,
      "outputs": []
    },
    {
      "cell_type": "code",
      "metadata": {
        "id": "iPKRPpN28USA",
        "colab_type": "code",
        "colab": {
          "base_uri": "https://localhost:8080/",
          "height": 283
        },
        "outputId": "4a1fe28e-d882-49df-a240-741bcfb4f3c0"
      },
      "source": [
        "correct_data['prob_pred'].hist()"
      ],
      "execution_count": 67,
      "outputs": [
        {
          "output_type": "execute_result",
          "data": {
            "text/plain": [
              "<matplotlib.axes._subplots.AxesSubplot at 0x7fc1c08b17f0>"
            ]
          },
          "metadata": {
            "tags": []
          },
          "execution_count": 67
        },
        {
          "output_type": "display_data",
          "data": {
            "image/png": "[encoded data removed]",
            "text/plain": [
              "<Figure size 432x288 with 1 Axes>"
            ]
          },
          "metadata": {
            "tags": []
          }
        }
      ]
    },
    {
      "cell_type": "markdown",
      "metadata": {
        "id": "9wqvRVbJGEQ6",
        "colab_type": "text"
      },
      "source": [
        "For the previous considerations I try to evalute the model only considering records with a probabilty prediction <= 0.15 (for the left party) or >= 0.85 (for the right party) , classifying remaining post as neutral"
      ]
    },
    {
      "cell_type": "code",
      "metadata": {
        "id": "U2xbtMAHjx66",
        "colab_type": "code",
        "outputId": "11e06ac1-30e5-42af-a061-71b51f23d25c",
        "colab": {
          "base_uri": "https://localhost:8080/",
          "height": 35
        }
      },
      "source": [
        "df_dx=test_data[test_data['prob_pred'] >= .85]\n",
        "len(df_dx)"
      ],
      "execution_count": 68,
      "outputs": [
        {
          "output_type": "execute_result",
          "data": {
            "text/plain": [
              "9842"
            ]
          },
          "metadata": {
            "tags": []
          },
          "execution_count": 68
        }
      ]
    },
    {
      "cell_type": "code",
      "metadata": {
        "id": "if1NxrEMpVL4",
        "colab_type": "code",
        "outputId": "9c43db83-5f4b-401a-8ee2-bf381b484263",
        "colab": {
          "base_uri": "https://localhost:8080/",
          "height": 35
        }
      },
      "source": [
        "df_sx = test_data[test_data['prob_pred'] <= .15]\n",
        "len(df_sx)"
      ],
      "execution_count": 69,
      "outputs": [
        {
          "output_type": "execute_result",
          "data": {
            "text/plain": [
              "12860"
            ]
          },
          "metadata": {
            "tags": []
          },
          "execution_count": 69
        }
      ]
    },
    {
      "cell_type": "code",
      "metadata": {
        "id": "pzq8FAi1hnjW",
        "colab_type": "code",
        "colab": {}
      },
      "source": [
        "df_all=df_dx.append(df_sx, ignore_index=True)"
      ],
      "execution_count": 0,
      "outputs": []
    },
    {
      "cell_type": "code",
      "metadata": {
        "id": "OEaTk5z_kWLb",
        "colab_type": "code",
        "colab": {
          "base_uri": "https://localhost:8080/",
          "height": 211
        },
        "outputId": "d178b65c-b05c-4eb2-8042-c74909bc80b3"
      },
      "source": [
        "df_all.head()"
      ],
      "execution_count": 72,
      "outputs": [
        {
          "output_type": "execute_result",
          "data": {
            "text/html": [
              "<div>\n",
              "<style scoped>\n",
              "    .dataframe tbody tr th:only-of-type {\n",
              "        vertical-align: middle;\n",
              "    }\n",
              "\n",
              "    .dataframe tbody tr th {\n",
              "        vertical-align: top;\n",
              "    }\n",
              "\n",
              "    .dataframe thead th {\n",
              "        text-align: right;\n",
              "    }\n",
              "</style>\n",
              "<table border=\"1\" class=\"dataframe\">\n",
              "  <thead>\n",
              "    <tr style=\"text-align: right;\">\n",
              "      <th></th>\n",
              "      <th>text_and_title</th>\n",
              "      <th>pol_leaning</th>\n",
              "      <th>prob_pred</th>\n",
              "      <th>class_pred</th>\n",
              "      <th>class_real</th>\n",
              "    </tr>\n",
              "  </thead>\n",
              "  <tbody>\n",
              "    <tr>\n",
              "      <th>0</th>\n",
              "      <td>Include reddit.com/r/the_donald in your memes, so when people share them, new Pedes can find us and join. Now that we are quarantined, sharing is the only way!</td>\n",
              "      <td>1</td>\n",
              "      <td>0.978247</td>\n",
              "      <td>1</td>\n",
              "      <td>1</td>\n",
              "    </tr>\n",
              "    <tr>\n",
              "      <th>1</th>\n",
              "      <td>Well calibrated Outrage-o-meter</td>\n",
              "      <td>0</td>\n",
              "      <td>0.937973</td>\n",
              "      <td>1</td>\n",
              "      <td>0</td>\n",
              "    </tr>\n",
              "    <tr>\n",
              "      <th>2</th>\n",
              "      <td>Yes Obama, I absolutely turned on you and can't wait till you are in Guantanamo Obama considers millions of voters switching from him to Trump turning on him. As a person not yet fully awakened to the true drivers behind all the shit that is wron...</td>\n",
              "      <td>1</td>\n",
              "      <td>0.936379</td>\n",
              "      <td>1</td>\n",
              "      <td>1</td>\n",
              "    </tr>\n",
              "    <tr>\n",
              "      <th>3</th>\n",
              "      <td>You will not find anything of value on MSM anymore.</td>\n",
              "      <td>1</td>\n",
              "      <td>0.981497</td>\n",
              "      <td>1</td>\n",
              "      <td>1</td>\n",
              "    </tr>\n",
              "    <tr>\n",
              "      <th>4</th>\n",
              "      <td>Dow is set to sink more than 270 points after Trump stuns markets with tariffs on Mexican imports</td>\n",
              "      <td>0</td>\n",
              "      <td>0.955090</td>\n",
              "      <td>1</td>\n",
              "      <td>0</td>\n",
              "    </tr>\n",
              "  </tbody>\n",
              "</table>\n",
              "</div>"
            ],
            "text/plain": [
              "                                                                                                                                                                                                                                              text_and_title  ...  class_real\n",
              "0                                                                                           Include reddit.com/r/the_donald in your memes, so when people share them, new Pedes can find us and join. Now that we are quarantined, sharing is the only way!   ...           1\n",
              "1                                                                                                                                                                                                                           Well calibrated Outrage-o-meter   ...           0\n",
              "2  Yes Obama, I absolutely turned on you and can't wait till you are in Guantanamo Obama considers millions of voters switching from him to Trump turning on him. As a person not yet fully awakened to the true drivers behind all the shit that is wron...  ...           1\n",
              "3                                                                                                                                                                                                       You will not find anything of value on MSM anymore.   ...           1\n",
              "4                                                                                                                                                         Dow is set to sink more than 270 points after Trump stuns markets with tariffs on Mexican imports   ...           0\n",
              "\n",
              "[5 rows x 5 columns]"
            ]
          },
          "metadata": {
            "tags": []
          },
          "execution_count": 72
        }
      ]
    },
    {
      "cell_type": "code",
      "metadata": {
        "id": "53edRdGEGwXk",
        "colab_type": "code",
        "colab": {
          "base_uri": "https://localhost:8080/",
          "height": 266
        },
        "outputId": "753354bf-af24-4450-8eab-bb7654b21e28"
      },
      "source": [
        "#Model performance\n",
        "actual = list(df_all['class_real'].values)\n",
        "predicted = list(df_all['class_pred'].values)\n",
        "cf= confusion_matrix(actual, predicted)\n",
        "print ('Confusion Matrix :')\n",
        "print(cf)\n",
        "print ('Accuracy Score :',accuracy_score(actual, predicted))\n",
        "print('Classification Report : ')\n",
        "print (classification_report(actual, predicted))"
      ],
      "execution_count": 75,
      "outputs": [
        {
          "output_type": "stream",
          "text": [
            "Confusion Matrix :\n",
            "[[8637 2376]\n",
            " [4223 7466]]\n",
            "Accuracy Score : 0.7093207646903357\n",
            "Classification Report : \n",
            "              precision    recall  f1-score   support\n",
            "\n",
            "           0       0.67      0.78      0.72     11013\n",
            "           1       0.76      0.64      0.69     11689\n",
            "\n",
            "    accuracy                           0.71     22702\n",
            "   macro avg       0.72      0.71      0.71     22702\n",
            "weighted avg       0.72      0.71      0.71     22702\n",
            "\n"
          ],
          "name": "stdout"
        }
      ]
    },
    {
      "cell_type": "code",
      "metadata": {
        "id": "uizAip1LHIFS",
        "colab_type": "code",
        "colab": {
          "base_uri": "https://localhost:8080/",
          "height": 295
        },
        "outputId": "19c92fb7-069c-4e54-b448-2b90ae697f20"
      },
      "source": [
        "plt.imshow(cf,cmap=plt.cm.Blues,interpolation='nearest')\n",
        "plt.colorbar()\n",
        "plt.title('Confusion Matrix')\n",
        "plt.xlabel('Predicted')\n",
        "plt.ylabel('Actual')\n",
        "tick_marks = np.arange(len(set(expected))) # length of classes\n",
        "class_labels = ['0','1']\n",
        "tick_marks\n",
        "plt.xticks(tick_marks,class_labels)\n",
        "plt.yticks(tick_marks,class_labels)\n",
        "# plotting text value inside cells\n",
        "thresh = cf.max() / 2.\n",
        "for i,j in itertools.product(range(cf.shape[0]),range(cf.shape[1])):\n",
        "    plt.text(j,i,format(cf[i,j],'d'),horizontalalignment='center',color='white' if cf[i,j] >thresh else 'black')\n",
        "plt.show();"
      ],
      "execution_count": 76,
      "outputs": [
        {
          "output_type": "display_data",
          "data": {
            "image/png": "[encoded data removed]",
            "text/plain": [
              "<Figure size 432x288 with 2 Axes>"
            ]
          },
          "metadata": {
            "tags": []
          }
        }
      ]
    }
  ]
}