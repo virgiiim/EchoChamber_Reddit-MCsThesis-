{
  "nbformat": 4,
  "nbformat_minor": 0,
  "metadata": {
    "colab": {
      "name": "text_Classification_SVM.ipynb",
      "provenance": [],
      "collapsed_sections": []
    },
    "kernelspec": {
      "name": "python3",
      "display_name": "Python 3"
    }
  },
  "cells": [
    {
      "cell_type": "markdown",
      "metadata": {
        "id": "XMuaRu4v2xAn",
        "colab_type": "text"
      },
      "source": [
        "## Political leaning classification with SVM"
      ]
    },
    {
      "cell_type": "code",
      "metadata": {
        "id": "ixOZU-SRPpqA",
        "colab_type": "code",
        "colab": {}
      },
      "source": [
        "from google.colab import drive\n",
        "drive.mount('/content/gdrive')"
      ],
      "execution_count": 0,
      "outputs": []
    },
    {
      "cell_type": "code",
      "metadata": {
        "id": "CDw-32IxNoyT",
        "colab_type": "code",
        "colab": {}
      },
      "source": [
        "import pickle\n",
        "import pandas as pd\n",
        "from sklearn.feature_extraction.text import CountVectorizer\n",
        "import scipy.sparse as sp\n",
        "from sklearn import svm\n",
        "from sklearn.model_selection import GridSearchCV\n",
        "from sklearn.model_selection import train_test_split \n",
        "from sklearn import metrics"
      ],
      "execution_count": 0,
      "outputs": []
    },
    {
      "cell_type": "markdown",
      "metadata": {
        "id": "HL1xwjBx3HZt",
        "colab_type": "text"
      },
      "source": [
        "### Keywords extracted"
      ]
    },
    {
      "cell_type": "markdown",
      "metadata": {
        "id": "MV6dE-0y3rgN",
        "colab_type": "text"
      },
      "source": [
        "Keywords extracted from ETS and FAR (sx)"
      ]
    },
    {
      "cell_type": "code",
      "metadata": {
        "id": "LzBmaOe8Zn14",
        "colab_type": "code",
        "colab": {
          "base_uri": "https://localhost:8080/",
          "height": 34
        },
        "outputId": "0d86ef8a-417b-4354-9c4f-baaca871dc23"
      },
      "source": [
        "with open('/content/gdrive/My Drive/Tesi/LDA2/Related/final_keywordsx.pickle', 'rb') as data:\n",
        "  KEYWORD_SX= pickle.load(data) \n",
        "len(KEYWORD_SX)"
      ],
      "execution_count": 7,
      "outputs": [
        {
          "output_type": "execute_result",
          "data": {
            "text/plain": [
              "433"
            ]
          },
          "metadata": {
            "tags": []
          },
          "execution_count": 7
        }
      ]
    },
    {
      "cell_type": "code",
      "metadata": {
        "id": "skU4oTQVc4cl",
        "colab_type": "code",
        "outputId": "37173bbe-576a-4fb2-b2ae-cb27330978df",
        "colab": {
          "base_uri": "https://localhost:8080/",
          "height": 54
        }
      },
      "source": [
        "print(KEYWORD_SX)"
      ],
      "execution_count": 8,
      "outputs": [
        {
          "output_type": "stream",
          "text": [
            "{'synagogue_shooting', 'history_trump', 'right_wall', 'fuck_video', 'trump_base', 'migrant_caravan', 'trump_pardon', 'propaganda_machine', 'school_talk', 'fuck_nazi', 'campaign_finance', 'official_say', 'remember_republican', 'get_shut', 'help_keep', 'pittsburgh_synagogue', 'archive_brutalist', 'support_pajama', 'proud_boy', 'attendee_elizabeth', 'former_trump', 'trump_attack', 'show_youtube', 'nazi_salute', 'tantrum_protest', 'report_white', 'great_love', 'mueller_team', 'button_idiot', 'domestic_terrorism', 'ban_get', 'defense_secretary', 'wilson_respond', 'trump_lose', 'tower_moscow', 'lawyer_trump', 'rightward_turn', 'dude_kill', 'anti_fascist', 'attack_attendee', 'synagogue_shooter', 'legal_team', 'wizard_illusion', 'rep_steve', 'feminine_wizard', 'trump_approval', 'tucker_viewer', 'nazi_germany', 'want_trump', 'judiciary_committee', 'original_post', 'million_dollar', 'ron_desantis', 'trump_response', 'right_activist', 'right_rally', 'david_pakman', 'fuck_right', 'first_year', 'right_troll', 'trump_defend', 'right_proud', 'rick_wilson', 'much_alt', 'visit_high', 'black_male', 'extremist_group', 'could_manipulate', 'africa_look', 'white_lady', 'lot_money', 'viewer_hate', 'department_justice', 'trump_threaten', 'alexandria_ocasio', 'violent_trump', 'post_obama', 'active_supporter', 'talk_struggle', 'point_usa', 'promote_kremlin', 'give_trump', 'midterm_election', 'richard_spencer', 'trump_pick', 'debunk_alt', 'search_result', 'white_guy', 'look_compare', 'emotional_support', 'court_nominee', 'many_tough', 'president_unite', 'get_rekt', 'twitt_trump', 'dave_rubin', 'right_content', 'north_carolina', 'month_emotional', 'today_trump', 'op_ed', 'supremacist_rally', 'want_open', 'poster_rally', 'hannity_advise', 'right_love', 'rally_iowa', 'jack_posobiec', 'family_separation', 'turn_point', 'counsel_robert', 'warn_trump', 'remember_trump', 'fascist_dictatorship', 'trump_spam', 'hope_bet', 'pay_wall', 'russian_agent', 'trump_slam', 'southern_border', 'think_neighbor', 'beg_ban', 'hack_bernie', 'identity_politic', 'patriot_prayer', 'guy_feel', 'robust_trump', 'russian_troll', 'meetup_dc', 'shutdown_state', 'supporter_leave', 'make_trump', 'tad_devine', 'plan_meetup', 'spy_could', 'warren_rally', 'racist_teaching', 'rule_law', 'collude_russia', 'rudy_giuliani', 'pay_trump', 'white_nationalism', 'laura_loomer', 'voter_suppression', 'wing_extremist', 'say_way', 'trump_tariff', 'mgtow_poster', 'cindy_hyde', 'qanon_conspiracy', 'reporter_expose', 'com_archive', 'stable_genius', 'trump_fox', 'wall_street', 'cringe_compilation', 'military_parade', 'pittsburgh_shooter', 'would_fight', 'come_trump', 'pipe_bomb', 'plead_guilty', 'fuck_cuss', 'bill_kristol', 'take_trump', 'trump_team', 'american_democracy', 'go_good', 'fuck_tlaib', 'former_cia', 'tough_manly', 'love_right', 'meeting_trump', 'advise_trump', 'tear_gas', 'investigate_trump', 'neighbor_stupid', 'government_shutdown', 'dc_january', 'polling_datum', 'trump_foundation', 'demographic_demise', 'wear_qanon', 'case_trump', 'fire_mueller', 'confederate_flag', 'house_intelligence', 'milo_yiannopoulos', 'michael_cohen', 'native_american', 'supremacist_group', 'neo_nazi', 'right_winger', 'trump_organization', 'sander_campaign', 'double_scoop', 'bet_guess', 'trump_order', 'manly_robust', 'mexico_pay', 'heather_heyer', 'anti_muslim', 'trump_lie', 'trump_people', 'trump_keep', 'weird_politic', 'play_right', 'call_cop', 'magazine_weird', 'facebook_post', 'boy_founder', 'rise_right', 'wing_commit', 'train_kill', 'jone_infowar', 'trump_rhetoric', 'scott_pruitt', 'ari_melber', 'keep_racist', 'teaching_youth', 'nazi_beg', 'trump_russian', 'jar_kushner', 'time_trump', 'stefan_molyneux', 'tran_people', 'find_interesting', 'criminal_investigation', 'trump_show', 'trump_bad', 'blasey_ford', 'read_trump', 'right_self', 'endorse_active', 'love_alright', 'archive_theduran', 'lawyer_michael', 'anti_semitism', 'gavin_mcinne', 'administration_official', 'say_russia', 'steve_king', 'realize_admit', 'morning_joe', 'supporter_brazilian', 'ad_youtube', 'trump_putin', 'trump_carry', 'hate_group', 'senate_candidate', 'campaign_manager', 'student_guy', 'migrant_child', 'investigation_trump', 'trump_continue', 'shut_tantrum', 'cuss_word', 'russian_oligarch', 'charlie_kirk', 'think_people', 'birthright_citizenship', 'mike_pompeo', 'literal_nazi', 'threaten_kill', 'help_trump', 'mike_penny', 'text_bot', 'know_africa', 'rally_feminine', 'stephen_miller', 'national_enquirer', 'press_archive', 'word_text', 'lie_trump', 'michael_flynn', 'george_papadopoulo', 'trump_republican', 'try_offend', 'money_go', 'nune_memo', 'title_month', 'post_title', 'fuck_alright', 'devin_nune', 'trump_america', 'study_find', 'ben_shapiro', 'master_race', 'sentence_year', 'trump_work', 'people_attack', 'germanys_demographic', 'security_adviser', 'ask_trump', 'candace_owen', 'russian_propaganda', 'republican_operate', 'trump_aide', 'mar_lago', 'operate_train', 'happen_trump', 'trump_claim', 'white_nationalist', 'new_book', 'theduran_dot', 'lady_call', 'world_leader', 'commit_suicide', 'tower_meeting', 'top_trump', 'national_emergency', 'melber_msnbc', 'deal_trump', 'mueller_probe', 'bone_spur', 'tlaib_fuck', 'trump_trade', 'trump_family', 'internet_big', 'video_donald', 'slam_promote', 'kremlin_propaganda', 'anti_immigration', 'go_vote', 'nazi_group', 'trump_history', 'russian_intelligence', 'watch_trump', 'vladimir_putin', 'andrew_anglin', 'founder_gavin', 'crown_prince', 'work_trump', 'carry_shutdown', 'voter_datum', 'conspiracy_theorist', 'show_trump', 'report_trump', 'huckabee_sander', 'penthouse_rightward', 'trump_great', 'attack_tran', 'fact_check', 'youtube_recommend', 'nominee_brett', 'trump_university', 'trump_national', 'admit_villain', 'trump_promise', 'west_virginia', 'call_violence', 'mike_cernovich', 'boss_fight', 'golf_course', 'brazilian_fascist', 'charlie_endorse', 'white_power', 'interesting_ad', 'demise_response', 'tell_trump', 'report_say', 'robert_bower', 'brian_kemp', 'bet_lot', 'trump_official', 'wall_darth', 'vader_read', 'trump_presidency', 'good_hope', 'security_clearance', 'mcinne_think', 'presidential_campaign', 'pajama_nazi', 'turn_magazine', 'alt_righter', 'day_trump', 'darth_vader', 'trump_praise', 'cesar_sayoc', 'trump_blame', 'not_button', 'response_iconoclast', 'trump_lawyer', 'trump_like', 'hush_money', 'rekt_jovi', 'racial_slur', 'protest_bet', 'manipulate_trump', 'plea_deal', 'history_donald', 'wall_campaign', 'supporter_attack', 'lawyer_say', 'concentration_camp', 'anti_semitic', 'daily_stormer', 'fiddler_roof', 'nee_try', 'right_group', 'hyde_smith', 'word_rashida', 'real_estate', 'dot_com', 'trump_former', 'foreign_policy', 'register_vote', 'campaign_youtube', 'sexual_misconduct', 'counsel_mueller', 'tie_white', 'trump_legal', 'paul_manafort', 'year_prison', 'social_media', 'jamal_khashoggi', 'compare_country', 'male_student', 'hate_mail', 'rashida_fuck', 'roosh_plan', 'struggle_black', 'punch_nazi', 'trump_adviser', 'trump_top', 'unite_right', 'umm_not', 'carter_page', 'way_fuck', 'trump_discuss', 'christine_blasey', 'iowa_police', 'trump_declare'}\n"
          ],
          "name": "stdout"
        }
      ]
    },
    {
      "cell_type": "markdown",
      "metadata": {
        "id": "osVKoPhc3wLY",
        "colab_type": "text"
      },
      "source": [
        "Keywords extracted from T_D (dx)"
      ]
    },
    {
      "cell_type": "code",
      "metadata": {
        "id": "vjpcqx3kaq5R",
        "colab_type": "code",
        "colab": {
          "base_uri": "https://localhost:8080/",
          "height": 34
        },
        "outputId": "2fcfdf63-155c-4aaf-acb7-838c15a45120"
      },
      "source": [
        "with open('/content/gdrive/My Drive/Tesi/LDA2/Related/final_keyworddx.pickle', 'rb') as data:\n",
        "  KEYWORD_DX= pickle.load(data)\n",
        "len(KEYWORD_DX)"
      ],
      "execution_count": 10,
      "outputs": [
        {
          "output_type": "execute_result",
          "data": {
            "text/plain": [
              "769"
            ]
          },
          "metadata": {
            "tags": []
          },
          "execution_count": 10
        }
      ]
    },
    {
      "cell_type": "code",
      "metadata": {
        "id": "vvOgw2wQdNhj",
        "colab_type": "code",
        "outputId": "144dcf1f-b5de-4b88-990c-b0db33f61b73",
        "colab": {
          "base_uri": "https://localhost:8080/",
          "height": 54
        }
      },
      "source": [
        "print(KEYWORD_DX)"
      ],
      "execution_count": 11,
      "outputs": [
        {
          "output_type": "stream",
          "text": [
            "{'tide_pod', 'assault_rifle', 'good_luck', 'would_appreciate', 'mental_illness', 'creepy_joe', 'van_jone', 'red_pille', 'news_cnn', 'hillary_supporter', 'automatic_weapon', 'would_make', 'white_male', 'amp_nbsp', 'run_president', 'state_local', 'want_say', 'need_make', 'go_say', 'trump_need', 'get_fuck', 'let_make', 'chelsea_clinton', 'infowar_com', 'meeting_president', 'give_money', 'come_say', 'sale_transfer', 'want_share', 'gun_free', 'death_penalty', 'plan_parenthood', 'not_charge', 'time_take', 'gun_right', 'go_get', 'lot_people', 'say_thing', 'get_real', 'good_timeline', 'global_warming', 'pede_need', 'know_go', 'black_american', 'bezos_jeff', 'david_brock', 'inspector_general', 'dnc_server', 'mail_ballot', 'racist_white', 'rich_murder', 'would_say', 'text_message', 'bill_nye', 'speaker_corner', 'bill_right', 'mueller_investigate', 'trump_elect', 'obama_era', 'citizenship_question', 'asian_amp', 'trump_speech', 'know_many', 'prime_minister', 'terror_organization', 'black_white', 'circle_jerk', 'month_old', 'mental_health', 'first_place', 'call_president', 'trust_trump', 'muslim_woman', 'barron_trump', 'broward_county', 'think_president', 'not_budget', 'attack_trump', 'march_live', 'south_korea', 'let_show', 'nbsp_amp', 'not_know', 'concern_troll', 'omnibus_bill', 'people_need', 'try_take', 'dinesh_dsouza', 'not_say', 'anyone_see', 'hard_work', 'kek_meme', 'liberalism_mental', 'great_day', 'trump_hate', 'sign_bill', 'would_love', 'open_eye', 'march_life', 'clear_backpack', 'liberal_medium', 'count_dankula', 'not_pay', 'midday_magathread', 'right_people', 'chemical_weapon', 'double_standard', 'break_news', 'mark_zuckerberg', 'san_diego', 'bend_knee', 'reach_level', 'make_sense', 'spice_day', 'see_many', 'small_arm', 'hate_america', 'slush_fund', 'want_go', 'hope_everyone', 'ask_question', 'hate_say', 'could_use', 'tax_reform', 'senate_seat', 'remark_president', 'rape_year', 'say_take', 'kathy_griffin', 'homeland_security', 'meme_magic', 'leave_go', 'go_viral', 'get_elect', 'say_fuck', 'sign_omnibus', 'elon_musk', 'trump_travel', 'eric_holder', 'harvey_weinstein', 'steve_scalise', 'people_make', 'leave_right', 'anonymous_source', 'believe_trump', 'bomber_muslim', 'gun_violence', 'give_remark', 'base_stickman', 'great_country', 'judicial_watch', 'anyone_feel', 'los_angele', 'paris_accord', 'religion_peace', 'cloud_act', 'delete_tweet', 'anyone_know', 'know_say', 'thank_pede', 'non_muslim', 'spread_word', 'deus_vult', 'win_special', 'think_make', 'need_stop', 'natural_gas', 'not_nancy', 'say_get', 'star_war', 'guy_think', 'small_business', 'someone_explain', 'gun_ban', 'new_yorker', 'hit_piece', 'dead_injure', 'daily_reminder', 'sign_executive', 'roseanne_revival', 'accord_definition', 'msnbc_contributor', 'want_make', 'people_say', 'gun_grabber', 'intent_nominate', 'lady_melania', 'anyone_find', 'guy_get', 'illegal_alien', 'seth_rich', 'not_take', 'death_year', 'pier_morgan', 'state_senate', 'tax_plan', 'scott_adam', 'press_briefing', 'presidential_election', 'jeff_flake', 'get_love', 'next_week', 'need_gun', 'jason_chaffetz', 'next_year', 'america_great', 'change_mind', 'constitutional_right', 'pay_attention', 'pope_francis', 'islamic_terrorism', 'people_go', 'let_go', 'news_real', 'good_evening', 'lie_oath', 'fail_new', 'good_friday', 'wasserman_schultz', 'wear_maga', 'cnn_msnbc', 'lose_mind', 'justin_trudeau', 'clinton_rapist', 'nuclear_weapon', 'help_american', 'school_shoot', 'leave_meme', 'watch_video', 'free_zone', 'entertainment_resort', 'debbie_wasserman', 'special_prosecutor', 'gun_control', 'state_america', 'vult_deus', 'iran_deal', 'get_job', 'real_news', 'go_zone', 'mccabe_lie', 'show_love', 'fox_friend', 'palm_beach', 'first_president', 'could_get', 'say_anything', 'common_sense', 'president_say', 'tax_rate', 'love_country', 'islamic_terrorist', 'convention_state', 'mainstream_medium', 'not_support', 'give_good', 'intelligence_agency', 'cbs_news', 'repeal_second', 'chuck_schumer', 'self_defense', 'holy_shit', 'drain_swamp', 'sanctuary_city', 'could_help', 'wish_could', 'sharia_law', 'praise_kek', 'huma_abedin', 'state_house', 'wtf_go', 'take_place', 'intelligence_community', 'make_way', 'must_stop', 'bilateral_meeting', 'obama_admin', 'arm_fire', 'omnibus_spending', 'law_abide', 'cancer_warning', 'rob_schneider', 'public_school', 'get_ready', 'gun_death', 'michael_moore', 'russian_ambassador', 'fbi_doj', 'go_full', 'base_jame', 'chapter_shatter', 'post_comment', 'deadline_election', 'fbi_investigation', 'not_infringe', 'live_stream', 'joe_biden', 'go_see', 'little_girl', 'presidential_memorandum', 'president_moon', 'mark_dice', 'fusion_gps', 'call_go', 'illegal_immigrant', 'support_president', 'nothing_see', 'think_not', 'austin_bomber', 'would_happen', 'meet_prime', 'awan_brother', 'fellow_pede', 'democrat_want', 'town_hall', 'would_like', 'not_want', 'white_woman', 'cnn_report', 'die_year', 'not_think', 'people_believe', 'question_census', 'say_go', 'full_retard', 'today_get', 'people_die', 'federal_reserve', 'serious_question', 'facebook_account', 'sanctuary_state', 'name_seth', 'ben_garrison', 'john_huber', 'great_job', 'love_base', 'go_happen', 'nightclub_shooter', 'radical_islamic', 'muh_russia', 'kyle_kashuv', 'could_go', 'amendment_right', 'anyone_explain', 'interview_rally', 'protest_trump', 'loretta_lynch', 'need_know', 'last_time', 'would_go', 'deputy_director', 'crook_hillary', 'president_mike', 'bill_clinton', 'thing_not', 'joseph_watson', 'weiner_laptop', 'try_tell', 'border_security', 'let_meme', 'include_black', 'ban_bump', 'recent_event', 'fbi_informant', 'mccabe_fire', 'take_knee', 'let_not', 'trump_host', 'meme_contest', 'delete_facebook', 'austin_bombing', 'assault_weapon', 'election_day', 'think_go', 'not_elizabeth', 'give_right', 'jam_wood', 'trump_leave', 'legal_immigrant', 'think_could', 'news_fake', 'america_first', 'percent_population', 'food_stamp', 'poll_close', 'know_nothing', 'jim_acosta', 'trump_protest', 'american_citizen', 'next_time', 'not_believe', 'low_energy', 'mental_disorder', 'vegas_shooter', 'hillary_email', 'pre_trump', 'people_want', 'something_happen', 'rand_paul', 'modern_day', 'not_understand', 'press_secretary', 'youtube_ban', 'marine_pen', 'love_trump', 'go_fuck', 'russia_story', 'remark_vice', 'group_people', 'ban_assault', 'want_give', 'guy_gun', 'mayor_amp', 'people_think', 'man_not', 'announce_intent', 'know_happen', 'gun_law', 'great_state', 'not_see', 'george_webb', 'west_wing', 'man_woman', 'pro_gun', 'trump_train', 'new_jersey', 'brother_sister', 'not_president', 'trump_win', 'budget_omnibus', 'something_big', 'bump_stock', 'many_time', 'morning_magathread', 'trade_deal', 'say_need', 'time_make', 'post_trump', 'senate_today', 'jame_wood', 'live_president', 'people_see', 'make_big', 'hispanic_asian', 'pede_get', 'people_may', 'russian_intervention', 'democrat_party', 'illegal_immigration', 'congressional_district', 'crime_border', 'thing_happen', 'paul_joseph', 'find_dead', 'tweet_news', 'shall_not', 'cnn_suck', 'bill_not', 'doj_fbi', 'love_president', 'gina_haspel', 'day_election', 'spending_bill', 'peter_strzok', 'bad_thing', 'edition_good', 'political_party', 'execute_white', 'medium_outlet', 'fellow_pes', 'trump_derangement', 'not_guilty', 'president_pence', 'shot_kill', 'show_support', 'get_fire', 'get_tired', 'health_insurance', 'secretary_sean', 'want_get', 'ban_post', 'bridge_collapse', 'nbsp_not', 'know_guy', 'side_beef', 'bless_america', 'give_gun', 'leave_lean', 'leave_think', 'briefing_interview', 'new_poll', 'anthony_weiner', 'become_president', 'press_beat', 'blue_state', 'trump_participate', 'make_deal', 'get_btfo', 'want_take', 'american_flag', 'liberal_think', 'white_privilege', 'know_not', 'flag_fly', 'see_get', 'school_board', 'primary_schedule', 'john_podesta', 'theresa_may', 'good_morning', 'parkland_student', 'thursday_june', 'school_shooter', 'omar_mateen', 'news_story', 'guy_not', 'good_idea', 'get_start', 'anyone_get', 'lady_night', 'get_pay', 'think_get', 'western_civilization', 'david_clarke', 'want_hear', 'get_well', 'board_election', 'former_fbi', 'local_government', 'take_care', 'angela_merkel', 'election_state', 'florida_school', 'anyone_notice', 'get_arrest', 'national_guard', 'background_check', 'lose_hillary', 'spend_money', 'go_take', 'democratic_party', 'not_let', 'gang_rape', 'crooked_hillary', 'jame_okeefe', 'everyone_know', 'high_energy', 'website_twitter', 'answer_question', 'top_kek', 'line_item', 'trump_curse', 'not_forget', 'constitutional_convention', 'andrew_mccabe', 'lisa_page', 'boy_scout', 'com_scc', 'not_send', 'dem_want', 'today_action', 'uk_police', 'peace_prize', 'comey_fire', 'let_sink', 'second_amendment', 'shot_fire', 'afternoon_magathread', 'good_job', 'thing_go', 'red_pill', 'bad_guy', 'civil_right', 'comey_say', 'political_view', 'black_life', 'use_term', 'susan_rice', 'anti_gun', 'happy_birthday', 'room_pm', 'trump_time', 'hillary_lose', 'secret_service', 'top_spice', 'registration_deadline', 'third_world', 'repeal_replace', 'feel_free', 'try_make', 'court_justice', 'make_shit', 'good_thing', 'come_gun', 'action_president', 'make_money', 'spy_trump', 'good_afternoon', 'clinton_foundation', 'go_try', 'due_process', 'gun_owner', 'trump_accuser', 'not_vote', 'life_matter', 'trump_proclaim', 'census_citizenship', 'bear_arm', 'thing_say', 'know_people', 'pulse_nightclub', 'muslim_refugee', 'feel_good', 'not_come', 'election_night', 'ban_gun', 'trump_meet', 'not_use', 'rick_saccone', 'bill_mitchell', 'lose_election', 'try_find', 'secretary_sarah', 'liberal_say', 'would_take', 'would_get', 'send_senate', 'nomination_send', 'trump_entertainment', 'let_get', 'start_get', 'bill_maher', 'abc_news', 'derangement_syndrome', 'york_city', 'county_sheriff', 'early_voting', 'american_include', 'thank_god', 'equal_right', 'conceal_carry', 'take_gun', 'veteran_affair', 'time_get', 'whole_thing', 'virtue_signal', 'could_not', 'trump_end', 'let_take', 'meme_war', 'big_deal', 'national_anthem', 'not_able', 'deadly_force', 'tired_winning', 'new_year', 'let_see', 'semi_automatic', 'american_history', 'make_feel', 'super_bowl', 'video_game', 'kurt_eichenwald', 'not_give', 'amp_local', 'candidate_trump', 'russian_collusion', 'anyone_think', 'trump_meeting', 'people_know', 'shatter_chapter', 'readout_vice', 'trump_announce', 'terror_attack', 'time_high', 'trump_spend', 'want_gun', 'roseanne_barr', 'send_good', 'would_need', 'sean_spicer', 'south_african', 'long_time', 'good_way', 'trey_gowdy', 'john_mccain', 'take_look', 'take_time', 'need_help', 'post_history', 'special_election', 'political_correctness', 'cnn_fake', 'press_brief', 'weapon_ban', 'tolerant_leave', 'family_member', 'last_month', 'everyone_call', 'weekly_address', 'country_not', 'sex_trafficking', 'vegas_shoot', 'say_something', 'rest_world', 'independence_day', 'not_allow', 'house_representative', 'joy_villa', 'south_park', 'liberal_friend', 'black_panther', 'facebook_page', 'obamacare_dead', 'prompt_reply', 'project_verita', 'say_thank', 'call_racist', 'link_comment', 'federal_government', 'grand_jury', 'current_event', 'music_selection', 'see_lot', 'late_night', 'love_guy', 'sunday_gunday', 'keep_get', 'vote_democrat', 'not_work', 'pro_life', 'god_emperor', 'not_drill', 'take_control', 'fire_fbi', 'donna_brazile', 'readout_president', 'let_keep', 'fire_mccabe', 'chemical_attack', 'statement_president', 'significant_tweet', 'poll_show', 'get_rid', 'take_action', 'islamic_terror', 'social_justice', 'orange_county', 'want_see', 'money_spend', 'god_bless', 'tough_guy', 'good_news', 'join_nra', 'go_trump', 'get_maga', 'create_job', 'feel_bad', 'tick_tock', 'air_force', 'run_congress', 'statement_press', 'anyone_post', 'trump_look', 'gun_video', 'co_worker', 'miss_something', 'trump_visit', 'look_bad'}\n"
          ],
          "name": "stdout"
        }
      ]
    },
    {
      "cell_type": "code",
      "metadata": {
        "id": "ZyPRyDHo4Nfx",
        "colab_type": "code",
        "colab": {
          "base_uri": "https://localhost:8080/",
          "height": 34
        },
        "outputId": "3b2d3e8d-8eab-4dad-fb18-a3f3041d0fe8"
      },
      "source": [
        "print(len(KEYWORD_DX.intersection(KEYWORD_SX))) #Intersection has been already dropped"
      ],
      "execution_count": 16,
      "outputs": [
        {
          "output_type": "stream",
          "text": [
            "0\n"
          ],
          "name": "stdout"
        }
      ]
    },
    {
      "cell_type": "markdown",
      "metadata": {
        "id": "6hi4_ZcU32uL",
        "colab_type": "text"
      },
      "source": [
        "Merging keywords"
      ]
    },
    {
      "cell_type": "code",
      "metadata": {
        "id": "3SHFxqNG6J7r",
        "colab_type": "code",
        "colab": {
          "base_uri": "https://localhost:8080/",
          "height": 34
        },
        "outputId": "51862f3e-70e1-4be9-b3d4-c5193b4c9a42"
      },
      "source": [
        "with open('/content/gdrive/My Drive/Tesi/LDA2/Related/all_keyword.pickle', 'rb') as handle:\n",
        "    tot_keyword = pickle.load(handle)\n",
        "len(tot_keyword)"
      ],
      "execution_count": 17,
      "outputs": [
        {
          "output_type": "execute_result",
          "data": {
            "text/plain": [
              "1202"
            ]
          },
          "metadata": {
            "tags": []
          },
          "execution_count": 17
        }
      ]
    },
    {
      "cell_type": "code",
      "metadata": {
        "id": "X5x9ZzMLOl6x",
        "colab_type": "code",
        "colab": {}
      },
      "source": [
        "tot_keyword=list(tot_keyword)"
      ],
      "execution_count": 0,
      "outputs": []
    },
    {
      "cell_type": "markdown",
      "metadata": {
        "id": "aPaP31dJ5UE9",
        "colab_type": "text"
      },
      "source": [
        "### Data preparation for SVM"
      ]
    },
    {
      "cell_type": "markdown",
      "metadata": {
        "id": "UXfjoLV85ZiE",
        "colab_type": "text"
      },
      "source": [
        "Picking data used to extract keywords to make the training dataset for SVM  (here an example with data from FAR)"
      ]
    },
    {
      "cell_type": "code",
      "metadata": {
        "id": "r1WOr72SP2JJ",
        "colab_type": "code",
        "colab": {}
      },
      "source": [
        "with open('/content/gdrive/My Drive/Tesi/LDA2/Related/bigram_FAR.pickle', 'rb') as handle:\n",
        "    bigramTOT_FAR = pickle.load(handle)"
      ],
      "execution_count": 0,
      "outputs": []
    },
    {
      "cell_type": "code",
      "metadata": {
        "id": "ougpWFnRQuST",
        "colab_type": "code",
        "colab": {}
      },
      "source": [
        "post_FAR=list()\n",
        "for elem in bigramTOT_FAR:\n",
        "  post_FAR.append([' '.join(elem)])"
      ],
      "execution_count": 0,
      "outputs": []
    },
    {
      "cell_type": "code",
      "metadata": {
        "id": "WHx7cBJ-Rchv",
        "colab_type": "code",
        "outputId": "fce8b99d-8f8b-4b29-caef-89a16b4023c4",
        "colab": {
          "base_uri": "https://localhost:8080/",
          "height": 102
        }
      },
      "source": [
        "post_FAR[:5]"
      ],
      "execution_count": 24,
      "outputs": [
        {
          "output_type": "execute_result",
          "data": {
            "text/plain": [
              "[['leader_allege allege_producer producer_pay pay_fake fake_scene scene_cancel cancel_amp amp_series series_realize realize_reality reality_tv tv_work'],\n",
              " ['happy_new new_year year_may may_dream dream_come come_true true_xoxo'],\n",
              " ['extremist_website website_insist insist_armed armed_march march_jewish jewish_people people_montana montana_go'],\n",
              " ['picture_proof proof_supremacist supremacist_want want_peace'],\n",
              " ['wreck_woman woman_destroy destroy_civilization civilization_response response_black black_pigeon pigeon_speak']]"
            ]
          },
          "metadata": {
            "tags": []
          },
          "execution_count": 24
        }
      ]
    },
    {
      "cell_type": "markdown",
      "metadata": {
        "id": "m7z-5AfG6P91",
        "colab_type": "text"
      },
      "source": [
        "Building for every post an occurence vector. The length of the vectors is equal to the number of keywords"
      ]
    },
    {
      "cell_type": "code",
      "metadata": {
        "id": "Vw4WKfvCSOqN",
        "colab_type": "code",
        "outputId": "82c3f247-9d57-4cbb-ac90-8ed59c7fbd27",
        "colab": {
          "base_uri": "https://localhost:8080/",
          "height": 71
        }
      },
      "source": [
        "# list of text documents\n",
        "res=list()\n",
        "# create the transform\n",
        "vectorizer = CountVectorizer()\n",
        "# tokenize and build vocab\n",
        "vectorizer.fit(tot_keyword)\n",
        "# summarize\n",
        "print(vectorizer.vocabulary_) \n",
        "print(vectorizer.get_feature_names())\n",
        "# encode document\n",
        "for elem in post_FAR:\n",
        "  vector = vectorizer.transform(elem)\n",
        "# summarize encoded vector\n",
        "  res.append(list(vector.toarray()[0]))"
      ],
      "execution_count": 25,
      "outputs": [
        {
          "output_type": "stream",
          "text": [
            "{'tide_pod': 1004, 'synagogue_shooting': 961, 'assault_rifle': 52, 'good_luck': 357, 'would_appreciate': 1186, 'mental_illness': 578, 'creepy_joe': 191, 'history_trump': 407, 'van_jone': 1121, 'red_pille': 794, 'news_cnn': 638, 'hillary_supporter': 404, 'would_make': 1193, 'automatic_weapon': 60, 'white_male': 1169, 'right_wall': 826, 'state_local': 939, 'amp_nbsp': 22, 'run_president': 841, 'want_say': 1146, 'need_make': 629, 'go_say': 340, 'fuck_video': 302, 'get_fuck': 314, 'let_make': 497, 'trump_base': 1038, 'chelsea_clinton': 139, 'trump_need': 1070, 'migrant_caravan': 586, 'infowar_com': 425, 'meeting_president': 569, 'give_money': 330, 'come_say': 161, 'trump_pardon': 1074, 'sale_transfer': 851, 'propaganda_machine': 767, 'school_talk': 870, 'fuck_nazi': 299, 'campaign_finance': 123, 'want_share': 1148, 'gun_free': 374, 'death_penalty': 214, 'official_say': 685, 'plan_parenthood': 727, 'not_charge': 655, 'time_take': 1009, 'gun_right': 378, 'go_get': 337, 'remember_republican': 801, 'get_shut': 323, 'lot_people': 529, 'say_thing': 865, 'get_real': 320, 'help_keep': 399, 'pittsburgh_synagogue': 725, 'global_warming': 334, 'archive_brutalist': 45, 'good_timeline': 361, 'trump_derangement': 1046, 'pede_need': 706, 'support_pajama': 952, 'proud_boy': 770, 'know_go': 465, 'attendee_elizabeth': 57, 'black_american': 93, 'former_trump': 293, 'bezos_jeff': 82, 'trump_attack': 1036, 'david_brock': 204, 'show_youtube': 904, 'inspector_general': 426, 'dnc_server': 234, 'mail_ballot': 539, 'racist_white': 778, 'nazi_salute': 622, 'rich_murder': 813, 'would_say': 1195, 'text_message': 983, 'tantrum_protest': 973, 'report_white': 808, 'bill_nye': 90, 'speaker_corner': 925, 'great_love': 368, 'mueller_team': 606, 'bill_right': 91, 'mueller_investigate': 604, 'trump_elect': 1048, 'domestic_terrorism': 236, 'button_idiot': 117, 'ban_get': 67, 'defense_secretary': 218, 'obama_era': 683, 'wilson_respond': 1176, 'citizenship_question': 146, 'asian_amp': 49, 'trump_speech': 1091, 'know_many': 468, 'prime_minister': 761, 'terror_organization': 981, 'trump_lose': 1066, 'black_white': 97, 'circle_jerk': 145, 'month_old': 599, 'mental_health': 577, 'tower_moscow': 1024, 'call_president': 120, 'first_place': 284, 'trust_trump': 1105, 'lawyer_trump': 486, 'muslim_woman': 610, 'barron_trump': 70, 'rightward_turn': 828, 'broward_county': 114, 'dude_kill': 242, 'anti_fascist': 30, 'think_president': 999, 'not_budget': 653, 'attack_trump': 56, 'attack_attendee': 54, 'march_live': 558, 'south_korea': 922, 'let_show': 501, 'synagogue_shooter': 960, 'nbsp_amp': 623, 'not_know': 663, 'concern_troll': 170, 'legal_team': 493, 'wizard_illusion': 1181, 'rep_steve': 803, 'omnibus_bill': 687, 'people_need': 715, 'feminine_wizard': 277, 'trump_approval': 1035, 'try_take': 1109, 'tucker_viewer': 1111, 'dinesh_dsouza': 233, 'not_say': 668, 'anyone_see': 43, 'hard_work': 390, 'kek_meme': 463, 'liberalism_mental': 508, 'great_day': 366, 'trump_hate': 1056, 'nazi_germany': 620, 'want_trump': 1150, 'sign_bill': 908, 'judiciary_committee': 458, 'would_love': 1192, 'original_post': 693, 'open_eye': 690, 'million_dollar': 592, 'clear_backpack': 148, 'ron_desantis': 833, 'right_activist': 817, 'liberal_medium': 505, 'trump_response': 1085, 'count_dankula': 185, 'not_pay': 666, 'right_rally': 823, 'david_pakman': 206, 'midday_magathread': 584, 'right_people': 821, 'chemical_weapon': 141, 'fuck_right': 300, 'first_year': 286, 'double_standard': 240, 'break_news': 109, 'right_troll': 825, 'trump_defend': 1045, 'right_proud': 822, 'mark_zuckerberg': 561, 'rick_wilson': 816, 'san_diego': 852, 'much_alt': 603, 'visit_high': 1130, 'bend_knee': 79, 'reach_level': 785, 'make_sense': 545, 'spice_day': 930, 'see_many': 883, 'black_male': 95, 'extremist_group': 258, 'small_arm': 914, 'hate_america': 392, 'slush_fund': 913, 'want_go': 1141, 'hope_everyone': 412, 'ask_question': 50, 'could_manipulate': 180, 'hate_say': 395, 'africa_look': 8, 'white_lady': 1168, 'lot_money': 528, 'could_use': 182, 'tax_reform': 976, 'senate_seat': 887, 'viewer_hate': 1127, 'department_justice': 227, 'remark_president': 799, 'trump_threaten': 1095, 'rape_year': 783, 'alexandria_ocasio': 11, 'say_take': 863, 'kathy_griffin': 460, 'violent_trump': 1128, 'post_obama': 741, 'homeland_security': 410, 'meme_magic': 574, 'active_supporter': 3, 'leave_go': 487, 'talk_struggle': 972, 'point_usa': 731, 'promote_kremlin': 765, 'get_elect': 312, 'go_viral': 345, 'say_fuck': 857, 'sign_omnibus': 910, 'elon_musk': 249, 'trump_travel': 1100, 'eric_holder': 254, 'harvey_weinstein': 391, 'give_trump': 333, 'midterm_election': 585, 'steve_scalise': 946, 'people_make': 713, 'richard_spencer': 814, 'trump_pick': 1077, 'leave_right': 490, 'anonymous_source': 27, 'believe_trump': 76, 'bomber_muslim': 102, 'gun_violence': 380, 'give_remark': 331, 'base_stickman': 72, 'debunk_alt': 217, 'great_country': 365, 'judicial_watch': 457, 'search_result': 874, 'anyone_feel': 37, 'los_angele': 524, 'paris_accord': 696, 'religion_peace': 798, 'cloud_act': 151, 'delete_tweet': 220, 'anyone_know': 40, 'know_say': 472, 'thank_pede': 985, 'non_muslim': 648, 'spread_word': 931, 'deus_vult': 230, 'white_guy': 1167, 'look_compare': 522, 'emotional_support': 250, 'win_special': 1177, 'court_nominee': 189, 'think_make': 995, 'need_stop': 630, 'natural_gas': 618, 'many_tough': 555, 'president_unite': 751, 'not_nancy': 665, 'get_rekt': 321, 'twitt_trump': 1115, 'dave_rubin': 203, 'say_get': 858, 'star_war': 935, 'guy_think': 385, 'right_content': 818, 'north_carolina': 649, 'month_emotional': 598, 'today_trump': 1016, 'small_business': 915, 'someone_explain': 918, 'op_ed': 689, 'new_yorker': 637, 'gun_ban': 371, 'hit_piece': 408, 'supremacist_rally': 958, 'daily_reminder': 200, 'dead_injure': 210, 'sign_executive': 909, 'roseanne_revival': 837, 'accord_definition': 1, 'want_open': 1145, 'msnbc_contributor': 602, 'want_make': 1144, 'people_say': 716, 'gun_grabber': 375, 'intent_nominate': 429, 'lady_melania': 477, 'poster_rally': 744, 'anyone_find': 38, 'hannity_advise': 387, 'guy_get': 382, 'illegal_alien': 420, 'right_love': 820, 'not_take': 672, 'seth_rich': 893, 'death_year': 215, 'pier_morgan': 722, 'state_senate': 940, 'jack_posobiec': 440, 'family_separation': 265, 'turn_point': 1113, 'tax_plan': 974, 'rally_iowa': 781, 'scott_adam': 871, 'counsel_robert': 184, 'press_briefing': 758, 'presidential_election': 753, 'jeff_flake': 447, 'warn_trump': 1151, 'remember_trump': 802, 'get_love': 316, 'fascist_dictatorship': 266, 'trump_spam': 1090, 'next_week': 643, 'hope_bet': 411, 'pay_wall': 703, 'need_gun': 626, 'jason_chaffetz': 446, 'next_year': 644, 'america_great': 15, 'russian_agent': 843, 'trump_slam': 1089, 'change_mind': 135, 'constitutional_right': 175, 'pay_attention': 701, 'pope_francis': 738, 'islamic_terrorism': 438, 'people_go': 711, 'southern_border': 924, 'think_neighbor': 996, 'beg_ban': 75, 'let_go': 495, 'news_real': 640, 'good_evening': 352, 'lie_oath': 509, 'hack_bernie': 386, 'good_friday': 353, 'fail_new': 263, 'wasserman_schultz': 1153, 'identity_politic': 419, 'cnn_msnbc': 153, 'lose_mind': 527, 'wear_maga': 1158, 'patriot_prayer': 698, 'justin_trudeau': 459, 'clinton_rapist': 150, 'nuclear_weapon': 680, 'help_american': 398, 'school_shoot': 868, 'guy_feel': 381, 'robust_trump': 832, 'russian_troll': 850, 'meetup_dc': 571, 'shutdown_state': 906, 'leave_meme': 489, 'supporter_leave': 956, 'watch_video': 1155, 'make_trump': 547, 'tad_devine': 962, 'free_zone': 296, 'entertainment_resort': 252, 'debbie_wasserman': 216, 'special_prosecutor': 927, 'gun_control': 372, 'state_america': 937, 'racist_teaching': 777, 'rule_law': 839, 'spy_could': 932, 'warren_rally': 1152, 'vult_deus': 1135, 'iran_deal': 436, 'plan_meetup': 726, 'get_job': 315, 'collude_russia': 157, 'real_news': 790, 'go_zone': 347, 'mccabe_lie': 565, 'show_love': 901, 'fox_friend': 295, 'palm_beach': 695, 'first_president': 285, 'could_get': 177, 'rudy_giuliani': 838, 'pay_trump': 702, 'say_anything': 856, 'laura_loomer': 482, 'white_nationalism': 1170, 'common_sense': 166, 'voter_suppression': 1134, 'wing_extremist': 1179, 'president_say': 750, 'islamic_terrorist': 439, 'tax_rate': 975, 'love_country': 532, 'convention_state': 176, 'mainstream_medium': 540, 'say_way': 866, 'not_support': 671, 'trump_tariff': 1093, 'give_good': 328, 'intelligence_agency': 427, 'cbs_news': 132, 'repeal_second': 805, 'chuck_schumer': 143, 'self_defense': 884, 'cindy_hyde': 144, 'mgtow_poster': 580, 'holy_shit': 409, 'drain_swamp': 241, 'qanon_conspiracy': 774, 'sanctuary_city': 853, 'could_help': 179, 'wish_could': 1180, 'sharia_law': 897, 'praise_kek': 745, 'reporter_expose': 809, 'com_archive': 158, 'stable_genius': 934, 'huma_abedin': 416, 'state_house': 938, 'wtf_go': 1197, 'trump_fox': 1054, 'wall_street': 1138, 'take_place': 969, 'cringe_compilation': 194, 'intelligence_community': 428, 'make_way': 548, 'must_stop': 611, 'bilateral_meeting': 84, 'obama_admin': 682, 'arm_fire': 48, 'omnibus_spending': 688, 'military_parade': 591, 'law_abide': 483, 'cancer_warning': 126, 'rob_schneider': 830, 'public_school': 771, 'pittsburgh_shooter': 724, 'get_ready': 319, 'gun_death': 373, 'michael_moore': 583, 'russian_ambassador': 844, 'go_full': 336, 'fbi_doj': 267, 'base_jame': 71, 'chapter_shatter': 136, 'post_comment': 739, 'deadline_election': 211, 'would_fight': 1187, 'come_trump': 162, 'pipe_bomb': 723, 'plead_guilty': 730, 'fbi_investigation': 269, 'fuck_cuss': 298, 'not_infringe': 662, 'bill_kristol': 86, 'live_stream': 518, 'trump_team': 1094, 'take_trump': 971, 'joe_biden': 449, 'american_democracy': 17, 'go_good': 338, 'go_see': 341, 'little_girl': 516, 'presidential_memorandum': 754, 'president_moon': 748, 'mark_dice': 560, 'fusion_gps': 304, 'fuck_tlaib': 301, 'call_go': 119, 'illegal_immigrant': 421, 'support_president': 953, 'nothing_see': 679, 'former_cia': 291, 'tough_manly': 1022, 'think_not': 997, 'austin_bomber': 58, 'love_right': 535, 'would_happen': 1190, 'meet_prime': 568, 'awan_brother': 61, 'meeting_trump': 570, 'advise_trump': 7, 'fellow_pede': 275, 'democrat_want': 224, 'tear_gas': 978, 'town_hall': 1025, 'would_like': 1191, 'not_want': 677, 'investigate_trump': 433, 'white_woman': 1174, 'government_shutdown': 363, 'cnn_report': 154, 'dc_january': 209, 'die_year': 232, 'neighbor_stupid': 631, 'polling_datum': 737, 'trump_foundation': 1053, 'not_think': 673, 'people_believe': 709, 'question_census': 775, 'demographic_demise': 226, 'say_go': 859, 'wear_qanon': 1159, 'full_retard': 303, 'fire_mueller': 283, 'today_get': 1015, 'people_die': 710, 'case_trump': 131, 'federal_reserve': 271, 'great_state': 369, 'serious_question': 892, 'facebook_account': 259, 'sanctuary_state': 854, 'confederate_flag': 171, 'house_intelligence': 413, 'milo_yiannopoulos': 593, 'michael_cohen': 581, 'name_seth': 612, 'ben_garrison': 77, 'john_huber': 450, 'great_job': 367, 'supremacist_group': 957, 'go_happen': 339, 'nightclub_shooter': 645, 'radical_islamic': 779, 'muh_russia': 607, 'neo_nazi': 632, 'kyle_kashuv': 475, 'right_winger': 827, 'love_base': 531, 'could_go': 178, 'trump_organization': 1073, 'amendment_right': 13, 'anyone_explain': 36, 'sander_campaign': 855, 'double_scoop': 239, 'interview_rally': 432, 'protest_trump': 769, 'loretta_lynch': 523, 'need_know': 628, 'bet_guess': 80, 'last_time': 480, 'would_go': 1189, 'deputy_director': 228, 'trump_order': 1072, 'crook_hillary': 195, 'president_mike': 747, 'manly_robust': 553, 'mexico_pay': 579, 'bill_clinton': 85, 'thing_not': 990, 'joseph_watson': 455, 'heather_heyer': 397, 'try_tell': 1110, 'weiner_laptop': 1162, 'border_security': 104, 'include_black': 423, 'let_meme': 498, 'anti_muslim': 33, 'ban_bump': 66, 'recent_event': 792, 'fbi_informant': 268, 'trump_lie': 1063, 'mccabe_fire': 564, 'trump_people': 1076, 'trump_keep': 1059, 'weird_politic': 1163, 'take_knee': 967, 'let_not': 499, 'play_right': 728, 'call_cop': 118, 'trump_host': 1058, 'magazine_weird': 538, 'meme_contest': 573, 'facebook_post': 261, 'delete_facebook': 219, 'austin_bombing': 59, 'assault_weapon': 53, 'boy_founder': 106, 'election_day': 246, 'think_go': 994, 'not_elizabeth': 658, 'give_right': 332, 'rise_right': 829, 'wing_commit': 1178, 'jam_wood': 441, 'trump_leave': 1061, 'legal_immigrant': 492, 'think_could': 992, 'train_kill': 1027, 'news_fake': 639, 'jone_infowar': 454, 'trump_rhetoric': 1086, 'america_first': 14, 'scott_pruitt': 872, 'percent_population': 720, 'food_stamp': 289, 'ari_melber': 47, 'poll_close': 735, 'keep_racist': 462, 'know_nothing': 470, 'jim_acosta': 448, 'trump_protest': 1082, 'teaching_youth': 977, 'american_citizen': 16, 'nazi_beg': 619, 'next_time': 642, 'not_believe': 652, 'low_energy': 537, 'mental_disorder': 576, 'vegas_shooter': 1123, 'trump_russian': 1087, 'jar_kushner': 445, 'hillary_email': 402, 'pre_trump': 746, 'time_trump': 1010, 'something_happen': 920, 'stefan_molyneux': 943, 'modern_day': 595, 'tran_people': 1028, 'rand_paul': 782, 'not_understand': 674, 'people_want': 719, 'press_secretary': 759, 'youtube_ban': 1200, 'marine_pen': 559, 'find_interesting': 280, 'love_trump': 536, 'go_fuck': 335, 'criminal_investigation': 193, 'russia_story': 842, 'remark_vice': 800, 'trump_show': 1088, 'native_american': 617, 'trump_bad': 1037, 'group_people': 370, 'ban_assault': 65, 'want_give': 1140, 'guy_gun': 383, 'blasey_ford': 98, 'read_trump': 786, 'people_think': 718, 'mayor_amp': 563, 'right_self': 824, 'man_not': 550, 'announce_intent': 26, 'endorse_active': 251, 'know_happen': 467, 'love_alright': 530, 'gun_law': 376, 'not_see': 669, 'george_webb': 308, 'archive_theduran': 46, 'lawyer_michael': 484, 'west_wing': 1165, 'pro_gun': 762, 'man_woman': 551, 'trump_train': 1099, 'new_jersey': 634, 'brother_sister': 113, 'not_president': 667, 'trump_win': 1103, 'budget_omnibus': 115, 'anti_semitism': 35, 'bump_stock': 116, 'something_big': 919, 'morning_magathread': 601, 'many_time': 554, 'trade_deal': 1026, 'say_need': 860, 'gavin_mcinne': 306, 'administration_official': 5, 'say_russia': 861, 'time_make': 1008, 'robert_bower': 831, 'post_trump': 743, 'steve_king': 945, 'jame_wood': 444, 'senate_today': 888, 'live_president': 517, 'people_see': 717, 'realize_admit': 791, 'make_big': 541, 'hispanic_asian': 405, 'pede_get': 705, 'people_may': 714, 'russian_intervention': 847, 'morning_joe': 600, 'supporter_brazilian': 955, 'democrat_party': 223, 'illegal_immigration': 422, 'trump_putin': 1083, 'ad_youtube': 4, 'trump_carry': 1040, 'congressional_district': 172, 'crime_border': 192, 'thing_happen': 989, 'paul_joseph': 699, 'find_dead': 279, 'senate_candidate': 886, 'hate_group': 393, 'tweet_news': 1114, 'campaign_manager': 124, 'shall_not': 896, 'student_guy': 948, 'migrant_child': 587, 'investigation_trump': 434, 'cnn_suck': 155, 'bill_not': 89, 'doj_fbi': 235, 'love_president': 534, 'trump_continue': 1042, 'shut_tantrum': 905, 'gina_haspel': 327, 'day_election': 207, 'cuss_word': 199, 'russian_oligarch': 848, 'spending_bill': 929, 'peter_strzok': 721, 'bad_thing': 64, 'edition_good': 245, 'political_party': 733, 'execute_white': 257, 'medium_outlet': 567, 'march_life': 557, 'fellow_pes': 276, 'charlie_kirk': 138, 'think_people': 998, 'birthright_citizenship': 92, 'mike_pompeo': 590, 'not_guilty': 661, 'president_pence': 749, 'shot_kill': 900, 'show_support': 902, 'get_fire': 313, 'get_tired': 325, 'health_insurance': 396, 'secretary_sean': 878, 'want_get': 1139, 'ban_post': 69, 'bridge_collapse': 111, 'nbsp_not': 624, 'threaten_kill': 1001, 'help_trump': 400, 'mike_penny': 589, 'text_bot': 982, 'know_africa': 464, 'know_guy': 466, 'side_beef': 907, 'bless_america': 99, 'rally_feminine': 780, 'give_gun': 329, 'stephen_miller': 944, 'leave_lean': 488, 'leave_think': 491, 'briefing_interview': 112, 'new_poll': 635, 'national_enquirer': 615, 'press_archive': 755, 'word_text': 1183, 'lie_trump': 510, 'anthony_weiner': 29, 'become_president': 74, 'press_beat': 756, 'blue_state': 100, 'trump_participate': 1075, 'michael_flynn': 582, 'make_deal': 542, 'get_btfo': 311, 'want_take': 1149, 'american_flag': 18, 'liberal_think': 507, 'white_privilege': 1173, 'george_papadopoulo': 307, 'know_not': 469, 'flag_fly': 287, 'school_board': 867, 'see_get': 881, 'trump_republican': 1084, 'primary_schedule': 760, 'try_offend': 1108, 'john_podesta': 452, 'money_go': 596, 'theresa_may': 987, 'good_morning': 358, 'parkland_student': 697, 'nune_memo': 681, 'title_month': 1012, 'post_title': 742, 'fuck_alright': 297, 'devin_nune': 231, 'thursday_june': 1002, 'school_shooter': 869, 'trump_america': 1033, 'study_find': 949, 'omar_mateen': 686, 'ben_shapiro': 78, 'master_race': 562, 'news_story': 641, 'guy_not': 384, 'good_idea': 355, 'literal_nazi': 515, 'get_start': 324, 'sentence_year': 891, 'trump_work': 1104, 'people_attack': 708, 'anyone_get': 39, 'germanys_demographic': 309, 'lady_night': 478, 'security_adviser': 879, 'get_pay': 318, 'ask_trump': 51, 'think_get': 993, 'candace_owen': 127, 'russian_propaganda': 849, 'western_civilization': 1166, 'david_clarke': 205, 'want_hear': 1143, 'get_well': 326, 'republican_operate': 810, 'board_election': 101, 'former_fbi': 292, 'local_government': 519, 'take_care': 964, 'trump_aide': 1032, 'angela_merkel': 25, 'mar_lago': 556, 'election_state': 248, 'operate_train': 691, 'florida_school': 288, 'anyone_notice': 41, 'get_arrest': 310, 'national_guard': 616, 'happen_trump': 388, 'trump_claim': 1041, 'white_nationalist': 1171, 'background_check': 62, 'lose_hillary': 526, 'new_book': 633, 'theduran_dot': 986, 'spend_money': 928, 'go_take': 342, 'lady_call': 476, 'world_leader': 1185, 'democratic_party': 225, 'commit_suicide': 165, 'not_let': 664, 'gang_rape': 305, 'crooked_hillary': 196, 'tower_meeting': 1023, 'jame_okeefe': 443, 'top_trump': 1020, 'everyone_know': 256, 'high_energy': 401, 'national_emergency': 614, 'website_twitter': 1160, 'top_kek': 1018, 'line_item': 512, 'answer_question': 28, 'not_forget': 659, 'constitutional_convention': 174, 'trump_curse': 1043, 'andrew_mccabe': 24, 'melber_msnbc': 572, 'lisa_page': 514, 'deal_trump': 213, 'mueller_probe': 605, 'boy_scout': 107, 'com_scc': 159, 'not_send': 670, 'dem_want': 221, 'today_action': 1014, 'bone_spur': 103, 'tlaib_fuck': 1013, 'uk_police': 1116, 'peace_prize': 704, 'trump_trade': 1098, 'comey_fire': 163, 'trump_family': 1051, 'let_sink': 502, 'second_amendment': 875, 'shot_fire': 899, 'afternoon_magathread': 9, 'internet_big': 431, 'thing_go': 988, 'video_donald': 1125, 'good_job': 356, 'red_pill': 793, 'bad_guy': 63, 'slam_promote': 912, 'kremlin_propaganda': 473, 'civil_right': 147, 'comey_say': 164, 'anti_immigration': 32, 'political_view': 734, 'nazi_group': 621, 'go_vote': 346, 'trump_history': 1057, 'black_life': 94, 'russian_intelligence': 846, 'use_term': 1119, 'watch_trump': 1154, 'susan_rice': 959, 'anti_gun': 31, 'vladimir_putin': 1131, 'andrew_anglin': 23, 'founder_gavin': 294, 'crown_prince': 197, 'happy_birthday': 389, 'work_trump': 1184, 'room_pm': 834, 'trump_time': 1096, 'hillary_lose': 403, 'secret_service': 876, 'top_spice': 1019, 'carry_shutdown': 129, 'registration_deadline': 796, 'third_world': 1000, 'repeal_replace': 804, 'feel_free': 273, 'try_make': 1107, 'voter_datum': 1133, 'court_justice': 188, 'make_shit': 546, 'conspiracy_theorist': 173, 'good_thing': 360, 'come_gun': 160, 'show_trump': 903, 'action_president': 2, 'make_money': 544, 'report_trump': 807, 'spy_trump': 933, 'good_afternoon': 351, 'clinton_foundation': 149, 'go_try': 344, 'huckabee_sander': 415, 'penthouse_rightward': 707, 'due_process': 243, 'trump_great': 1055, 'gun_owner': 377, 'trump_accuser': 1030, 'attack_tran': 55, 'not_vote': 676, 'life_matter': 511, 'trump_proclaim': 1080, 'census_citizenship': 133, 'fact_check': 262, 'youtube_recommend': 1201, 'bear_arm': 73, 'nominee_brett': 647, 'trump_university': 1101, 'thing_say': 991, 'know_people': 471, 'pulse_nightclub': 772, 'admit_villain': 6, 'trump_national': 1069, 'muslim_refugee': 609, 'not_come': 656, 'election_night': 247, 'ban_gun': 68, 'trump_meet': 1067, 'trump_promise': 1081, 'call_violence': 122, 'feel_good': 274, 'not_use': 675, 'west_virginia': 1164, 'mike_cernovich': 588, 'rick_saccone': 815, 'boss_fight': 105, 'golf_course': 350, 'bill_mitchell': 88, 'lose_election': 525, 'brazilian_fascist': 108, 'try_find': 1106, 'secretary_sarah': 877, 'charlie_endorse': 137, 'liberal_say': 506, 'would_take': 1196, 'white_power': 1172, 'would_get': 1188, 'interesting_ad': 430, 'send_senate': 890, 'nomination_send': 646, 'trump_entertainment': 1050, 'let_get': 494, 'start_get': 936, 'bill_maher': 87, 'demise_response': 222, 'abc_news': 0, 'derangement_syndrome': 229, 'york_city': 1199, 'county_sheriff': 187, 'tell_trump': 979, 'early_voting': 244, 'american_include': 20, 'report_say': 806, 'thank_god': 984, 'equal_right': 253, 'brian_kemp': 110, 'conceal_carry': 168, 'take_gun': 966, 'veteran_affair': 1124, 'trump_official': 1071, 'time_get': 1006, 'wall_darth': 1137, 'bet_lot': 81, 'whole_thing': 1175, 'vader_read': 1120, 'virtue_signal': 1129, 'trump_end': 1049, 'could_not': 181, 'trump_presidency': 1079, 'meme_war': 575, 'good_hope': 354, 'big_deal': 83, 'let_take': 503, 'national_anthem': 613, 'security_clearance': 880, 'not_able': 650, 'deadly_force': 212, 'tired_winning': 1011, 'new_year': 636, 'mcinne_think': 566, 'semi_automatic': 885, 'let_see': 500, 'american_history': 19, 'presidential_campaign': 752, 'make_feel': 543, 'super_bowl': 951, 'pajama_nazi': 694, 'video_game': 1126, 'turn_magazine': 1112, 'alt_righter': 12, 'kurt_eichenwald': 474, 'not_give': 660, 'day_trump': 208, 'amp_local': 21, 'candidate_trump': 128, 'darth_vader': 202, 'anyone_think': 44, 'trump_meeting': 1068, 'russian_collusion': 845, 'shatter_chapter': 898, 'trump_praise': 1078, 'cesar_sayoc': 134, 'people_know': 712, 'readout_vice': 788, 'trump_blame': 1039, 'not_button': 654, 'trump_announce': 1034, 'terror_attack': 980, 'time_high': 1007, 'trump_spend': 1092, 'response_iconoclast': 811, 'want_gun': 1142, 'trump_lawyer': 1060, 'roseanne_barr': 836, 'send_good': 889, 'would_need': 1194, 'sean_spicer': 873, 'south_african': 921, 'long_time': 520, 'good_way': 362, 'trump_like': 1064, 'trey_gowdy': 1029, 'hush_money': 417, 'john_mccain': 451, 'take_look': 968, 'take_time': 970, 'need_help': 627, 'post_history': 740, 'special_election': 926, 'rekt_jovi': 797, 'political_correctness': 732, 'cnn_fake': 152, 'racial_slur': 776, 'protest_bet': 768, 'press_brief': 757, 'manipulate_trump': 552, 'weapon_ban': 1157, 'tolerant_leave': 1017, 'plea_deal': 729, 'family_member': 264, 'last_month': 479, 'everyone_call': 255, 'weekly_address': 1161, 'country_not': 186, 'sex_trafficking': 894, 'vegas_shoot': 1122, 'history_donald': 406, 'say_something': 862, 'wall_campaign': 1136, 'supporter_attack': 954, 'rest_world': 812, 'independence_day': 424, 'not_allow': 651, 'house_representative': 414, 'joy_villa': 456, 'south_park': 923, 'lawyer_say': 485, 'liberal_friend': 504, 'black_panther': 96, 'anti_semitic': 34, 'facebook_page': 260, 'concentration_camp': 169, 'daily_stormer': 201, 'fiddler_roof': 278, 'nee_try': 625, 'obamacare_dead': 684, 'prompt_reply': 766, 'project_verita': 764, 'say_thank': 864, 'call_racist': 121, 'link_comment': 513, 'federal_government': 270, 'grand_jury': 364, 'right_group': 819, 'current_event': 198, 'hyde_smith': 418, 'word_rashida': 1182, 'music_selection': 608, 'see_lot': 882, 'real_estate': 789, 'late_night': 481, 'dot_com': 238, 'trump_former': 1052, 'love_guy': 533, 'sunday_gunday': 950, 'foreign_policy': 290, 'keep_get': 461, 'vote_democrat': 1132, 'not_work': 678, 'register_vote': 795, 'campaign_youtube': 125, 'pro_life': 763, 'sexual_misconduct': 895, 'counsel_mueller': 183, 'god_emperor': 349, 'not_drill': 657, 'tie_white': 1005, 'take_control': 965, 'trump_legal': 1062, 'year_prison': 1198, 'paul_manafort': 700, 'social_media': 917, 'jamal_khashoggi': 442, 'fire_fbi': 281, 'donna_brazile': 237, 'readout_president': 787, 'let_keep': 496, 'fire_mccabe': 282, 'chemical_attack': 140, 'compare_country': 167, 'male_student': 549, 'statement_president': 941, 'significant_tweet': 911, 'poll_show': 736, 'get_rid': 322, 'hate_mail': 394, 'take_action': 963, 'rashida_fuck': 784, 'islamic_terror': 437, 'social_justice': 916, 'orange_county': 692, 'roosh_plan': 835, 'want_see': 1147, 'money_spend': 597, 'struggle_black': 947, 'punch_nazi': 773, 'trump_adviser': 1031, 'trump_top': 1097, 'tough_guy': 1021, 'god_bless': 348, 'good_news': 359, 'join_nra': 453, 'unite_right': 1118, 'go_trump': 343, 'umm_not': 1117, 'get_maga': 317, 'carter_page': 130, 'create_job': 190, 'feel_bad': 272, 'tick_tock': 1003, 'air_force': 10, 'run_congress': 840, 'way_fuck': 1156, 'statement_press': 942, 'anyone_post': 42, 'trump_discuss': 1047, 'trump_look': 1065, 'christine_blasey': 142, 'gun_video': 379, 'co_worker': 156, 'miss_something': 594, 'trump_visit': 1102, 'iowa_police': 435, 'trump_declare': 1044, 'look_bad': 521}\n",
            "['abc_news', 'accord_definition', 'action_president', 'active_supporter', 'ad_youtube', 'administration_official', 'admit_villain', 'advise_trump', 'africa_look', 'afternoon_magathread', 'air_force', 'alexandria_ocasio', 'alt_righter', 'amendment_right', 'america_first', 'america_great', 'american_citizen', 'american_democracy', 'american_flag', 'american_history', 'american_include', 'amp_local', 'amp_nbsp', 'andrew_anglin', 'andrew_mccabe', 'angela_merkel', 'announce_intent', 'anonymous_source', 'answer_question', 'anthony_weiner', 'anti_fascist', 'anti_gun', 'anti_immigration', 'anti_muslim', 'anti_semitic', 'anti_semitism', 'anyone_explain', 'anyone_feel', 'anyone_find', 'anyone_get', 'anyone_know', 'anyone_notice', 'anyone_post', 'anyone_see', 'anyone_think', 'archive_brutalist', 'archive_theduran', 'ari_melber', 'arm_fire', 'asian_amp', 'ask_question', 'ask_trump', 'assault_rifle', 'assault_weapon', 'attack_attendee', 'attack_tran', 'attack_trump', 'attendee_elizabeth', 'austin_bomber', 'austin_bombing', 'automatic_weapon', 'awan_brother', 'background_check', 'bad_guy', 'bad_thing', 'ban_assault', 'ban_bump', 'ban_get', 'ban_gun', 'ban_post', 'barron_trump', 'base_jame', 'base_stickman', 'bear_arm', 'become_president', 'beg_ban', 'believe_trump', 'ben_garrison', 'ben_shapiro', 'bend_knee', 'bet_guess', 'bet_lot', 'bezos_jeff', 'big_deal', 'bilateral_meeting', 'bill_clinton', 'bill_kristol', 'bill_maher', 'bill_mitchell', 'bill_not', 'bill_nye', 'bill_right', 'birthright_citizenship', 'black_american', 'black_life', 'black_male', 'black_panther', 'black_white', 'blasey_ford', 'bless_america', 'blue_state', 'board_election', 'bomber_muslim', 'bone_spur', 'border_security', 'boss_fight', 'boy_founder', 'boy_scout', 'brazilian_fascist', 'break_news', 'brian_kemp', 'bridge_collapse', 'briefing_interview', 'brother_sister', 'broward_county', 'budget_omnibus', 'bump_stock', 'button_idiot', 'call_cop', 'call_go', 'call_president', 'call_racist', 'call_violence', 'campaign_finance', 'campaign_manager', 'campaign_youtube', 'cancer_warning', 'candace_owen', 'candidate_trump', 'carry_shutdown', 'carter_page', 'case_trump', 'cbs_news', 'census_citizenship', 'cesar_sayoc', 'change_mind', 'chapter_shatter', 'charlie_endorse', 'charlie_kirk', 'chelsea_clinton', 'chemical_attack', 'chemical_weapon', 'christine_blasey', 'chuck_schumer', 'cindy_hyde', 'circle_jerk', 'citizenship_question', 'civil_right', 'clear_backpack', 'clinton_foundation', 'clinton_rapist', 'cloud_act', 'cnn_fake', 'cnn_msnbc', 'cnn_report', 'cnn_suck', 'co_worker', 'collude_russia', 'com_archive', 'com_scc', 'come_gun', 'come_say', 'come_trump', 'comey_fire', 'comey_say', 'commit_suicide', 'common_sense', 'compare_country', 'conceal_carry', 'concentration_camp', 'concern_troll', 'confederate_flag', 'congressional_district', 'conspiracy_theorist', 'constitutional_convention', 'constitutional_right', 'convention_state', 'could_get', 'could_go', 'could_help', 'could_manipulate', 'could_not', 'could_use', 'counsel_mueller', 'counsel_robert', 'count_dankula', 'country_not', 'county_sheriff', 'court_justice', 'court_nominee', 'create_job', 'creepy_joe', 'crime_border', 'criminal_investigation', 'cringe_compilation', 'crook_hillary', 'crooked_hillary', 'crown_prince', 'current_event', 'cuss_word', 'daily_reminder', 'daily_stormer', 'darth_vader', 'dave_rubin', 'david_brock', 'david_clarke', 'david_pakman', 'day_election', 'day_trump', 'dc_january', 'dead_injure', 'deadline_election', 'deadly_force', 'deal_trump', 'death_penalty', 'death_year', 'debbie_wasserman', 'debunk_alt', 'defense_secretary', 'delete_facebook', 'delete_tweet', 'dem_want', 'demise_response', 'democrat_party', 'democrat_want', 'democratic_party', 'demographic_demise', 'department_justice', 'deputy_director', 'derangement_syndrome', 'deus_vult', 'devin_nune', 'die_year', 'dinesh_dsouza', 'dnc_server', 'doj_fbi', 'domestic_terrorism', 'donna_brazile', 'dot_com', 'double_scoop', 'double_standard', 'drain_swamp', 'dude_kill', 'due_process', 'early_voting', 'edition_good', 'election_day', 'election_night', 'election_state', 'elon_musk', 'emotional_support', 'endorse_active', 'entertainment_resort', 'equal_right', 'eric_holder', 'everyone_call', 'everyone_know', 'execute_white', 'extremist_group', 'facebook_account', 'facebook_page', 'facebook_post', 'fact_check', 'fail_new', 'family_member', 'family_separation', 'fascist_dictatorship', 'fbi_doj', 'fbi_informant', 'fbi_investigation', 'federal_government', 'federal_reserve', 'feel_bad', 'feel_free', 'feel_good', 'fellow_pede', 'fellow_pes', 'feminine_wizard', 'fiddler_roof', 'find_dead', 'find_interesting', 'fire_fbi', 'fire_mccabe', 'fire_mueller', 'first_place', 'first_president', 'first_year', 'flag_fly', 'florida_school', 'food_stamp', 'foreign_policy', 'former_cia', 'former_fbi', 'former_trump', 'founder_gavin', 'fox_friend', 'free_zone', 'fuck_alright', 'fuck_cuss', 'fuck_nazi', 'fuck_right', 'fuck_tlaib', 'fuck_video', 'full_retard', 'fusion_gps', 'gang_rape', 'gavin_mcinne', 'george_papadopoulo', 'george_webb', 'germanys_demographic', 'get_arrest', 'get_btfo', 'get_elect', 'get_fire', 'get_fuck', 'get_job', 'get_love', 'get_maga', 'get_pay', 'get_ready', 'get_real', 'get_rekt', 'get_rid', 'get_shut', 'get_start', 'get_tired', 'get_well', 'gina_haspel', 'give_good', 'give_gun', 'give_money', 'give_remark', 'give_right', 'give_trump', 'global_warming', 'go_fuck', 'go_full', 'go_get', 'go_good', 'go_happen', 'go_say', 'go_see', 'go_take', 'go_trump', 'go_try', 'go_viral', 'go_vote', 'go_zone', 'god_bless', 'god_emperor', 'golf_course', 'good_afternoon', 'good_evening', 'good_friday', 'good_hope', 'good_idea', 'good_job', 'good_luck', 'good_morning', 'good_news', 'good_thing', 'good_timeline', 'good_way', 'government_shutdown', 'grand_jury', 'great_country', 'great_day', 'great_job', 'great_love', 'great_state', 'group_people', 'gun_ban', 'gun_control', 'gun_death', 'gun_free', 'gun_grabber', 'gun_law', 'gun_owner', 'gun_right', 'gun_video', 'gun_violence', 'guy_feel', 'guy_get', 'guy_gun', 'guy_not', 'guy_think', 'hack_bernie', 'hannity_advise', 'happen_trump', 'happy_birthday', 'hard_work', 'harvey_weinstein', 'hate_america', 'hate_group', 'hate_mail', 'hate_say', 'health_insurance', 'heather_heyer', 'help_american', 'help_keep', 'help_trump', 'high_energy', 'hillary_email', 'hillary_lose', 'hillary_supporter', 'hispanic_asian', 'history_donald', 'history_trump', 'hit_piece', 'holy_shit', 'homeland_security', 'hope_bet', 'hope_everyone', 'house_intelligence', 'house_representative', 'huckabee_sander', 'huma_abedin', 'hush_money', 'hyde_smith', 'identity_politic', 'illegal_alien', 'illegal_immigrant', 'illegal_immigration', 'include_black', 'independence_day', 'infowar_com', 'inspector_general', 'intelligence_agency', 'intelligence_community', 'intent_nominate', 'interesting_ad', 'internet_big', 'interview_rally', 'investigate_trump', 'investigation_trump', 'iowa_police', 'iran_deal', 'islamic_terror', 'islamic_terrorism', 'islamic_terrorist', 'jack_posobiec', 'jam_wood', 'jamal_khashoggi', 'jame_okeefe', 'jame_wood', 'jar_kushner', 'jason_chaffetz', 'jeff_flake', 'jim_acosta', 'joe_biden', 'john_huber', 'john_mccain', 'john_podesta', 'join_nra', 'jone_infowar', 'joseph_watson', 'joy_villa', 'judicial_watch', 'judiciary_committee', 'justin_trudeau', 'kathy_griffin', 'keep_get', 'keep_racist', 'kek_meme', 'know_africa', 'know_go', 'know_guy', 'know_happen', 'know_many', 'know_not', 'know_nothing', 'know_people', 'know_say', 'kremlin_propaganda', 'kurt_eichenwald', 'kyle_kashuv', 'lady_call', 'lady_melania', 'lady_night', 'last_month', 'last_time', 'late_night', 'laura_loomer', 'law_abide', 'lawyer_michael', 'lawyer_say', 'lawyer_trump', 'leave_go', 'leave_lean', 'leave_meme', 'leave_right', 'leave_think', 'legal_immigrant', 'legal_team', 'let_get', 'let_go', 'let_keep', 'let_make', 'let_meme', 'let_not', 'let_see', 'let_show', 'let_sink', 'let_take', 'liberal_friend', 'liberal_medium', 'liberal_say', 'liberal_think', 'liberalism_mental', 'lie_oath', 'lie_trump', 'life_matter', 'line_item', 'link_comment', 'lisa_page', 'literal_nazi', 'little_girl', 'live_president', 'live_stream', 'local_government', 'long_time', 'look_bad', 'look_compare', 'loretta_lynch', 'los_angele', 'lose_election', 'lose_hillary', 'lose_mind', 'lot_money', 'lot_people', 'love_alright', 'love_base', 'love_country', 'love_guy', 'love_president', 'love_right', 'love_trump', 'low_energy', 'magazine_weird', 'mail_ballot', 'mainstream_medium', 'make_big', 'make_deal', 'make_feel', 'make_money', 'make_sense', 'make_shit', 'make_trump', 'make_way', 'male_student', 'man_not', 'man_woman', 'manipulate_trump', 'manly_robust', 'many_time', 'many_tough', 'mar_lago', 'march_life', 'march_live', 'marine_pen', 'mark_dice', 'mark_zuckerberg', 'master_race', 'mayor_amp', 'mccabe_fire', 'mccabe_lie', 'mcinne_think', 'medium_outlet', 'meet_prime', 'meeting_president', 'meeting_trump', 'meetup_dc', 'melber_msnbc', 'meme_contest', 'meme_magic', 'meme_war', 'mental_disorder', 'mental_health', 'mental_illness', 'mexico_pay', 'mgtow_poster', 'michael_cohen', 'michael_flynn', 'michael_moore', 'midday_magathread', 'midterm_election', 'migrant_caravan', 'migrant_child', 'mike_cernovich', 'mike_penny', 'mike_pompeo', 'military_parade', 'million_dollar', 'milo_yiannopoulos', 'miss_something', 'modern_day', 'money_go', 'money_spend', 'month_emotional', 'month_old', 'morning_joe', 'morning_magathread', 'msnbc_contributor', 'much_alt', 'mueller_investigate', 'mueller_probe', 'mueller_team', 'muh_russia', 'music_selection', 'muslim_refugee', 'muslim_woman', 'must_stop', 'name_seth', 'national_anthem', 'national_emergency', 'national_enquirer', 'national_guard', 'native_american', 'natural_gas', 'nazi_beg', 'nazi_germany', 'nazi_group', 'nazi_salute', 'nbsp_amp', 'nbsp_not', 'nee_try', 'need_gun', 'need_help', 'need_know', 'need_make', 'need_stop', 'neighbor_stupid', 'neo_nazi', 'new_book', 'new_jersey', 'new_poll', 'new_year', 'new_yorker', 'news_cnn', 'news_fake', 'news_real', 'news_story', 'next_time', 'next_week', 'next_year', 'nightclub_shooter', 'nomination_send', 'nominee_brett', 'non_muslim', 'north_carolina', 'not_able', 'not_allow', 'not_believe', 'not_budget', 'not_button', 'not_charge', 'not_come', 'not_drill', 'not_elizabeth', 'not_forget', 'not_give', 'not_guilty', 'not_infringe', 'not_know', 'not_let', 'not_nancy', 'not_pay', 'not_president', 'not_say', 'not_see', 'not_send', 'not_support', 'not_take', 'not_think', 'not_understand', 'not_use', 'not_vote', 'not_want', 'not_work', 'nothing_see', 'nuclear_weapon', 'nune_memo', 'obama_admin', 'obama_era', 'obamacare_dead', 'official_say', 'omar_mateen', 'omnibus_bill', 'omnibus_spending', 'op_ed', 'open_eye', 'operate_train', 'orange_county', 'original_post', 'pajama_nazi', 'palm_beach', 'paris_accord', 'parkland_student', 'patriot_prayer', 'paul_joseph', 'paul_manafort', 'pay_attention', 'pay_trump', 'pay_wall', 'peace_prize', 'pede_get', 'pede_need', 'penthouse_rightward', 'people_attack', 'people_believe', 'people_die', 'people_go', 'people_know', 'people_make', 'people_may', 'people_need', 'people_say', 'people_see', 'people_think', 'people_want', 'percent_population', 'peter_strzok', 'pier_morgan', 'pipe_bomb', 'pittsburgh_shooter', 'pittsburgh_synagogue', 'plan_meetup', 'plan_parenthood', 'play_right', 'plea_deal', 'plead_guilty', 'point_usa', 'political_correctness', 'political_party', 'political_view', 'poll_close', 'poll_show', 'polling_datum', 'pope_francis', 'post_comment', 'post_history', 'post_obama', 'post_title', 'post_trump', 'poster_rally', 'praise_kek', 'pre_trump', 'president_mike', 'president_moon', 'president_pence', 'president_say', 'president_unite', 'presidential_campaign', 'presidential_election', 'presidential_memorandum', 'press_archive', 'press_beat', 'press_brief', 'press_briefing', 'press_secretary', 'primary_schedule', 'prime_minister', 'pro_gun', 'pro_life', 'project_verita', 'promote_kremlin', 'prompt_reply', 'propaganda_machine', 'protest_bet', 'protest_trump', 'proud_boy', 'public_school', 'pulse_nightclub', 'punch_nazi', 'qanon_conspiracy', 'question_census', 'racial_slur', 'racist_teaching', 'racist_white', 'radical_islamic', 'rally_feminine', 'rally_iowa', 'rand_paul', 'rape_year', 'rashida_fuck', 'reach_level', 'read_trump', 'readout_president', 'readout_vice', 'real_estate', 'real_news', 'realize_admit', 'recent_event', 'red_pill', 'red_pille', 'register_vote', 'registration_deadline', 'rekt_jovi', 'religion_peace', 'remark_president', 'remark_vice', 'remember_republican', 'remember_trump', 'rep_steve', 'repeal_replace', 'repeal_second', 'report_say', 'report_trump', 'report_white', 'reporter_expose', 'republican_operate', 'response_iconoclast', 'rest_world', 'rich_murder', 'richard_spencer', 'rick_saccone', 'rick_wilson', 'right_activist', 'right_content', 'right_group', 'right_love', 'right_people', 'right_proud', 'right_rally', 'right_self', 'right_troll', 'right_wall', 'right_winger', 'rightward_turn', 'rise_right', 'rob_schneider', 'robert_bower', 'robust_trump', 'ron_desantis', 'room_pm', 'roosh_plan', 'roseanne_barr', 'roseanne_revival', 'rudy_giuliani', 'rule_law', 'run_congress', 'run_president', 'russia_story', 'russian_agent', 'russian_ambassador', 'russian_collusion', 'russian_intelligence', 'russian_intervention', 'russian_oligarch', 'russian_propaganda', 'russian_troll', 'sale_transfer', 'san_diego', 'sanctuary_city', 'sanctuary_state', 'sander_campaign', 'say_anything', 'say_fuck', 'say_get', 'say_go', 'say_need', 'say_russia', 'say_something', 'say_take', 'say_thank', 'say_thing', 'say_way', 'school_board', 'school_shoot', 'school_shooter', 'school_talk', 'scott_adam', 'scott_pruitt', 'sean_spicer', 'search_result', 'second_amendment', 'secret_service', 'secretary_sarah', 'secretary_sean', 'security_adviser', 'security_clearance', 'see_get', 'see_lot', 'see_many', 'self_defense', 'semi_automatic', 'senate_candidate', 'senate_seat', 'senate_today', 'send_good', 'send_senate', 'sentence_year', 'serious_question', 'seth_rich', 'sex_trafficking', 'sexual_misconduct', 'shall_not', 'sharia_law', 'shatter_chapter', 'shot_fire', 'shot_kill', 'show_love', 'show_support', 'show_trump', 'show_youtube', 'shut_tantrum', 'shutdown_state', 'side_beef', 'sign_bill', 'sign_executive', 'sign_omnibus', 'significant_tweet', 'slam_promote', 'slush_fund', 'small_arm', 'small_business', 'social_justice', 'social_media', 'someone_explain', 'something_big', 'something_happen', 'south_african', 'south_korea', 'south_park', 'southern_border', 'speaker_corner', 'special_election', 'special_prosecutor', 'spend_money', 'spending_bill', 'spice_day', 'spread_word', 'spy_could', 'spy_trump', 'stable_genius', 'star_war', 'start_get', 'state_america', 'state_house', 'state_local', 'state_senate', 'statement_president', 'statement_press', 'stefan_molyneux', 'stephen_miller', 'steve_king', 'steve_scalise', 'struggle_black', 'student_guy', 'study_find', 'sunday_gunday', 'super_bowl', 'support_pajama', 'support_president', 'supporter_attack', 'supporter_brazilian', 'supporter_leave', 'supremacist_group', 'supremacist_rally', 'susan_rice', 'synagogue_shooter', 'synagogue_shooting', 'tad_devine', 'take_action', 'take_care', 'take_control', 'take_gun', 'take_knee', 'take_look', 'take_place', 'take_time', 'take_trump', 'talk_struggle', 'tantrum_protest', 'tax_plan', 'tax_rate', 'tax_reform', 'teaching_youth', 'tear_gas', 'tell_trump', 'terror_attack', 'terror_organization', 'text_bot', 'text_message', 'thank_god', 'thank_pede', 'theduran_dot', 'theresa_may', 'thing_go', 'thing_happen', 'thing_not', 'thing_say', 'think_could', 'think_get', 'think_go', 'think_make', 'think_neighbor', 'think_not', 'think_people', 'think_president', 'third_world', 'threaten_kill', 'thursday_june', 'tick_tock', 'tide_pod', 'tie_white', 'time_get', 'time_high', 'time_make', 'time_take', 'time_trump', 'tired_winning', 'title_month', 'tlaib_fuck', 'today_action', 'today_get', 'today_trump', 'tolerant_leave', 'top_kek', 'top_spice', 'top_trump', 'tough_guy', 'tough_manly', 'tower_meeting', 'tower_moscow', 'town_hall', 'trade_deal', 'train_kill', 'tran_people', 'trey_gowdy', 'trump_accuser', 'trump_adviser', 'trump_aide', 'trump_america', 'trump_announce', 'trump_approval', 'trump_attack', 'trump_bad', 'trump_base', 'trump_blame', 'trump_carry', 'trump_claim', 'trump_continue', 'trump_curse', 'trump_declare', 'trump_defend', 'trump_derangement', 'trump_discuss', 'trump_elect', 'trump_end', 'trump_entertainment', 'trump_family', 'trump_former', 'trump_foundation', 'trump_fox', 'trump_great', 'trump_hate', 'trump_history', 'trump_host', 'trump_keep', 'trump_lawyer', 'trump_leave', 'trump_legal', 'trump_lie', 'trump_like', 'trump_look', 'trump_lose', 'trump_meet', 'trump_meeting', 'trump_national', 'trump_need', 'trump_official', 'trump_order', 'trump_organization', 'trump_pardon', 'trump_participate', 'trump_people', 'trump_pick', 'trump_praise', 'trump_presidency', 'trump_proclaim', 'trump_promise', 'trump_protest', 'trump_putin', 'trump_republican', 'trump_response', 'trump_rhetoric', 'trump_russian', 'trump_show', 'trump_slam', 'trump_spam', 'trump_speech', 'trump_spend', 'trump_tariff', 'trump_team', 'trump_threaten', 'trump_time', 'trump_top', 'trump_trade', 'trump_train', 'trump_travel', 'trump_university', 'trump_visit', 'trump_win', 'trump_work', 'trust_trump', 'try_find', 'try_make', 'try_offend', 'try_take', 'try_tell', 'tucker_viewer', 'turn_magazine', 'turn_point', 'tweet_news', 'twitt_trump', 'uk_police', 'umm_not', 'unite_right', 'use_term', 'vader_read', 'van_jone', 'vegas_shoot', 'vegas_shooter', 'veteran_affair', 'video_donald', 'video_game', 'viewer_hate', 'violent_trump', 'virtue_signal', 'visit_high', 'vladimir_putin', 'vote_democrat', 'voter_datum', 'voter_suppression', 'vult_deus', 'wall_campaign', 'wall_darth', 'wall_street', 'want_get', 'want_give', 'want_go', 'want_gun', 'want_hear', 'want_make', 'want_open', 'want_say', 'want_see', 'want_share', 'want_take', 'want_trump', 'warn_trump', 'warren_rally', 'wasserman_schultz', 'watch_trump', 'watch_video', 'way_fuck', 'weapon_ban', 'wear_maga', 'wear_qanon', 'website_twitter', 'weekly_address', 'weiner_laptop', 'weird_politic', 'west_virginia', 'west_wing', 'western_civilization', 'white_guy', 'white_lady', 'white_male', 'white_nationalism', 'white_nationalist', 'white_power', 'white_privilege', 'white_woman', 'whole_thing', 'wilson_respond', 'win_special', 'wing_commit', 'wing_extremist', 'wish_could', 'wizard_illusion', 'word_rashida', 'word_text', 'work_trump', 'world_leader', 'would_appreciate', 'would_fight', 'would_get', 'would_go', 'would_happen', 'would_like', 'would_love', 'would_make', 'would_need', 'would_say', 'would_take', 'wtf_go', 'year_prison', 'york_city', 'youtube_ban', 'youtube_recommend']\n"
          ],
          "name": "stdout"
        }
      ]
    },
    {
      "cell_type": "code",
      "metadata": {
        "id": "kh8f9ExKiSiq",
        "colab_type": "code",
        "outputId": "e28eff39-663d-4f4e-f1e0-abc7084318f5",
        "colab": {
          "base_uri": "https://localhost:8080/",
          "height": 34
        }
      },
      "source": [
        "#Counting how many vectores composed only by zero exits (I mean post without any of the keywords selected)\n",
        "tot=0\n",
        "for elem in res:\n",
        "  cnt=0\n",
        "  for i in range(len(elem)):\n",
        "    if elem[i] == 0:\n",
        "      cnt+=1\n",
        "  if cnt==len(elem):\n",
        "    tot+=1\n",
        "print(tot)"
      ],
      "execution_count": 26,
      "outputs": [
        {
          "output_type": "stream",
          "text": [
            "25577\n"
          ],
          "name": "stdout"
        }
      ]
    },
    {
      "cell_type": "markdown",
      "metadata": {
        "id": "2hVE78gEo-gi",
        "colab_type": "text"
      },
      "source": [
        "Labelling training data"
      ]
    },
    {
      "cell_type": "code",
      "metadata": {
        "id": "VYYgXjKsfOfW",
        "colab_type": "code",
        "colab": {}
      },
      "source": [
        "with open('/content/gdrive/My Drive/Tesi/LDA2/Related/vectors_FAR.pickle', 'rb') as handle:\n",
        "    vectors_FAR = pickle.load(handle)"
      ],
      "execution_count": 0,
      "outputs": []
    },
    {
      "cell_type": "code",
      "metadata": {
        "id": "M1gqcbQ3pW9I",
        "colab_type": "code",
        "colab": {}
      },
      "source": [
        "FAR_training=pd.DataFrame(vectors_FAR[:5000])"
      ],
      "execution_count": 0,
      "outputs": []
    },
    {
      "cell_type": "code",
      "metadata": {
        "id": "hHYI78xw7q84",
        "colab_type": "code",
        "colab": {
          "base_uri": "https://localhost:8080/",
          "height": 253
        },
        "outputId": "04e59c24-3e1d-4c70-aff9-73277e7f78b4"
      },
      "source": [
        "FAR_training.head()"
      ],
      "execution_count": 31,
      "outputs": [
        {
          "output_type": "execute_result",
          "data": {
            "text/html": [
              "<div>\n",
              "<style scoped>\n",
              "    .dataframe tbody tr th:only-of-type {\n",
              "        vertical-align: middle;\n",
              "    }\n",
              "\n",
              "    .dataframe tbody tr th {\n",
              "        vertical-align: top;\n",
              "    }\n",
              "\n",
              "    .dataframe thead th {\n",
              "        text-align: right;\n",
              "    }\n",
              "</style>\n",
              "<table border=\"1\" class=\"dataframe\">\n",
              "  <thead>\n",
              "    <tr style=\"text-align: right;\">\n",
              "      <th></th>\n",
              "      <th>0</th>\n",
              "      <th>1</th>\n",
              "      <th>2</th>\n",
              "      <th>3</th>\n",
              "      <th>4</th>\n",
              "      <th>5</th>\n",
              "      <th>6</th>\n",
              "      <th>7</th>\n",
              "      <th>8</th>\n",
              "      <th>9</th>\n",
              "      <th>10</th>\n",
              "      <th>11</th>\n",
              "      <th>12</th>\n",
              "      <th>13</th>\n",
              "      <th>14</th>\n",
              "      <th>15</th>\n",
              "      <th>16</th>\n",
              "      <th>17</th>\n",
              "      <th>18</th>\n",
              "      <th>19</th>\n",
              "      <th>20</th>\n",
              "      <th>21</th>\n",
              "      <th>22</th>\n",
              "      <th>23</th>\n",
              "      <th>24</th>\n",
              "      <th>25</th>\n",
              "      <th>26</th>\n",
              "      <th>27</th>\n",
              "      <th>28</th>\n",
              "      <th>29</th>\n",
              "      <th>30</th>\n",
              "      <th>31</th>\n",
              "      <th>32</th>\n",
              "      <th>33</th>\n",
              "      <th>34</th>\n",
              "      <th>35</th>\n",
              "      <th>36</th>\n",
              "      <th>37</th>\n",
              "      <th>38</th>\n",
              "      <th>39</th>\n",
              "      <th>...</th>\n",
              "      <th>1162</th>\n",
              "      <th>1163</th>\n",
              "      <th>1164</th>\n",
              "      <th>1165</th>\n",
              "      <th>1166</th>\n",
              "      <th>1167</th>\n",
              "      <th>1168</th>\n",
              "      <th>1169</th>\n",
              "      <th>1170</th>\n",
              "      <th>1171</th>\n",
              "      <th>1172</th>\n",
              "      <th>1173</th>\n",
              "      <th>1174</th>\n",
              "      <th>1175</th>\n",
              "      <th>1176</th>\n",
              "      <th>1177</th>\n",
              "      <th>1178</th>\n",
              "      <th>1179</th>\n",
              "      <th>1180</th>\n",
              "      <th>1181</th>\n",
              "      <th>1182</th>\n",
              "      <th>1183</th>\n",
              "      <th>1184</th>\n",
              "      <th>1185</th>\n",
              "      <th>1186</th>\n",
              "      <th>1187</th>\n",
              "      <th>1188</th>\n",
              "      <th>1189</th>\n",
              "      <th>1190</th>\n",
              "      <th>1191</th>\n",
              "      <th>1192</th>\n",
              "      <th>1193</th>\n",
              "      <th>1194</th>\n",
              "      <th>1195</th>\n",
              "      <th>1196</th>\n",
              "      <th>1197</th>\n",
              "      <th>1198</th>\n",
              "      <th>1199</th>\n",
              "      <th>1200</th>\n",
              "      <th>1201</th>\n",
              "    </tr>\n",
              "  </thead>\n",
              "  <tbody>\n",
              "    <tr>\n",
              "      <th>0</th>\n",
              "      <td>0</td>\n",
              "      <td>0</td>\n",
              "      <td>0</td>\n",
              "      <td>0</td>\n",
              "      <td>0</td>\n",
              "      <td>0</td>\n",
              "      <td>0</td>\n",
              "      <td>0</td>\n",
              "      <td>0</td>\n",
              "      <td>0</td>\n",
              "      <td>0</td>\n",
              "      <td>0</td>\n",
              "      <td>0</td>\n",
              "      <td>0</td>\n",
              "      <td>0</td>\n",
              "      <td>0</td>\n",
              "      <td>0</td>\n",
              "      <td>0</td>\n",
              "      <td>0</td>\n",
              "      <td>0</td>\n",
              "      <td>0</td>\n",
              "      <td>0</td>\n",
              "      <td>0</td>\n",
              "      <td>0</td>\n",
              "      <td>0</td>\n",
              "      <td>0</td>\n",
              "      <td>0</td>\n",
              "      <td>0</td>\n",
              "      <td>0</td>\n",
              "      <td>0</td>\n",
              "      <td>0</td>\n",
              "      <td>0</td>\n",
              "      <td>0</td>\n",
              "      <td>0</td>\n",
              "      <td>0</td>\n",
              "      <td>0</td>\n",
              "      <td>0</td>\n",
              "      <td>0</td>\n",
              "      <td>0</td>\n",
              "      <td>0</td>\n",
              "      <td>...</td>\n",
              "      <td>0</td>\n",
              "      <td>0</td>\n",
              "      <td>0</td>\n",
              "      <td>0</td>\n",
              "      <td>0</td>\n",
              "      <td>0</td>\n",
              "      <td>0</td>\n",
              "      <td>0</td>\n",
              "      <td>0</td>\n",
              "      <td>0</td>\n",
              "      <td>0</td>\n",
              "      <td>0</td>\n",
              "      <td>0</td>\n",
              "      <td>0</td>\n",
              "      <td>0</td>\n",
              "      <td>0</td>\n",
              "      <td>0</td>\n",
              "      <td>0</td>\n",
              "      <td>0</td>\n",
              "      <td>0</td>\n",
              "      <td>0</td>\n",
              "      <td>0</td>\n",
              "      <td>0</td>\n",
              "      <td>0</td>\n",
              "      <td>0</td>\n",
              "      <td>0</td>\n",
              "      <td>0</td>\n",
              "      <td>0</td>\n",
              "      <td>0</td>\n",
              "      <td>0</td>\n",
              "      <td>0</td>\n",
              "      <td>0</td>\n",
              "      <td>0</td>\n",
              "      <td>0</td>\n",
              "      <td>0</td>\n",
              "      <td>0</td>\n",
              "      <td>0</td>\n",
              "      <td>0</td>\n",
              "      <td>0</td>\n",
              "      <td>0</td>\n",
              "    </tr>\n",
              "    <tr>\n",
              "      <th>1</th>\n",
              "      <td>0</td>\n",
              "      <td>0</td>\n",
              "      <td>0</td>\n",
              "      <td>0</td>\n",
              "      <td>0</td>\n",
              "      <td>0</td>\n",
              "      <td>0</td>\n",
              "      <td>0</td>\n",
              "      <td>0</td>\n",
              "      <td>0</td>\n",
              "      <td>0</td>\n",
              "      <td>0</td>\n",
              "      <td>0</td>\n",
              "      <td>0</td>\n",
              "      <td>0</td>\n",
              "      <td>0</td>\n",
              "      <td>0</td>\n",
              "      <td>0</td>\n",
              "      <td>0</td>\n",
              "      <td>0</td>\n",
              "      <td>0</td>\n",
              "      <td>0</td>\n",
              "      <td>0</td>\n",
              "      <td>0</td>\n",
              "      <td>0</td>\n",
              "      <td>0</td>\n",
              "      <td>0</td>\n",
              "      <td>0</td>\n",
              "      <td>0</td>\n",
              "      <td>0</td>\n",
              "      <td>0</td>\n",
              "      <td>0</td>\n",
              "      <td>0</td>\n",
              "      <td>0</td>\n",
              "      <td>0</td>\n",
              "      <td>0</td>\n",
              "      <td>0</td>\n",
              "      <td>0</td>\n",
              "      <td>0</td>\n",
              "      <td>0</td>\n",
              "      <td>...</td>\n",
              "      <td>0</td>\n",
              "      <td>0</td>\n",
              "      <td>0</td>\n",
              "      <td>0</td>\n",
              "      <td>0</td>\n",
              "      <td>0</td>\n",
              "      <td>0</td>\n",
              "      <td>0</td>\n",
              "      <td>0</td>\n",
              "      <td>0</td>\n",
              "      <td>0</td>\n",
              "      <td>0</td>\n",
              "      <td>0</td>\n",
              "      <td>0</td>\n",
              "      <td>0</td>\n",
              "      <td>0</td>\n",
              "      <td>0</td>\n",
              "      <td>0</td>\n",
              "      <td>0</td>\n",
              "      <td>0</td>\n",
              "      <td>0</td>\n",
              "      <td>0</td>\n",
              "      <td>0</td>\n",
              "      <td>0</td>\n",
              "      <td>0</td>\n",
              "      <td>0</td>\n",
              "      <td>0</td>\n",
              "      <td>0</td>\n",
              "      <td>0</td>\n",
              "      <td>0</td>\n",
              "      <td>0</td>\n",
              "      <td>0</td>\n",
              "      <td>0</td>\n",
              "      <td>0</td>\n",
              "      <td>0</td>\n",
              "      <td>0</td>\n",
              "      <td>0</td>\n",
              "      <td>0</td>\n",
              "      <td>0</td>\n",
              "      <td>0</td>\n",
              "    </tr>\n",
              "    <tr>\n",
              "      <th>2</th>\n",
              "      <td>0</td>\n",
              "      <td>0</td>\n",
              "      <td>0</td>\n",
              "      <td>0</td>\n",
              "      <td>0</td>\n",
              "      <td>0</td>\n",
              "      <td>0</td>\n",
              "      <td>0</td>\n",
              "      <td>0</td>\n",
              "      <td>0</td>\n",
              "      <td>0</td>\n",
              "      <td>0</td>\n",
              "      <td>0</td>\n",
              "      <td>0</td>\n",
              "      <td>0</td>\n",
              "      <td>0</td>\n",
              "      <td>0</td>\n",
              "      <td>0</td>\n",
              "      <td>0</td>\n",
              "      <td>0</td>\n",
              "      <td>0</td>\n",
              "      <td>0</td>\n",
              "      <td>0</td>\n",
              "      <td>0</td>\n",
              "      <td>0</td>\n",
              "      <td>0</td>\n",
              "      <td>0</td>\n",
              "      <td>0</td>\n",
              "      <td>0</td>\n",
              "      <td>0</td>\n",
              "      <td>0</td>\n",
              "      <td>0</td>\n",
              "      <td>0</td>\n",
              "      <td>0</td>\n",
              "      <td>0</td>\n",
              "      <td>0</td>\n",
              "      <td>0</td>\n",
              "      <td>0</td>\n",
              "      <td>0</td>\n",
              "      <td>0</td>\n",
              "      <td>...</td>\n",
              "      <td>0</td>\n",
              "      <td>0</td>\n",
              "      <td>0</td>\n",
              "      <td>0</td>\n",
              "      <td>0</td>\n",
              "      <td>0</td>\n",
              "      <td>0</td>\n",
              "      <td>0</td>\n",
              "      <td>0</td>\n",
              "      <td>0</td>\n",
              "      <td>0</td>\n",
              "      <td>0</td>\n",
              "      <td>0</td>\n",
              "      <td>0</td>\n",
              "      <td>0</td>\n",
              "      <td>0</td>\n",
              "      <td>0</td>\n",
              "      <td>0</td>\n",
              "      <td>0</td>\n",
              "      <td>0</td>\n",
              "      <td>0</td>\n",
              "      <td>0</td>\n",
              "      <td>0</td>\n",
              "      <td>0</td>\n",
              "      <td>0</td>\n",
              "      <td>0</td>\n",
              "      <td>0</td>\n",
              "      <td>0</td>\n",
              "      <td>0</td>\n",
              "      <td>0</td>\n",
              "      <td>0</td>\n",
              "      <td>0</td>\n",
              "      <td>0</td>\n",
              "      <td>0</td>\n",
              "      <td>0</td>\n",
              "      <td>0</td>\n",
              "      <td>0</td>\n",
              "      <td>0</td>\n",
              "      <td>0</td>\n",
              "      <td>0</td>\n",
              "    </tr>\n",
              "    <tr>\n",
              "      <th>3</th>\n",
              "      <td>0</td>\n",
              "      <td>0</td>\n",
              "      <td>0</td>\n",
              "      <td>0</td>\n",
              "      <td>0</td>\n",
              "      <td>0</td>\n",
              "      <td>0</td>\n",
              "      <td>0</td>\n",
              "      <td>0</td>\n",
              "      <td>0</td>\n",
              "      <td>0</td>\n",
              "      <td>0</td>\n",
              "      <td>0</td>\n",
              "      <td>0</td>\n",
              "      <td>0</td>\n",
              "      <td>0</td>\n",
              "      <td>0</td>\n",
              "      <td>0</td>\n",
              "      <td>0</td>\n",
              "      <td>0</td>\n",
              "      <td>0</td>\n",
              "      <td>0</td>\n",
              "      <td>0</td>\n",
              "      <td>0</td>\n",
              "      <td>0</td>\n",
              "      <td>0</td>\n",
              "      <td>0</td>\n",
              "      <td>0</td>\n",
              "      <td>0</td>\n",
              "      <td>0</td>\n",
              "      <td>0</td>\n",
              "      <td>0</td>\n",
              "      <td>0</td>\n",
              "      <td>0</td>\n",
              "      <td>0</td>\n",
              "      <td>0</td>\n",
              "      <td>0</td>\n",
              "      <td>0</td>\n",
              "      <td>0</td>\n",
              "      <td>0</td>\n",
              "      <td>...</td>\n",
              "      <td>0</td>\n",
              "      <td>0</td>\n",
              "      <td>0</td>\n",
              "      <td>0</td>\n",
              "      <td>0</td>\n",
              "      <td>0</td>\n",
              "      <td>0</td>\n",
              "      <td>0</td>\n",
              "      <td>0</td>\n",
              "      <td>0</td>\n",
              "      <td>0</td>\n",
              "      <td>0</td>\n",
              "      <td>0</td>\n",
              "      <td>0</td>\n",
              "      <td>0</td>\n",
              "      <td>0</td>\n",
              "      <td>0</td>\n",
              "      <td>0</td>\n",
              "      <td>0</td>\n",
              "      <td>0</td>\n",
              "      <td>0</td>\n",
              "      <td>0</td>\n",
              "      <td>0</td>\n",
              "      <td>0</td>\n",
              "      <td>0</td>\n",
              "      <td>0</td>\n",
              "      <td>0</td>\n",
              "      <td>0</td>\n",
              "      <td>0</td>\n",
              "      <td>0</td>\n",
              "      <td>0</td>\n",
              "      <td>0</td>\n",
              "      <td>0</td>\n",
              "      <td>0</td>\n",
              "      <td>0</td>\n",
              "      <td>0</td>\n",
              "      <td>0</td>\n",
              "      <td>0</td>\n",
              "      <td>0</td>\n",
              "      <td>0</td>\n",
              "    </tr>\n",
              "    <tr>\n",
              "      <th>4</th>\n",
              "      <td>0</td>\n",
              "      <td>0</td>\n",
              "      <td>0</td>\n",
              "      <td>0</td>\n",
              "      <td>0</td>\n",
              "      <td>0</td>\n",
              "      <td>0</td>\n",
              "      <td>0</td>\n",
              "      <td>0</td>\n",
              "      <td>0</td>\n",
              "      <td>0</td>\n",
              "      <td>0</td>\n",
              "      <td>0</td>\n",
              "      <td>0</td>\n",
              "      <td>0</td>\n",
              "      <td>0</td>\n",
              "      <td>0</td>\n",
              "      <td>0</td>\n",
              "      <td>0</td>\n",
              "      <td>0</td>\n",
              "      <td>0</td>\n",
              "      <td>0</td>\n",
              "      <td>0</td>\n",
              "      <td>0</td>\n",
              "      <td>0</td>\n",
              "      <td>0</td>\n",
              "      <td>0</td>\n",
              "      <td>0</td>\n",
              "      <td>0</td>\n",
              "      <td>0</td>\n",
              "      <td>0</td>\n",
              "      <td>0</td>\n",
              "      <td>0</td>\n",
              "      <td>0</td>\n",
              "      <td>0</td>\n",
              "      <td>0</td>\n",
              "      <td>0</td>\n",
              "      <td>0</td>\n",
              "      <td>0</td>\n",
              "      <td>0</td>\n",
              "      <td>...</td>\n",
              "      <td>0</td>\n",
              "      <td>0</td>\n",
              "      <td>0</td>\n",
              "      <td>0</td>\n",
              "      <td>0</td>\n",
              "      <td>0</td>\n",
              "      <td>0</td>\n",
              "      <td>0</td>\n",
              "      <td>0</td>\n",
              "      <td>0</td>\n",
              "      <td>0</td>\n",
              "      <td>0</td>\n",
              "      <td>0</td>\n",
              "      <td>0</td>\n",
              "      <td>0</td>\n",
              "      <td>0</td>\n",
              "      <td>0</td>\n",
              "      <td>0</td>\n",
              "      <td>0</td>\n",
              "      <td>0</td>\n",
              "      <td>0</td>\n",
              "      <td>0</td>\n",
              "      <td>0</td>\n",
              "      <td>0</td>\n",
              "      <td>0</td>\n",
              "      <td>0</td>\n",
              "      <td>0</td>\n",
              "      <td>0</td>\n",
              "      <td>0</td>\n",
              "      <td>0</td>\n",
              "      <td>0</td>\n",
              "      <td>0</td>\n",
              "      <td>0</td>\n",
              "      <td>0</td>\n",
              "      <td>0</td>\n",
              "      <td>0</td>\n",
              "      <td>0</td>\n",
              "      <td>0</td>\n",
              "      <td>0</td>\n",
              "      <td>0</td>\n",
              "    </tr>\n",
              "  </tbody>\n",
              "</table>\n",
              "<p>5 rows × 1202 columns</p>\n",
              "</div>"
            ],
            "text/plain": [
              "   0     1     2     3     4     5     ...  1196  1197  1198  1199  1200  1201\n",
              "0     0     0     0     0     0     0  ...     0     0     0     0     0     0\n",
              "1     0     0     0     0     0     0  ...     0     0     0     0     0     0\n",
              "2     0     0     0     0     0     0  ...     0     0     0     0     0     0\n",
              "3     0     0     0     0     0     0  ...     0     0     0     0     0     0\n",
              "4     0     0     0     0     0     0  ...     0     0     0     0     0     0\n",
              "\n",
              "[5 rows x 1202 columns]"
            ]
          },
          "metadata": {
            "tags": []
          },
          "execution_count": 31
        }
      ]
    },
    {
      "cell_type": "code",
      "metadata": {
        "id": "UmbnCtAAwi2V",
        "colab_type": "code",
        "colab": {}
      },
      "source": [
        "tot_keyword.sort()\n",
        "FAR_training.columns=tot_keyword"
      ],
      "execution_count": 0,
      "outputs": []
    },
    {
      "cell_type": "code",
      "metadata": {
        "id": "OFJrSGy-pyWp",
        "colab_type": "code",
        "colab": {}
      },
      "source": [
        "FAR_training['pol_leaning']=1"
      ],
      "execution_count": 0,
      "outputs": []
    },
    {
      "cell_type": "markdown",
      "metadata": {
        "id": "PjQEPHCO8lxd",
        "colab_type": "text"
      },
      "source": [
        "## SVM"
      ]
    },
    {
      "cell_type": "code",
      "metadata": {
        "id": "qk4V-IuJ9x0Q",
        "colab_type": "code",
        "colab": {}
      },
      "source": [
        "with open('/content/gdrive/My Drive/Tesi/LDA2/Related/input_SVM.pickle', 'rb') as handle:\n",
        "    training_data = pickle.load(handle) "
      ],
      "execution_count": 0,
      "outputs": []
    },
    {
      "cell_type": "code",
      "metadata": {
        "id": "XA5VoG_p95U_",
        "colab_type": "code",
        "colab": {
          "base_uri": "https://localhost:8080/",
          "height": 253
        },
        "outputId": "18f05f63-78b9-4da0-dbd3-0bc431956f0b"
      },
      "source": [
        "training_data.head()"
      ],
      "execution_count": 54,
      "outputs": [
        {
          "output_type": "execute_result",
          "data": {
            "text/html": [
              "<div>\n",
              "<style scoped>\n",
              "    .dataframe tbody tr th:only-of-type {\n",
              "        vertical-align: middle;\n",
              "    }\n",
              "\n",
              "    .dataframe tbody tr th {\n",
              "        vertical-align: top;\n",
              "    }\n",
              "\n",
              "    .dataframe thead th {\n",
              "        text-align: right;\n",
              "    }\n",
              "</style>\n",
              "<table border=\"1\" class=\"dataframe\">\n",
              "  <thead>\n",
              "    <tr style=\"text-align: right;\">\n",
              "      <th></th>\n",
              "      <th>abc_news</th>\n",
              "      <th>accord_definition</th>\n",
              "      <th>action_president</th>\n",
              "      <th>active_supporter</th>\n",
              "      <th>ad_youtube</th>\n",
              "      <th>administration_official</th>\n",
              "      <th>admit_villain</th>\n",
              "      <th>advise_trump</th>\n",
              "      <th>africa_look</th>\n",
              "      <th>afternoon_magathread</th>\n",
              "      <th>air_force</th>\n",
              "      <th>alexandria_ocasio</th>\n",
              "      <th>alt_righter</th>\n",
              "      <th>amendment_right</th>\n",
              "      <th>america_first</th>\n",
              "      <th>america_great</th>\n",
              "      <th>american_citizen</th>\n",
              "      <th>american_democracy</th>\n",
              "      <th>american_flag</th>\n",
              "      <th>american_history</th>\n",
              "      <th>american_include</th>\n",
              "      <th>amp_local</th>\n",
              "      <th>amp_nbsp</th>\n",
              "      <th>andrew_anglin</th>\n",
              "      <th>andrew_mccabe</th>\n",
              "      <th>angela_merkel</th>\n",
              "      <th>announce_intent</th>\n",
              "      <th>anonymous_source</th>\n",
              "      <th>answer_question</th>\n",
              "      <th>anthony_weiner</th>\n",
              "      <th>anti_fascist</th>\n",
              "      <th>anti_gun</th>\n",
              "      <th>anti_immigration</th>\n",
              "      <th>anti_muslim</th>\n",
              "      <th>anti_semitic</th>\n",
              "      <th>anti_semitism</th>\n",
              "      <th>anyone_explain</th>\n",
              "      <th>anyone_feel</th>\n",
              "      <th>anyone_find</th>\n",
              "      <th>anyone_get</th>\n",
              "      <th>...</th>\n",
              "      <th>weird_politic</th>\n",
              "      <th>west_virginia</th>\n",
              "      <th>west_wing</th>\n",
              "      <th>western_civilization</th>\n",
              "      <th>white_guy</th>\n",
              "      <th>white_lady</th>\n",
              "      <th>white_male</th>\n",
              "      <th>white_nationalism</th>\n",
              "      <th>white_nationalist</th>\n",
              "      <th>white_power</th>\n",
              "      <th>white_privilege</th>\n",
              "      <th>white_woman</th>\n",
              "      <th>whole_thing</th>\n",
              "      <th>wilson_respond</th>\n",
              "      <th>win_special</th>\n",
              "      <th>wing_commit</th>\n",
              "      <th>wing_extremist</th>\n",
              "      <th>wish_could</th>\n",
              "      <th>wizard_illusion</th>\n",
              "      <th>word_rashida</th>\n",
              "      <th>word_text</th>\n",
              "      <th>work_trump</th>\n",
              "      <th>world_leader</th>\n",
              "      <th>would_appreciate</th>\n",
              "      <th>would_fight</th>\n",
              "      <th>would_get</th>\n",
              "      <th>would_go</th>\n",
              "      <th>would_happen</th>\n",
              "      <th>would_like</th>\n",
              "      <th>would_love</th>\n",
              "      <th>would_make</th>\n",
              "      <th>would_need</th>\n",
              "      <th>would_say</th>\n",
              "      <th>would_take</th>\n",
              "      <th>wtf_go</th>\n",
              "      <th>year_prison</th>\n",
              "      <th>york_city</th>\n",
              "      <th>youtube_ban</th>\n",
              "      <th>youtube_recommend</th>\n",
              "      <th>pol_leaning</th>\n",
              "    </tr>\n",
              "  </thead>\n",
              "  <tbody>\n",
              "    <tr>\n",
              "      <th>35581</th>\n",
              "      <td>0</td>\n",
              "      <td>0</td>\n",
              "      <td>0</td>\n",
              "      <td>0</td>\n",
              "      <td>0</td>\n",
              "      <td>0</td>\n",
              "      <td>0</td>\n",
              "      <td>0</td>\n",
              "      <td>0</td>\n",
              "      <td>0</td>\n",
              "      <td>0</td>\n",
              "      <td>0</td>\n",
              "      <td>0</td>\n",
              "      <td>0</td>\n",
              "      <td>0</td>\n",
              "      <td>0</td>\n",
              "      <td>0</td>\n",
              "      <td>0</td>\n",
              "      <td>0</td>\n",
              "      <td>0</td>\n",
              "      <td>0</td>\n",
              "      <td>0</td>\n",
              "      <td>0</td>\n",
              "      <td>0</td>\n",
              "      <td>0</td>\n",
              "      <td>0</td>\n",
              "      <td>0</td>\n",
              "      <td>0</td>\n",
              "      <td>0</td>\n",
              "      <td>0</td>\n",
              "      <td>0</td>\n",
              "      <td>0</td>\n",
              "      <td>0</td>\n",
              "      <td>0</td>\n",
              "      <td>0</td>\n",
              "      <td>0</td>\n",
              "      <td>0</td>\n",
              "      <td>0</td>\n",
              "      <td>0</td>\n",
              "      <td>0</td>\n",
              "      <td>...</td>\n",
              "      <td>0</td>\n",
              "      <td>0</td>\n",
              "      <td>0</td>\n",
              "      <td>0</td>\n",
              "      <td>0</td>\n",
              "      <td>0</td>\n",
              "      <td>0</td>\n",
              "      <td>0</td>\n",
              "      <td>0</td>\n",
              "      <td>0</td>\n",
              "      <td>0</td>\n",
              "      <td>0</td>\n",
              "      <td>0</td>\n",
              "      <td>0</td>\n",
              "      <td>0</td>\n",
              "      <td>0</td>\n",
              "      <td>0</td>\n",
              "      <td>0</td>\n",
              "      <td>0</td>\n",
              "      <td>0</td>\n",
              "      <td>0</td>\n",
              "      <td>0</td>\n",
              "      <td>0</td>\n",
              "      <td>0</td>\n",
              "      <td>0</td>\n",
              "      <td>0</td>\n",
              "      <td>0</td>\n",
              "      <td>0</td>\n",
              "      <td>0</td>\n",
              "      <td>0</td>\n",
              "      <td>0</td>\n",
              "      <td>0</td>\n",
              "      <td>0</td>\n",
              "      <td>0</td>\n",
              "      <td>0</td>\n",
              "      <td>0</td>\n",
              "      <td>0</td>\n",
              "      <td>0</td>\n",
              "      <td>0</td>\n",
              "      <td>1</td>\n",
              "    </tr>\n",
              "    <tr>\n",
              "      <th>38983</th>\n",
              "      <td>0</td>\n",
              "      <td>0</td>\n",
              "      <td>0</td>\n",
              "      <td>0</td>\n",
              "      <td>0</td>\n",
              "      <td>0</td>\n",
              "      <td>0</td>\n",
              "      <td>0</td>\n",
              "      <td>0</td>\n",
              "      <td>0</td>\n",
              "      <td>0</td>\n",
              "      <td>0</td>\n",
              "      <td>0</td>\n",
              "      <td>0</td>\n",
              "      <td>0</td>\n",
              "      <td>0</td>\n",
              "      <td>0</td>\n",
              "      <td>0</td>\n",
              "      <td>0</td>\n",
              "      <td>0</td>\n",
              "      <td>0</td>\n",
              "      <td>0</td>\n",
              "      <td>0</td>\n",
              "      <td>0</td>\n",
              "      <td>0</td>\n",
              "      <td>0</td>\n",
              "      <td>0</td>\n",
              "      <td>0</td>\n",
              "      <td>0</td>\n",
              "      <td>0</td>\n",
              "      <td>0</td>\n",
              "      <td>0</td>\n",
              "      <td>0</td>\n",
              "      <td>0</td>\n",
              "      <td>0</td>\n",
              "      <td>0</td>\n",
              "      <td>0</td>\n",
              "      <td>0</td>\n",
              "      <td>0</td>\n",
              "      <td>0</td>\n",
              "      <td>...</td>\n",
              "      <td>0</td>\n",
              "      <td>0</td>\n",
              "      <td>0</td>\n",
              "      <td>0</td>\n",
              "      <td>0</td>\n",
              "      <td>0</td>\n",
              "      <td>0</td>\n",
              "      <td>0</td>\n",
              "      <td>0</td>\n",
              "      <td>0</td>\n",
              "      <td>0</td>\n",
              "      <td>0</td>\n",
              "      <td>0</td>\n",
              "      <td>0</td>\n",
              "      <td>0</td>\n",
              "      <td>0</td>\n",
              "      <td>0</td>\n",
              "      <td>0</td>\n",
              "      <td>0</td>\n",
              "      <td>0</td>\n",
              "      <td>0</td>\n",
              "      <td>0</td>\n",
              "      <td>0</td>\n",
              "      <td>0</td>\n",
              "      <td>0</td>\n",
              "      <td>0</td>\n",
              "      <td>0</td>\n",
              "      <td>0</td>\n",
              "      <td>0</td>\n",
              "      <td>0</td>\n",
              "      <td>0</td>\n",
              "      <td>0</td>\n",
              "      <td>0</td>\n",
              "      <td>0</td>\n",
              "      <td>0</td>\n",
              "      <td>0</td>\n",
              "      <td>0</td>\n",
              "      <td>0</td>\n",
              "      <td>0</td>\n",
              "      <td>1</td>\n",
              "    </tr>\n",
              "    <tr>\n",
              "      <th>8932</th>\n",
              "      <td>0</td>\n",
              "      <td>0</td>\n",
              "      <td>0</td>\n",
              "      <td>0</td>\n",
              "      <td>0</td>\n",
              "      <td>0</td>\n",
              "      <td>0</td>\n",
              "      <td>0</td>\n",
              "      <td>0</td>\n",
              "      <td>0</td>\n",
              "      <td>0</td>\n",
              "      <td>0</td>\n",
              "      <td>0</td>\n",
              "      <td>0</td>\n",
              "      <td>0</td>\n",
              "      <td>0</td>\n",
              "      <td>0</td>\n",
              "      <td>0</td>\n",
              "      <td>0</td>\n",
              "      <td>0</td>\n",
              "      <td>0</td>\n",
              "      <td>0</td>\n",
              "      <td>0</td>\n",
              "      <td>0</td>\n",
              "      <td>0</td>\n",
              "      <td>0</td>\n",
              "      <td>0</td>\n",
              "      <td>0</td>\n",
              "      <td>0</td>\n",
              "      <td>0</td>\n",
              "      <td>0</td>\n",
              "      <td>0</td>\n",
              "      <td>0</td>\n",
              "      <td>0</td>\n",
              "      <td>0</td>\n",
              "      <td>0</td>\n",
              "      <td>0</td>\n",
              "      <td>0</td>\n",
              "      <td>0</td>\n",
              "      <td>0</td>\n",
              "      <td>...</td>\n",
              "      <td>0</td>\n",
              "      <td>0</td>\n",
              "      <td>0</td>\n",
              "      <td>0</td>\n",
              "      <td>0</td>\n",
              "      <td>0</td>\n",
              "      <td>0</td>\n",
              "      <td>0</td>\n",
              "      <td>0</td>\n",
              "      <td>0</td>\n",
              "      <td>0</td>\n",
              "      <td>0</td>\n",
              "      <td>0</td>\n",
              "      <td>0</td>\n",
              "      <td>0</td>\n",
              "      <td>0</td>\n",
              "      <td>0</td>\n",
              "      <td>0</td>\n",
              "      <td>0</td>\n",
              "      <td>0</td>\n",
              "      <td>0</td>\n",
              "      <td>0</td>\n",
              "      <td>0</td>\n",
              "      <td>0</td>\n",
              "      <td>0</td>\n",
              "      <td>0</td>\n",
              "      <td>0</td>\n",
              "      <td>0</td>\n",
              "      <td>0</td>\n",
              "      <td>0</td>\n",
              "      <td>0</td>\n",
              "      <td>0</td>\n",
              "      <td>0</td>\n",
              "      <td>0</td>\n",
              "      <td>0</td>\n",
              "      <td>0</td>\n",
              "      <td>0</td>\n",
              "      <td>0</td>\n",
              "      <td>0</td>\n",
              "      <td>0</td>\n",
              "    </tr>\n",
              "    <tr>\n",
              "      <th>35365</th>\n",
              "      <td>0</td>\n",
              "      <td>0</td>\n",
              "      <td>0</td>\n",
              "      <td>0</td>\n",
              "      <td>0</td>\n",
              "      <td>0</td>\n",
              "      <td>0</td>\n",
              "      <td>0</td>\n",
              "      <td>0</td>\n",
              "      <td>0</td>\n",
              "      <td>0</td>\n",
              "      <td>0</td>\n",
              "      <td>0</td>\n",
              "      <td>0</td>\n",
              "      <td>0</td>\n",
              "      <td>0</td>\n",
              "      <td>0</td>\n",
              "      <td>0</td>\n",
              "      <td>0</td>\n",
              "      <td>0</td>\n",
              "      <td>0</td>\n",
              "      <td>0</td>\n",
              "      <td>0</td>\n",
              "      <td>0</td>\n",
              "      <td>0</td>\n",
              "      <td>0</td>\n",
              "      <td>0</td>\n",
              "      <td>0</td>\n",
              "      <td>0</td>\n",
              "      <td>0</td>\n",
              "      <td>0</td>\n",
              "      <td>0</td>\n",
              "      <td>0</td>\n",
              "      <td>0</td>\n",
              "      <td>0</td>\n",
              "      <td>0</td>\n",
              "      <td>0</td>\n",
              "      <td>0</td>\n",
              "      <td>0</td>\n",
              "      <td>0</td>\n",
              "      <td>...</td>\n",
              "      <td>0</td>\n",
              "      <td>0</td>\n",
              "      <td>0</td>\n",
              "      <td>0</td>\n",
              "      <td>0</td>\n",
              "      <td>0</td>\n",
              "      <td>0</td>\n",
              "      <td>0</td>\n",
              "      <td>0</td>\n",
              "      <td>0</td>\n",
              "      <td>0</td>\n",
              "      <td>0</td>\n",
              "      <td>0</td>\n",
              "      <td>0</td>\n",
              "      <td>0</td>\n",
              "      <td>0</td>\n",
              "      <td>0</td>\n",
              "      <td>0</td>\n",
              "      <td>0</td>\n",
              "      <td>0</td>\n",
              "      <td>0</td>\n",
              "      <td>0</td>\n",
              "      <td>0</td>\n",
              "      <td>0</td>\n",
              "      <td>0</td>\n",
              "      <td>0</td>\n",
              "      <td>0</td>\n",
              "      <td>0</td>\n",
              "      <td>0</td>\n",
              "      <td>0</td>\n",
              "      <td>0</td>\n",
              "      <td>0</td>\n",
              "      <td>0</td>\n",
              "      <td>0</td>\n",
              "      <td>0</td>\n",
              "      <td>0</td>\n",
              "      <td>0</td>\n",
              "      <td>0</td>\n",
              "      <td>0</td>\n",
              "      <td>1</td>\n",
              "    </tr>\n",
              "    <tr>\n",
              "      <th>6305</th>\n",
              "      <td>0</td>\n",
              "      <td>0</td>\n",
              "      <td>0</td>\n",
              "      <td>0</td>\n",
              "      <td>0</td>\n",
              "      <td>0</td>\n",
              "      <td>0</td>\n",
              "      <td>0</td>\n",
              "      <td>0</td>\n",
              "      <td>0</td>\n",
              "      <td>0</td>\n",
              "      <td>0</td>\n",
              "      <td>0</td>\n",
              "      <td>0</td>\n",
              "      <td>0</td>\n",
              "      <td>0</td>\n",
              "      <td>0</td>\n",
              "      <td>0</td>\n",
              "      <td>0</td>\n",
              "      <td>0</td>\n",
              "      <td>0</td>\n",
              "      <td>0</td>\n",
              "      <td>0</td>\n",
              "      <td>0</td>\n",
              "      <td>0</td>\n",
              "      <td>0</td>\n",
              "      <td>0</td>\n",
              "      <td>0</td>\n",
              "      <td>0</td>\n",
              "      <td>0</td>\n",
              "      <td>0</td>\n",
              "      <td>0</td>\n",
              "      <td>0</td>\n",
              "      <td>0</td>\n",
              "      <td>0</td>\n",
              "      <td>0</td>\n",
              "      <td>0</td>\n",
              "      <td>0</td>\n",
              "      <td>0</td>\n",
              "      <td>0</td>\n",
              "      <td>...</td>\n",
              "      <td>0</td>\n",
              "      <td>0</td>\n",
              "      <td>0</td>\n",
              "      <td>0</td>\n",
              "      <td>0</td>\n",
              "      <td>0</td>\n",
              "      <td>0</td>\n",
              "      <td>0</td>\n",
              "      <td>0</td>\n",
              "      <td>0</td>\n",
              "      <td>0</td>\n",
              "      <td>0</td>\n",
              "      <td>0</td>\n",
              "      <td>0</td>\n",
              "      <td>0</td>\n",
              "      <td>0</td>\n",
              "      <td>0</td>\n",
              "      <td>0</td>\n",
              "      <td>0</td>\n",
              "      <td>0</td>\n",
              "      <td>0</td>\n",
              "      <td>0</td>\n",
              "      <td>0</td>\n",
              "      <td>0</td>\n",
              "      <td>0</td>\n",
              "      <td>0</td>\n",
              "      <td>0</td>\n",
              "      <td>0</td>\n",
              "      <td>0</td>\n",
              "      <td>0</td>\n",
              "      <td>0</td>\n",
              "      <td>0</td>\n",
              "      <td>0</td>\n",
              "      <td>0</td>\n",
              "      <td>0</td>\n",
              "      <td>0</td>\n",
              "      <td>0</td>\n",
              "      <td>0</td>\n",
              "      <td>0</td>\n",
              "      <td>0</td>\n",
              "    </tr>\n",
              "  </tbody>\n",
              "</table>\n",
              "<p>5 rows × 1203 columns</p>\n",
              "</div>"
            ],
            "text/plain": [
              "       abc_news  accord_definition  ...  youtube_recommend  pol_leaning\n",
              "35581         0                  0  ...                  0            1\n",
              "38983         0                  0  ...                  0            1\n",
              "8932          0                  0  ...                  0            0\n",
              "35365         0                  0  ...                  0            1\n",
              "6305          0                  0  ...                  0            0\n",
              "\n",
              "[5 rows x 1203 columns]"
            ]
          },
          "metadata": {
            "tags": []
          },
          "execution_count": 54
        }
      ]
    },
    {
      "cell_type": "code",
      "metadata": {
        "id": "Dh6nvv7h-MXG",
        "colab_type": "code",
        "colab": {}
      },
      "source": [
        "X=training_data.loc[:, :'youtube_recommend'] #training features\n",
        "y=training_data['pol_leaning'] #labels"
      ],
      "execution_count": 0,
      "outputs": []
    },
    {
      "cell_type": "code",
      "metadata": {
        "id": "BYQ2Eoq4YLJ9",
        "colab_type": "code",
        "colab": {}
      },
      "source": [
        "# Split dataset into training set and test set\n",
        "X_train, X_test, y_train, y_test = train_test_split(X, y, test_size=0.3,random_state=109) # 70% training and 30% test"
      ],
      "execution_count": 0,
      "outputs": []
    },
    {
      "cell_type": "markdown",
      "metadata": {
        "id": "_LblgPZ3_EqY",
        "colab_type": "text"
      },
      "source": [
        "SVM with linear kernel"
      ]
    },
    {
      "cell_type": "code",
      "metadata": {
        "id": "UGRsQan5FLh9",
        "colab_type": "code",
        "colab": {}
      },
      "source": [
        "clf = svm.SVC(kernel='linear')"
      ],
      "execution_count": 0,
      "outputs": []
    },
    {
      "cell_type": "code",
      "metadata": {
        "id": "kGlEB2x4YiCq",
        "colab_type": "code",
        "outputId": "3c3f4f06-bd88-4ba9-824c-f5b604d392c5",
        "colab": {
          "base_uri": "https://localhost:8080/",
          "height": 88
        }
      },
      "source": [
        "#Train the model using the training sets\n",
        "clf.fit(X_train, y_train)"
      ],
      "execution_count": 0,
      "outputs": [
        {
          "output_type": "execute_result",
          "data": {
            "text/plain": [
              "SVC(C=1.0, cache_size=200, class_weight=None, coef0=0.0,\n",
              "    decision_function_shape='ovr', degree=3, gamma='auto_deprecated',\n",
              "    kernel='linear', max_iter=-1, probability=False, random_state=None,\n",
              "    shrinking=True, tol=0.001, verbose=False)"
            ]
          },
          "metadata": {
            "tags": []
          },
          "execution_count": 69
        }
      ]
    },
    {
      "cell_type": "code",
      "metadata": {
        "id": "LijkO8qeYs7w",
        "colab_type": "code",
        "colab": {}
      },
      "source": [
        "#Predict the response for test dataset\n",
        "y_pred = clf.predict(X_test)"
      ],
      "execution_count": 0,
      "outputs": []
    },
    {
      "cell_type": "code",
      "metadata": {
        "id": "x0xRTMJ9g4oP",
        "colab_type": "code",
        "outputId": "050b5ccc-77b6-4a61-915a-db8babef5318",
        "colab": {
          "base_uri": "https://localhost:8080/",
          "height": 35
        }
      },
      "source": [
        "print(\"Accuracy:\",metrics.accuracy_score(y_test, y_pred))\n",
        "print(\"Precision:\",metrics.precision_score(y_test, y_pred))\n",
        "print(\"Recall:\",metrics.recall_score(y_test, y_pred))"
      ],
      "execution_count": 0,
      "outputs": [
        {
          "output_type": "stream",
          "text": [
            "Accuracy: 0.6085925925925926\n"
          ],
          "name": "stdout"
        }
      ]
    },
    {
      "cell_type": "code",
      "metadata": {
        "id": "03_urGJmg5_2",
        "colab_type": "code",
        "outputId": "16bb89e9-b01c-4728-d1dd-b489b957d433",
        "colab": {
          "base_uri": "https://localhost:8080/",
          "height": 52
        }
      },
      "source": [
        ""
      ],
      "execution_count": 0,
      "outputs": [
        {
          "output_type": "stream",
          "text": [
            "Precision: 0.7220916568742656\n",
            "Recall: 0.203476821192053\n"
          ],
          "name": "stdout"
        }
      ]
    },
    {
      "cell_type": "markdown",
      "metadata": {
        "id": "qD5VIrjbpGSN",
        "colab_type": "text"
      },
      "source": [
        "Grid search with rbf kernel\n"
      ]
    },
    {
      "cell_type": "code",
      "metadata": {
        "colab_type": "code",
        "id": "rdJAblbO_0Km",
        "colab": {}
      },
      "source": [
        "clf = svm.SVC()"
      ],
      "execution_count": 0,
      "outputs": []
    },
    {
      "cell_type": "code",
      "metadata": {
        "id": "T74xFDSPIdjw",
        "colab_type": "code",
        "colab": {}
      },
      "source": [
        "param_dist = {\n",
        "    'kernel' : ['rbf'],\n",
        "    'gamma': ['auto'],\n",
        "    'C' : [0.001, 0.01, 0.1, 1, 10]\n",
        "}\n",
        "search = GridSearchCV(clf, param_grid=param_dist, n_jobs=1, cv=3)"
      ],
      "execution_count": 0,
      "outputs": []
    },
    {
      "cell_type": "code",
      "metadata": {
        "id": "NKHmIYWcRkWp",
        "colab_type": "code",
        "colab": {}
      },
      "source": [
        "search.fit(X_train, y_train)"
      ],
      "execution_count": 0,
      "outputs": []
    },
    {
      "cell_type": "code",
      "metadata": {
        "id": "49CPiJ5ER0sT",
        "colab_type": "code",
        "colab": {}
      },
      "source": [
        "def report(results, n_top=3):\n",
        "    for i in range(1, n_top + 1):\n",
        "        candidates = np.flatnonzero(results['rank_test_score'] == i)\n",
        "        for candidate in candidates:\n",
        "            print(\"Model with rank: {0}\".format(i))\n",
        "            print(\"Mean validation score: {0:.3f} (std: {1:.3f})\".format(\n",
        "                  results['mean_test_score'][candidate],\n",
        "                  results['std_test_score'][candidate]))\n",
        "            print(\"Parameters: {0}\".format(results['params'][candidate]))\n",
        "            print(\"\")"
      ],
      "execution_count": 0,
      "outputs": []
    },
    {
      "cell_type": "code",
      "metadata": {
        "id": "7r3cTxSNR56i",
        "colab_type": "code",
        "outputId": "5a62961e-4c3c-40b4-c611-68525effd93e",
        "colab": {
          "base_uri": "https://localhost:8080/",
          "height": 372
        }
      },
      "source": [
        "report(search.cv_results_)"
      ],
      "execution_count": 0,
      "outputs": [
        {
          "output_type": "stream",
          "text": [
            "Model with rank: 1\n",
            "Mean validation score: 0.559 (std: 0.000)\n",
            "Parameters: {'C': 10, 'gamma': 'auto', 'kernel': 'rbf'}\n",
            "\n",
            "Model with rank: 2\n",
            "Mean validation score: 0.555 (std: 0.000)\n",
            "Parameters: {'C': 1, 'gamma': 'auto', 'kernel': 'rbf'}\n",
            "\n",
            "Model with rank: 3\n",
            "Mean validation score: 0.555 (std: 0.000)\n",
            "Parameters: {'C': 0.001, 'gamma': 'auto', 'kernel': 'rbf'}\n",
            "\n",
            "Model with rank: 3\n",
            "Mean validation score: 0.555 (std: 0.000)\n",
            "Parameters: {'C': 0.01, 'gamma': 'auto', 'kernel': 'rbf'}\n",
            "\n",
            "Model with rank: 3\n",
            "Mean validation score: 0.555 (std: 0.000)\n",
            "Parameters: {'C': 0.1, 'gamma': 'auto', 'kernel': 'rbf'}\n",
            "\n"
          ],
          "name": "stdout"
        }
      ]
    }
  ]
}